{
 "cells": [
  {
   "cell_type": "markdown",
   "id": "3474642f",
   "metadata": {
    "id": "3474642f"
   },
   "source": [
    "# Классификация веб-страниц с помощью BERT"
   ]
  },
  {
   "cell_type": "code",
   "execution_count": 1,
   "id": "u8T4BTUX0SXA",
   "metadata": {
    "colab": {
     "base_uri": "https://localhost:8080/"
    },
    "id": "u8T4BTUX0SXA",
    "outputId": "f6c801e3-966f-4d58-8711-809a222dc312"
   },
   "outputs": [
    {
     "name": "stdout",
     "output_type": "stream",
     "text": [
      "Mounted at /content/drive\n"
     ]
    }
   ],
   "source": [
    "from google.colab import drive\n",
    "drive.mount('/content/drive')"
   ]
  },
  {
   "cell_type": "code",
   "execution_count": 2,
   "id": "Zyepx2nG0cHH",
   "metadata": {
    "colab": {
     "base_uri": "https://localhost:8080/"
    },
    "id": "Zyepx2nG0cHH",
    "outputId": "18d666eb-b187-45f6-fcde-6a50f13c3a03"
   },
   "outputs": [
    {
     "name": "stdout",
     "output_type": "stream",
     "text": [
      "/content/drive/MyDrive/cmc/classif_wp\n"
     ]
    }
   ],
   "source": [
    "cd /content/drive/MyDrive/cmc/classif_wp"
   ]
  },
  {
   "cell_type": "markdown",
   "id": "cd9b1c16",
   "metadata": {
    "id": "cd9b1c16"
   },
   "source": [
    "## Загрузка необходимых модулей"
   ]
  },
  {
   "cell_type": "code",
   "execution_count": 3,
   "id": "94a208b0",
   "metadata": {
    "colab": {
     "base_uri": "https://localhost:8080/"
    },
    "id": "94a208b0",
    "outputId": "b96c5676-d537-4dc8-ff9b-01f2f4b11d5a"
   },
   "outputs": [
    {
     "name": "stdout",
     "output_type": "stream",
     "text": [
      "3.9.16\n"
     ]
    }
   ],
   "source": [
    "from platform import python_version\n",
    "\n",
    "print(python_version())"
   ]
  },
  {
   "cell_type": "code",
   "execution_count": 4,
   "id": "jxYm_es82ZRJ",
   "metadata": {
    "colab": {
     "base_uri": "https://localhost:8080/"
    },
    "id": "jxYm_es82ZRJ",
    "outputId": "68548766-d08c-436b-ebb3-5131c6be5796"
   },
   "outputs": [
    {
     "name": "stdout",
     "output_type": "stream",
     "text": [
      "Looking in indexes: https://pypi.org/simple, https://us-python.pkg.dev/colab-wheels/public/simple/\n",
      "Collecting transformers\n",
      "  Downloading transformers-4.28.0-py3-none-any.whl (7.0 MB)\n",
      "\u001b[2K     \u001b[90m━━━━━━━━━━━━━━━━━━━━━━━━━━━━━━━━━━━━━━━━\u001b[0m \u001b[32m7.0/7.0 MB\u001b[0m \u001b[31m59.6 MB/s\u001b[0m eta \u001b[36m0:00:00\u001b[0m\n",
      "\u001b[?25hRequirement already satisfied: numpy>=1.17 in /usr/local/lib/python3.9/dist-packages (from transformers) (1.22.4)\n",
      "Requirement already satisfied: requests in /usr/local/lib/python3.9/dist-packages (from transformers) (2.27.1)\n",
      "Requirement already satisfied: pyyaml>=5.1 in /usr/local/lib/python3.9/dist-packages (from transformers) (6.0)\n",
      "Requirement already satisfied: regex!=2019.12.17 in /usr/local/lib/python3.9/dist-packages (from transformers) (2022.10.31)\n",
      "Collecting tokenizers!=0.11.3,<0.14,>=0.11.1\n",
      "  Downloading tokenizers-0.13.3-cp39-cp39-manylinux_2_17_x86_64.manylinux2014_x86_64.whl (7.8 MB)\n",
      "\u001b[2K     \u001b[90m━━━━━━━━━━━━━━━━━━━━━━━━━━━━━━━━━━━━━━━━\u001b[0m \u001b[32m7.8/7.8 MB\u001b[0m \u001b[31m101.0 MB/s\u001b[0m eta \u001b[36m0:00:00\u001b[0m\n",
      "\u001b[?25hRequirement already satisfied: tqdm>=4.27 in /usr/local/lib/python3.9/dist-packages (from transformers) (4.65.0)\n",
      "Requirement already satisfied: filelock in /usr/local/lib/python3.9/dist-packages (from transformers) (3.11.0)\n",
      "Requirement already satisfied: packaging>=20.0 in /usr/local/lib/python3.9/dist-packages (from transformers) (23.0)\n",
      "Collecting huggingface-hub<1.0,>=0.11.0\n",
      "  Downloading huggingface_hub-0.13.4-py3-none-any.whl (200 kB)\n",
      "\u001b[2K     \u001b[90m━━━━━━━━━━━━━━━━━━━━━━━━━━━━━━━━━━━━━━\u001b[0m \u001b[32m200.1/200.1 kB\u001b[0m \u001b[31m25.8 MB/s\u001b[0m eta \u001b[36m0:00:00\u001b[0m\n",
      "\u001b[?25hRequirement already satisfied: typing-extensions>=3.7.4.3 in /usr/local/lib/python3.9/dist-packages (from huggingface-hub<1.0,>=0.11.0->transformers) (4.5.0)\n",
      "Requirement already satisfied: idna<4,>=2.5 in /usr/local/lib/python3.9/dist-packages (from requests->transformers) (3.4)\n",
      "Requirement already satisfied: charset-normalizer~=2.0.0 in /usr/local/lib/python3.9/dist-packages (from requests->transformers) (2.0.12)\n",
      "Requirement already satisfied: certifi>=2017.4.17 in /usr/local/lib/python3.9/dist-packages (from requests->transformers) (2022.12.7)\n",
      "Requirement already satisfied: urllib3<1.27,>=1.21.1 in /usr/local/lib/python3.9/dist-packages (from requests->transformers) (1.26.15)\n",
      "Installing collected packages: tokenizers, huggingface-hub, transformers\n",
      "Successfully installed huggingface-hub-0.13.4 tokenizers-0.13.3 transformers-4.28.0\n"
     ]
    }
   ],
   "source": [
    "!pip3 install transformers"
   ]
  },
  {
   "cell_type": "code",
   "execution_count": 5,
   "id": "MLeFXaxW4zvi",
   "metadata": {
    "colab": {
     "base_uri": "https://localhost:8080/"
    },
    "id": "MLeFXaxW4zvi",
    "outputId": "fad4137c-b829-4fb4-c31e-1b5d77bf9e9d"
   },
   "outputs": [
    {
     "name": "stdout",
     "output_type": "stream",
     "text": [
      "Looking in indexes: https://pypi.org/simple, https://us-python.pkg.dev/colab-wheels/public/simple/\n",
      "Collecting Keras-Preprocessing\n",
      "  Downloading Keras_Preprocessing-1.1.2-py2.py3-none-any.whl (42 kB)\n",
      "\u001b[?25l     \u001b[90m━━━━━━━━━━━━━━━━━━━━━━━━━━━━━━━━━━━━━━━━\u001b[0m \u001b[32m0.0/42.6 kB\u001b[0m \u001b[31m?\u001b[0m eta \u001b[36m-:--:--\u001b[0m\r",
      "\u001b[2K     \u001b[90m━━━━━━━━━━━━━━━━━━━━━━━━━━━━━━━━━━━━━━━━\u001b[0m \u001b[32m42.6/42.6 kB\u001b[0m \u001b[31m2.2 MB/s\u001b[0m eta \u001b[36m0:00:00\u001b[0m\n",
      "\u001b[?25hRequirement already satisfied: numpy>=1.9.1 in /usr/local/lib/python3.9/dist-packages (from Keras-Preprocessing) (1.22.4)\n",
      "Requirement already satisfied: six>=1.9.0 in /usr/local/lib/python3.9/dist-packages (from Keras-Preprocessing) (1.16.0)\n",
      "Installing collected packages: Keras-Preprocessing\n",
      "Successfully installed Keras-Preprocessing-1.1.2\n"
     ]
    }
   ],
   "source": [
    "!pip3 install Keras-Preprocessing"
   ]
  },
  {
   "cell_type": "code",
   "execution_count": 6,
   "id": "YZ7gBdHH5C-z",
   "metadata": {
    "colab": {
     "base_uri": "https://localhost:8080/"
    },
    "id": "YZ7gBdHH5C-z",
    "outputId": "3c5a97d7-26d2-48bf-efb3-a94ed608ca04"
   },
   "outputs": [
    {
     "name": "stdout",
     "output_type": "stream",
     "text": [
      "Looking in indexes: https://pypi.org/simple, https://us-python.pkg.dev/colab-wheels/public/simple/\n",
      "Collecting pymorphy3\n",
      "  Downloading pymorphy3-1.2.0-py3-none-any.whl (55 kB)\n",
      "\u001b[?25l     \u001b[90m━━━━━━━━━━━━━━━━━━━━━━━━━━━━━━━━━━━━━━━━\u001b[0m \u001b[32m0.0/55.4 kB\u001b[0m \u001b[31m?\u001b[0m eta \u001b[36m-:--:--\u001b[0m\r",
      "\u001b[2K     \u001b[90m━━━━━━━━━━━━━━━━━━━━━━━━━━━━━━━━━━━━━━━━\u001b[0m \u001b[32m55.4/55.4 kB\u001b[0m \u001b[31m3.1 MB/s\u001b[0m eta \u001b[36m0:00:00\u001b[0m\n",
      "\u001b[?25hCollecting dawg-python>=0.7.1\n",
      "  Downloading DAWG_Python-0.7.2-py2.py3-none-any.whl (11 kB)\n",
      "Collecting docopt>=0.6\n",
      "  Downloading docopt-0.6.2.tar.gz (25 kB)\n",
      "  Preparing metadata (setup.py) ... \u001b[?25l\u001b[?25hdone\n",
      "Collecting pymorphy3-dicts-ru\n",
      "  Downloading pymorphy3_dicts_ru-2.4.417150.4580142-py2.py3-none-any.whl (8.4 MB)\n",
      "\u001b[2K     \u001b[90m━━━━━━━━━━━━━━━━━━━━━━━━━━━━━━━━━━━━━━━━\u001b[0m \u001b[32m8.4/8.4 MB\u001b[0m \u001b[31m57.7 MB/s\u001b[0m eta \u001b[36m0:00:00\u001b[0m\n",
      "\u001b[?25hBuilding wheels for collected packages: docopt\n",
      "  Building wheel for docopt (setup.py) ... \u001b[?25l\u001b[?25hdone\n",
      "  Created wheel for docopt: filename=docopt-0.6.2-py2.py3-none-any.whl size=13721 sha256=dffe3f6c200fe21ada9519737763f5cdebfcf1bd44dc882e7bee624fc46f2d2f\n",
      "  Stored in directory: /root/.cache/pip/wheels/70/4a/46/1309fc853b8d395e60bafaf1b6df7845bdd82c95fd59dd8d2b\n",
      "Successfully built docopt\n",
      "Installing collected packages: pymorphy3-dicts-ru, docopt, dawg-python, pymorphy3\n",
      "Successfully installed dawg-python-0.7.2 docopt-0.6.2 pymorphy3-1.2.0 pymorphy3-dicts-ru-2.4.417150.4580142\n"
     ]
    }
   ],
   "source": [
    "!pip3 install pymorphy3"
   ]
  },
  {
   "cell_type": "code",
   "execution_count": 7,
   "id": "z5th5Y1U_dZv",
   "metadata": {
    "colab": {
     "base_uri": "https://localhost:8080/"
    },
    "id": "z5th5Y1U_dZv",
    "outputId": "181890ba-8010-494d-a1d8-95995f49191e"
   },
   "outputs": [
    {
     "name": "stdout",
     "output_type": "stream",
     "text": [
      "Looking in indexes: https://pypi.org/simple, https://us-python.pkg.dev/colab-wheels/public/simple/\n",
      "Collecting fastBPE\n",
      "  Downloading fastBPE-0.1.0.tar.gz (35 kB)\n",
      "  Preparing metadata (setup.py) ... \u001b[?25l\u001b[?25hdone\n",
      "Collecting sacremoses\n",
      "  Downloading sacremoses-0.0.53.tar.gz (880 kB)\n",
      "\u001b[2K     \u001b[90m━━━━━━━━━━━━━━━━━━━━━━━━━━━━━━━━━━━━━━\u001b[0m \u001b[32m880.6/880.6 kB\u001b[0m \u001b[31m18.9 MB/s\u001b[0m eta \u001b[36m0:00:00\u001b[0m\n",
      "\u001b[?25h  Preparing metadata (setup.py) ... \u001b[?25l\u001b[?25hdone\n",
      "Collecting subword_nmt\n",
      "  Downloading subword_nmt-0.3.8-py3-none-any.whl (27 kB)\n",
      "Requirement already satisfied: regex in /usr/local/lib/python3.9/dist-packages (from sacremoses) (2022.10.31)\n",
      "Requirement already satisfied: six in /usr/local/lib/python3.9/dist-packages (from sacremoses) (1.16.0)\n",
      "Requirement already satisfied: click in /usr/local/lib/python3.9/dist-packages (from sacremoses) (8.1.3)\n",
      "Requirement already satisfied: joblib in /usr/local/lib/python3.9/dist-packages (from sacremoses) (1.2.0)\n",
      "Requirement already satisfied: tqdm in /usr/local/lib/python3.9/dist-packages (from sacremoses) (4.65.0)\n",
      "Collecting mock\n",
      "  Downloading mock-5.0.1-py3-none-any.whl (30 kB)\n",
      "Building wheels for collected packages: fastBPE, sacremoses\n",
      "  Building wheel for fastBPE (setup.py) ... \u001b[?25l\u001b[?25hdone\n",
      "  Created wheel for fastBPE: filename=fastBPE-0.1.0-cp39-cp39-linux_x86_64.whl size=762583 sha256=bf8829789ee48f4d8199c2b36957bf46caf4815c5029002a32d4caaa433c381a\n",
      "  Stored in directory: /root/.cache/pip/wheels/e1/10/20/0691b69b472ff8530a7e608674d5bd1cbc772f4d6071c8accf\n",
      "  Building wheel for sacremoses (setup.py) ... \u001b[?25l\u001b[?25hdone\n",
      "  Created wheel for sacremoses: filename=sacremoses-0.0.53-py3-none-any.whl size=895259 sha256=c276ea74e56b2197d718fe97d24319390db5d39e4e9ba3ad650501e568288c4d\n",
      "  Stored in directory: /root/.cache/pip/wheels/12/1c/3d/46cf06718d63a32ff798a89594b61e7f345ab6b36d909ce033\n",
      "Successfully built fastBPE sacremoses\n",
      "Installing collected packages: fastBPE, sacremoses, mock, subword_nmt\n",
      "Successfully installed fastBPE-0.1.0 mock-5.0.1 sacremoses-0.0.53 subword_nmt-0.3.8\n"
     ]
    }
   ],
   "source": [
    "!pip3 install fastBPE sacremoses subword_nmt"
   ]
  },
  {
   "cell_type": "code",
   "execution_count": 8,
   "id": "_nZ_F_Tn_qmJ",
   "metadata": {
    "colab": {
     "base_uri": "https://localhost:8080/"
    },
    "id": "_nZ_F_Tn_qmJ",
    "outputId": "cc2dfe9e-d210-47fd-9654-9f940008d46e"
   },
   "outputs": [
    {
     "name": "stdout",
     "output_type": "stream",
     "text": [
      "Looking in indexes: https://pypi.org/simple, https://us-python.pkg.dev/colab-wheels/public/simple/\n",
      "Collecting sentencepiece\n",
      "  Downloading sentencepiece-0.1.98-cp39-cp39-manylinux_2_17_x86_64.manylinux2014_x86_64.whl (1.3 MB)\n",
      "\u001b[2K     \u001b[90m━━━━━━━━━━━━━━━━━━━━━━━━━━━━━━━━━━━━━━━━\u001b[0m \u001b[32m1.3/1.3 MB\u001b[0m \u001b[31m19.1 MB/s\u001b[0m eta \u001b[36m0:00:00\u001b[0m\n",
      "\u001b[?25hInstalling collected packages: sentencepiece\n",
      "Successfully installed sentencepiece-0.1.98\n"
     ]
    }
   ],
   "source": [
    "!pip3 install sentencepiece"
   ]
  },
  {
   "cell_type": "code",
   "execution_count": 9,
   "id": "DpQzADbaB-55",
   "metadata": {
    "colab": {
     "base_uri": "https://localhost:8080/"
    },
    "id": "DpQzADbaB-55",
    "outputId": "4c7861fb-179c-48d5-8ba6-4f2e5313cd35"
   },
   "outputs": [
    {
     "name": "stdout",
     "output_type": "stream",
     "text": [
      "Looking in indexes: https://pypi.org/simple, https://us-python.pkg.dev/colab-wheels/public/simple/\n",
      "Collecting torch-optimizer\n",
      "  Downloading torch_optimizer-0.3.0-py3-none-any.whl (61 kB)\n",
      "\u001b[2K     \u001b[90m━━━━━━━━━━━━━━━━━━━━━━━━━━━━━━━━━━━━━━━━\u001b[0m \u001b[32m61.9/61.9 kB\u001b[0m \u001b[31m3.1 MB/s\u001b[0m eta \u001b[36m0:00:00\u001b[0m\n",
      "\u001b[?25hCollecting pytorch-ranger>=0.1.1\n",
      "  Downloading pytorch_ranger-0.1.1-py3-none-any.whl (14 kB)\n",
      "Requirement already satisfied: torch>=1.5.0 in /usr/local/lib/python3.9/dist-packages (from torch-optimizer) (2.0.0+cu118)\n",
      "Requirement already satisfied: jinja2 in /usr/local/lib/python3.9/dist-packages (from torch>=1.5.0->torch-optimizer) (3.1.2)\n",
      "Requirement already satisfied: filelock in /usr/local/lib/python3.9/dist-packages (from torch>=1.5.0->torch-optimizer) (3.11.0)\n",
      "Requirement already satisfied: sympy in /usr/local/lib/python3.9/dist-packages (from torch>=1.5.0->torch-optimizer) (1.11.1)\n",
      "Requirement already satisfied: triton==2.0.0 in /usr/local/lib/python3.9/dist-packages (from torch>=1.5.0->torch-optimizer) (2.0.0)\n",
      "Requirement already satisfied: networkx in /usr/local/lib/python3.9/dist-packages (from torch>=1.5.0->torch-optimizer) (3.1)\n",
      "Requirement already satisfied: typing-extensions in /usr/local/lib/python3.9/dist-packages (from torch>=1.5.0->torch-optimizer) (4.5.0)\n",
      "Requirement already satisfied: lit in /usr/local/lib/python3.9/dist-packages (from triton==2.0.0->torch>=1.5.0->torch-optimizer) (16.0.1)\n",
      "Requirement already satisfied: cmake in /usr/local/lib/python3.9/dist-packages (from triton==2.0.0->torch>=1.5.0->torch-optimizer) (3.25.2)\n",
      "Requirement already satisfied: MarkupSafe>=2.0 in /usr/local/lib/python3.9/dist-packages (from jinja2->torch>=1.5.0->torch-optimizer) (2.1.2)\n",
      "Requirement already satisfied: mpmath>=0.19 in /usr/local/lib/python3.9/dist-packages (from sympy->torch>=1.5.0->torch-optimizer) (1.3.0)\n",
      "Installing collected packages: pytorch-ranger, torch-optimizer\n",
      "Successfully installed pytorch-ranger-0.1.1 torch-optimizer-0.3.0\n"
     ]
    }
   ],
   "source": [
    "!pip3 install torch-optimizer"
   ]
  },
  {
   "cell_type": "code",
   "execution_count": 10,
   "id": "51731bf6",
   "metadata": {
    "id": "51731bf6"
   },
   "outputs": [],
   "source": [
    "import pandas as pd\n",
    "from tqdm import tqdm\n",
    "import nltk\n",
    "import collections\n",
    "import os\n",
    "import time\n",
    "import random\n",
    "from keras_preprocessing.sequence import pad_sequences\n",
    "from nltk.tokenize import word_tokenize\n",
    "import matplotlib.pyplot as plt\n",
    "import collections\n",
    "import pymorphy3\n",
    "import numpy as np\n",
    "import re\n",
    "from sklearn.model_selection import train_test_split\n",
    "import torch\n",
    "import torch_optimizer as optim\n",
    "from torch.utils.data import (TensorDataset,\n",
    "                              DataLoader,\n",
    "                              RandomSampler, SequentialSampler)\n",
    "\n",
    "from transformers import AutoConfig, AutoModelForSequenceClassification\n",
    "from transformers import AutoTokenizer\n",
    "from transformers import AdamW\n",
    "from sklearn.metrics import classification_report, f1_score, confusion_matrix\n",
    "import nltk"
   ]
  },
  {
   "cell_type": "code",
   "execution_count": 11,
   "id": "PZWjsvOk6gKi",
   "metadata": {
    "colab": {
     "base_uri": "https://localhost:8080/"
    },
    "id": "PZWjsvOk6gKi",
    "outputId": "ddd26554-9677-4bc2-957d-751f9937aa1f"
   },
   "outputs": [
    {
     "name": "stderr",
     "output_type": "stream",
     "text": [
      "[nltk_data] Downloading package punkt to /root/nltk_data...\n",
      "[nltk_data]   Unzipping tokenizers/punkt.zip.\n"
     ]
    },
    {
     "data": {
      "text/plain": [
       "True"
      ]
     },
     "execution_count": 11,
     "metadata": {},
     "output_type": "execute_result"
    }
   ],
   "source": [
    "nltk.download('punkt')"
   ]
  },
  {
   "cell_type": "code",
   "execution_count": 12,
   "id": "208fe13f",
   "metadata": {
    "id": "208fe13f"
   },
   "outputs": [],
   "source": [
    "file = open(\"data/stop_words_russian.txt\", \"r\")\n",
    "stop_words = file.read().splitlines()"
   ]
  },
  {
   "cell_type": "code",
   "execution_count": 13,
   "id": "9ea2b46d",
   "metadata": {
    "id": "9ea2b46d"
   },
   "outputs": [],
   "source": [
    "morph = pymorphy3.MorphAnalyzer()"
   ]
  },
  {
   "cell_type": "code",
   "execution_count": 14,
   "id": "d51f0e6f",
   "metadata": {
    "id": "d51f0e6f"
   },
   "outputs": [],
   "source": [
    "tqdm.pandas()"
   ]
  },
  {
   "cell_type": "code",
   "execution_count": 15,
   "id": "1aa226fc",
   "metadata": {
    "id": "1aa226fc"
   },
   "outputs": [],
   "source": [
    "def set_seed(seed):\n",
    "    random.seed(seed)\n",
    "    np.random.seed(seed)\n",
    "    os.environ[\"PYTHONHASHSEED\"] = str(seed)\n",
    "    torch.manual_seed(seed)\n",
    "    torch.cuda.manual_seed(seed)\n",
    "    torch.cuda.manual_seed_all(seed)\n",
    "    torch.backends.cudnn.deterministic = True\n",
    "    torch.backends.cudnn.benchmark = False\n",
    "set_seed(42)"
   ]
  },
  {
   "cell_type": "code",
   "execution_count": 16,
   "id": "4de87e18",
   "metadata": {
    "colab": {
     "base_uri": "https://localhost:8080/"
    },
    "id": "4de87e18",
    "outputId": "da53dffd-b0ba-4228-fc6f-c700af746845"
   },
   "outputs": [
    {
     "data": {
      "text/plain": [
       "device(type='cuda')"
      ]
     },
     "execution_count": 16,
     "metadata": {},
     "output_type": "execute_result"
    }
   ],
   "source": [
    "device = torch.device('cuda' if torch.cuda.is_available() else 'cpu')\n",
    "\n",
    "device"
   ]
  },
  {
   "cell_type": "markdown",
   "id": "17162948",
   "metadata": {
    "id": "17162948"
   },
   "source": [
    "## Загрузка датасета"
   ]
  },
  {
   "cell_type": "code",
   "execution_count": 17,
   "id": "d1c2c04d",
   "metadata": {
    "colab": {
     "base_uri": "https://localhost:8080/"
    },
    "id": "d1c2c04d",
    "outputId": "8075460d-ab5e-49b9-a02f-580bb28c250e"
   },
   "outputs": [
    {
     "data": {
      "text/plain": [
       "(13864, 2)"
      ]
     },
     "execution_count": 17,
     "metadata": {},
     "output_type": "execute_result"
    }
   ],
   "source": [
    "df = pd.read_csv('datasets/foss/merge_augment_syn_swap_trnl.csv', index_col=0)\n",
    "df.shape"
   ]
  },
  {
   "cell_type": "code",
   "execution_count": 18,
   "id": "TIunRVa3NJTt",
   "metadata": {
    "colab": {
     "base_uri": "https://localhost:8080/"
    },
    "id": "TIunRVa3NJTt",
    "outputId": "e9775dfe-e77c-4c90-b2d3-b4fbe31412e2"
   },
   "outputs": [
    {
     "data": {
      "text/plain": [
       "(13861, 2)"
      ]
     },
     "execution_count": 18,
     "metadata": {},
     "output_type": "execute_result"
    }
   ],
   "source": [
    "df['document'].replace('', np.nan, inplace=True)\n",
    "df = df.dropna().reset_index(drop=True)\n",
    "df.shape"
   ]
  },
  {
   "cell_type": "code",
   "execution_count": 19,
   "id": "b1a719d8",
   "metadata": {
    "colab": {
     "base_uri": "https://localhost:8080/",
     "height": 142
    },
    "id": "b1a719d8",
    "outputId": "5331268a-9486-4a0e-912b-6bfc12400057"
   },
   "outputs": [
    {
     "data": {
      "text/html": [
       "\n",
       "  <div id=\"df-de23e4d9-076c-4930-a4aa-8167f825deaf\">\n",
       "    <div class=\"colab-df-container\">\n",
       "      <div>\n",
       "<style scoped>\n",
       "    .dataframe tbody tr th:only-of-type {\n",
       "        vertical-align: middle;\n",
       "    }\n",
       "\n",
       "    .dataframe tbody tr th {\n",
       "        vertical-align: top;\n",
       "    }\n",
       "\n",
       "    .dataframe thead th {\n",
       "        text-align: right;\n",
       "    }\n",
       "</style>\n",
       "<table border=\"1\" class=\"dataframe\">\n",
       "  <thead>\n",
       "    <tr style=\"text-align: right;\">\n",
       "      <th></th>\n",
       "      <th>document</th>\n",
       "      <th>category</th>\n",
       "    </tr>\n",
       "  </thead>\n",
       "  <tbody>\n",
       "    <tr>\n",
       "      <th>11445</th>\n",
       "      <td>После пяти лет разработки представлен выпуск д...</td>\n",
       "      <td>SYSADM</td>\n",
       "    </tr>\n",
       "    <tr>\n",
       "      <th>7612</th>\n",
       "      <td>Postman - это очень популярная среди разработч...</td>\n",
       "      <td>DEV</td>\n",
       "    </tr>\n",
       "    <tr>\n",
       "      <th>4477</th>\n",
       "      <td>Открытый модификация Salesforce исследования R...</td>\n",
       "      <td>OPENING</td>\n",
       "    </tr>\n",
       "  </tbody>\n",
       "</table>\n",
       "</div>\n",
       "      <button class=\"colab-df-convert\" onclick=\"convertToInteractive('df-de23e4d9-076c-4930-a4aa-8167f825deaf')\"\n",
       "              title=\"Convert this dataframe to an interactive table.\"\n",
       "              style=\"display:none;\">\n",
       "        \n",
       "  <svg xmlns=\"http://www.w3.org/2000/svg\" height=\"24px\"viewBox=\"0 0 24 24\"\n",
       "       width=\"24px\">\n",
       "    <path d=\"M0 0h24v24H0V0z\" fill=\"none\"/>\n",
       "    <path d=\"M18.56 5.44l.94 2.06.94-2.06 2.06-.94-2.06-.94-.94-2.06-.94 2.06-2.06.94zm-11 1L8.5 8.5l.94-2.06 2.06-.94-2.06-.94L8.5 2.5l-.94 2.06-2.06.94zm10 10l.94 2.06.94-2.06 2.06-.94-2.06-.94-.94-2.06-.94 2.06-2.06.94z\"/><path d=\"M17.41 7.96l-1.37-1.37c-.4-.4-.92-.59-1.43-.59-.52 0-1.04.2-1.43.59L10.3 9.45l-7.72 7.72c-.78.78-.78 2.05 0 2.83L4 21.41c.39.39.9.59 1.41.59.51 0 1.02-.2 1.41-.59l7.78-7.78 2.81-2.81c.8-.78.8-2.07 0-2.86zM5.41 20L4 18.59l7.72-7.72 1.47 1.35L5.41 20z\"/>\n",
       "  </svg>\n",
       "      </button>\n",
       "      \n",
       "  <style>\n",
       "    .colab-df-container {\n",
       "      display:flex;\n",
       "      flex-wrap:wrap;\n",
       "      gap: 12px;\n",
       "    }\n",
       "\n",
       "    .colab-df-convert {\n",
       "      background-color: #E8F0FE;\n",
       "      border: none;\n",
       "      border-radius: 50%;\n",
       "      cursor: pointer;\n",
       "      display: none;\n",
       "      fill: #1967D2;\n",
       "      height: 32px;\n",
       "      padding: 0 0 0 0;\n",
       "      width: 32px;\n",
       "    }\n",
       "\n",
       "    .colab-df-convert:hover {\n",
       "      background-color: #E2EBFA;\n",
       "      box-shadow: 0px 1px 2px rgba(60, 64, 67, 0.3), 0px 1px 3px 1px rgba(60, 64, 67, 0.15);\n",
       "      fill: #174EA6;\n",
       "    }\n",
       "\n",
       "    [theme=dark] .colab-df-convert {\n",
       "      background-color: #3B4455;\n",
       "      fill: #D2E3FC;\n",
       "    }\n",
       "\n",
       "    [theme=dark] .colab-df-convert:hover {\n",
       "      background-color: #434B5C;\n",
       "      box-shadow: 0px 1px 3px 1px rgba(0, 0, 0, 0.15);\n",
       "      filter: drop-shadow(0px 1px 2px rgba(0, 0, 0, 0.3));\n",
       "      fill: #FFFFFF;\n",
       "    }\n",
       "  </style>\n",
       "\n",
       "      <script>\n",
       "        const buttonEl =\n",
       "          document.querySelector('#df-de23e4d9-076c-4930-a4aa-8167f825deaf button.colab-df-convert');\n",
       "        buttonEl.style.display =\n",
       "          google.colab.kernel.accessAllowed ? 'block' : 'none';\n",
       "\n",
       "        async function convertToInteractive(key) {\n",
       "          const element = document.querySelector('#df-de23e4d9-076c-4930-a4aa-8167f825deaf');\n",
       "          const dataTable =\n",
       "            await google.colab.kernel.invokeFunction('convertToInteractive',\n",
       "                                                     [key], {});\n",
       "          if (!dataTable) return;\n",
       "\n",
       "          const docLinkHtml = 'Like what you see? Visit the ' +\n",
       "            '<a target=\"_blank\" href=https://colab.research.google.com/notebooks/data_table.ipynb>data table notebook</a>'\n",
       "            + ' to learn more about interactive tables.';\n",
       "          element.innerHTML = '';\n",
       "          dataTable['output_type'] = 'display_data';\n",
       "          await google.colab.output.renderOutput(dataTable, element);\n",
       "          const docLink = document.createElement('div');\n",
       "          docLink.innerHTML = docLinkHtml;\n",
       "          element.appendChild(docLink);\n",
       "        }\n",
       "      </script>\n",
       "    </div>\n",
       "  </div>\n",
       "  "
      ],
      "text/plain": [
       "                                                document category\n",
       "11445  После пяти лет разработки представлен выпуск д...   SYSADM\n",
       "7612   Postman - это очень популярная среди разработч...      DEV\n",
       "4477   Открытый модификация Salesforce исследования R...  OPENING"
      ]
     },
     "execution_count": 19,
     "metadata": {},
     "output_type": "execute_result"
    }
   ],
   "source": [
    "df.sample(3)"
   ]
  },
  {
   "cell_type": "code",
   "execution_count": 20,
   "id": "abe6820a",
   "metadata": {
    "colab": {
     "base_uri": "https://localhost:8080/",
     "height": 473
    },
    "id": "abe6820a",
    "outputId": "13ea2b52-2f5b-4e5e-9cc0-382d2d737b0f"
   },
   "outputs": [
    {
     "data": {
      "image/png": "[encoded data removed]",
      "text/plain": [
       "<Figure size 640x480 with 1 Axes>"
      ]
     },
     "metadata": {},
     "output_type": "display_data"
    }
   ],
   "source": [
    "fig, ax = plt.subplots()\n",
    "fig.suptitle(\"Частота меток\", y=0.93)\n",
    "df['category'].reset_index().groupby('category').count().sort_values(by= \n",
    "       'index').plot(kind='barh', legend=False, \n",
    "        ax=ax).grid(axis='x')\n",
    "        \n",
    "ax.set_xlabel('count')\n",
    "ax.set_ylabel('category')\n",
    "#fig.savefig('category_count.pdf', bbox_inches='tight')\n",
    "fig.show()"
   ]
  },
  {
   "cell_type": "code",
   "execution_count": 21,
   "id": "3dfded7c",
   "metadata": {
    "id": "3dfded7c"
   },
   "outputs": [],
   "source": [
    "# преобразование нечисловых меток в числовые метки, а также их реверс, который понадобится после обучения\n",
    "category_index = {i[1]:i[0] for i in enumerate(df.category.unique())}\n",
    "reverse_category_index = {i[0]:i[1] for i in enumerate(df.category.unique())}"
   ]
  },
  {
   "cell_type": "code",
   "execution_count": 22,
   "id": "c151023a",
   "metadata": {
    "colab": {
     "base_uri": "https://localhost:8080/"
    },
    "id": "c151023a",
    "outputId": "1048aac1-0477-42ce-a703-35032839512e"
   },
   "outputs": [
    {
     "data": {
      "text/plain": [
       "{'SPECIAL': 0,\n",
       " 'USER': 1,\n",
       " 'SYSADM': 2,\n",
       " 'WEB': 3,\n",
       " 'SECURITY': 4,\n",
       " 'DATA_SCIENCE': 5,\n",
       " 'MULTIMEDIA': 6,\n",
       " 'OPENING': 7,\n",
       " 'MISC': 8,\n",
       " 'MOBILE': 9,\n",
       " 'ORG': 10,\n",
       " 'HISTORY': 11,\n",
       " 'DEVOPS': 12,\n",
       " 'MANAGEMENT': 13,\n",
       " 'MESSENGERS': 14,\n",
       " 'DATABASES': 15,\n",
       " 'LAW': 16,\n",
       " 'EDUCATION': 17,\n",
       " 'GAMES': 18,\n",
       " 'HARDWARE': 19,\n",
       " 'EVENTS': 20,\n",
       " 'DIY': 21,\n",
       " 'INTROS': 22,\n",
       " 'KnD': 23,\n",
       " 'DEV': 24}"
      ]
     },
     "execution_count": 22,
     "metadata": {},
     "output_type": "execute_result"
    }
   ],
   "source": [
    "category_index"
   ]
  },
  {
   "cell_type": "code",
   "execution_count": 23,
   "id": "a29aa3c0",
   "metadata": {
    "id": "a29aa3c0"
   },
   "outputs": [],
   "source": [
    "labels = [category_index[i] for i in df.category.values]"
   ]
  },
  {
   "cell_type": "code",
   "execution_count": 24,
   "id": "d65bd062",
   "metadata": {
    "colab": {
     "base_uri": "https://localhost:8080/"
    },
    "id": "d65bd062",
    "outputId": "2a363b3b-0fa3-4b8a-fba3-cb0d32f766ee"
   },
   "outputs": [
    {
     "data": {
      "text/plain": [
       "('ставить ic внутренний sd карту воспоминание микропроцессор остаться flash свободной микропроцессор памяти семейства stmh снабжены двумя банка суверенный памяти flash удобно одном банка иметься другом аппаратный код временной сведение перезаписываться внутренней делать flash аналогия eeprom сравнительно неплохой написано апноуте st уровня некоторого храниться системность встроить данные именованных файлах жёсткий удобнее структурах -файл реюзинг упрощаться поддержку облегчить преемственности перк версие файлы даунгрейды освобождают размещений хлопот координация флеш-память разруливанием конфликтов размещения блочный сервис разрабатываются модули такой обособленно системе файловой хранить различный комбинация версии характеристика устройства сертификаты различный ключи сервисам диагностические кэширование облачным аварийные временные файлы стандартные -файл энергоресурс буква глиф hmi утилит стилистика страничка web проч являться одномерный система относить файловая журналируемых класса операционный знаменитый системы блещут оптимальный сравнительно быстротой объём большой памяти свойственный крайне малая озу нужда малый диаметр кода сравнительная простота своей сущность одномерный файловые обеспечить системы неравномерный износ необходимый flash дополнительный программный fat слоёв ftl аэродром продолжение nand становление проекта оплата открытого контроллера запасной питания backpman началась написано проектирование backpman движение идет наращивания пути интерфейс поэтому являться последний проект патетический названием продолжением example является проекта некоторым example манифестация рефакторингом линейной файловой системы расшифровывается stfs префикс упомянуть сорсах выше st апноут деле угловато аудиозапись основной записать встречать байтными словами называться тэгом адресо интерактивный делать сохранить структуры выровненные модуль неясно модификация записывать flash фиксированным препроцессор адресо обеспечивая упаковку бесконфликтную усложнить организовать обратимый смещение перезаписи выравниваться сектору flash износ зачатки появиться api естественным форма прийти мысль файловой абстрагирование шажок остаться реализации api обычную моделировать систему операционный источником квинтэссенция служить файловая система атмосфера keil spi аскетично flash нет содействие предыдущих описано rtos статьях портирование rtos azure использует stfs контент этой rtos любая система файловая stfs предоставить жёсткий внедрить детерминизма поэтому цель среду жёсткий реальным временем приходится применять rtos количество контент требовать файловой большой системе rtos портирование другую операционку вызвать вопрос семейства специфика stmh отсутствие является система контроля исправления целостности внутренней блоков flash памяти зонирование flash мыть сравнительно большого секторы размера конкретно stmhvih блоки цельные размер имеют максимальный байта стираемые секторы кбайт записывать одный flash байта итерацию модуль называемыми flash word одно строчка следующий стирать размывание кбайт блоками пытаться повторно записать чтото flash бит он переменить байтный байт блок запись который придется низкий обозначен системой вероятностью сбойный последующее чтений границах блока вызвать неточность покрышка доступа звонок busfault большинство которое ход нарушить выполнения программы поведение никак записи отключить байт ошибочный системе станет недоступным блок flash байта памяти диаметр невозможно читать помощью внутренней отладочного программой переходник содержаться стерть сектор кбайт блок указать препятствует ограничения применение файловых механизм подтип spiffs специфический littlefs требуется подход техника сложный секторы размером последовательно памяти окб записываются данные файлов каждый файлов открытии запись фиксирование данных закрытии файлов создавать записываются файл сектор данные пишутся файлов нижней границы отрасль дескрипторы пишутся нижний границы сектора показать рисунке данные дескрипторы расходиться одной плоскость запись переносить сектор следующий файл flash имеет размер байта состоит байта половин позволяет записывать дескрипторы границе выравниваться байтного word flash ровно соответствующего размера создавать дескриптор -файл записывается закрывать -файл требуется надежно зафиксировать файла данные закрываться придется вызвать правило функционал stfsflush создан дескриптор дескриптор валидирует навсегда данные питания потеряны отключение файлов удалении размываться дескрипторы файлов записывается тег удаленных остаются отрасль удалённый он файла гарантированно сектора стирается заполнить частично вперемежку остаться удаленные существует актуальные файлы дефрагментации актуальные выносить дефрагментирует группу файлы стирая секторов освободившиеся 128-битный сектора линейная среды azure многозадачная rtos адаптированная батное flash размер word количество секторов произвольное гряда назначается секторов стадия поиски компилятор поддержка файлов фамилия шаблону создания порядку количество параллельно открытых чтение файлов произвольное определяется количество этапе компиляции одновременно открытых файлов превысить запись количества некие секторов видно ограничения сравнению fat той другой стороны встраиваемого софта малых систем инициализация файловой инициализирует системы загрузчик flash целостность проверить форматирует нарушена целостность поиск файла интерактивный диске символьный шаблону информация получение файле поиск файла виртуальном поздний получение диске сведений файле целостности проверка файловой системы диске виртуальном сведение получение опробовать системе файловой конкретный железе мышление системы неудобнопоэтому написана программа авиасимулятор windows программа включает исходники трудовой stfs версия микропроцессор слой загрузчик flash заменить памяти эмуляцию разведывательный памяти ноутбук строго эмулятор ограничения проверяет размеру записываемых сглаживание данных непорочность приоритетный записи обловек создаваться тестовой записи считывания файлов проверкой регулярной кэширование невозможность целостности записи считывания производятся предпосылка электрогенератор неслучайный количество й каждый файл имитации удаляется агрегация дефрагментация удается прерывать тест выпускаться регрессионный удаление младший файлов симулятор легко проводит миллиард итераций простой неминуемые flash вызвало вопрос изношенность количество итераций оправдать неточность поиске сильно зарыть мышление файловой системы заметно помогло отладкесимулятор накапливает овраг котором просмотреть предыстория прохождения тестов симулятор среде написан embarcadero rad studio скомпилируется alexandria легко ранних версиях использует поскольку минимальный набор компонентов стандартных подойдет триальная версия износе выше писал выравнивание износа одномерный присуще fs показала неслучайный моделирование струя записей перемещение кэширование видно буква порядка предельный жизненный цикать размыт flash несовпадение буква требуется приблизительный напомнить stmh система работает исправления одиночных ошибок flash двойных предупреждения ошибках клиент имеет дополнительную возможность проактивно износ среагировать прикладном своем ускорение коде записи файл колеблться граница секунду кбайт цифра характерный nor памяти плохой приходится ожидать отметить ложечка неплохую дёготь вносит стирания дефрагментация сектора затянуться секуть учитывать идти чтение мбайт скоростью довольно секунду',\n",
       " 'SPECIAL')"
      ]
     },
     "execution_count": 24,
     "metadata": {},
     "output_type": "execute_result"
    }
   ],
   "source": [
    "df['document'][6], df['category'][6]"
   ]
  },
  {
   "cell_type": "markdown",
   "id": "e046ced1",
   "metadata": {
    "id": "e046ced1"
   },
   "source": [
    "## Предварительная обработка данных"
   ]
  },
  {
   "cell_type": "code",
   "execution_count": 25,
   "id": "1d74e860",
   "metadata": {
    "id": "1d74e860"
   },
   "outputs": [],
   "source": [
    "def normalize_text(text):\n",
    "    # приведение к нижнему регистру \n",
    "    lower_result = text.lower()\n",
    "    # удаление url-адресов\n",
    "    non_links_result = re.sub(r\"\\S*https?:\\S*\", \"\", lower_result)\n",
    "    # удаление emails\n",
    "    non_emails_result = re.sub(r\"\\S*@\\S*\\s?\", \"\", non_links_result)\n",
    "    # удаление цифр\n",
    "    non_numeric_result = ''.join([i for i in non_emails_result if not i.isdigit()])\n",
    "    # удаление пунктуации и специальных символов\n",
    "    non_punc_result = ''.join(filter(lambda mark: ord(mark) == 774 or mark.isalnum() or mark.isspace(), non_numeric_result)).strip()\n",
    "    # удаление лишних пробелов\n",
    "    non_space_result = re.sub(r\" +\", \" \", non_punc_result)\n",
    "    # удаление лишних абзацев\n",
    "    paragraph_list = non_space_result.split('\\n')\n",
    "    text = '\\n'.join([p for p in paragraph_list if not p.count(' ') < 10])\n",
    "    # удаление стоп-слов и длинных слов\n",
    "    text_tokens = word_tokenize(text)\n",
    "    #without_stop_word_tokens = [word for word in text_tokens if not word in stop_words]\n",
    "    #without_long_tokens = [word for word in without_stop_word_tokens if len(word) <= 18]\n",
    "    without_long_tokens = [word for word in text_tokens if len(word) <= 18]\n",
    "    without_short_tokens = [word for word in without_long_tokens if len(word) >= 2]\n",
    "    # лемматизация слов\n",
    "    #lemmatize_result = [morph.parse(word)[0].normal_form for word in without_short_tokens]\n",
    "    #filtered_text = (\" \").join(lemmatize_result)\n",
    "    \n",
    "    return (\" \").join(without_short_tokens) "
   ]
  },
  {
   "cell_type": "code",
   "execution_count": 26,
   "id": "b598be6a",
   "metadata": {
    "colab": {
     "base_uri": "https://localhost:8080/"
    },
    "id": "b598be6a",
    "outputId": "fdc69801-4fa6-45dd-95e7-e4573f9e95c7"
   },
   "outputs": [
    {
     "name": "stderr",
     "output_type": "stream",
     "text": [
      "100%|██████████| 13861/13861 [02:09<00:00, 106.91it/s]\n"
     ]
    }
   ],
   "source": [
    "texts = df['document'].progress_apply(normalize_text)"
   ]
  },
  {
   "cell_type": "code",
   "execution_count": 27,
   "id": "894edd17",
   "metadata": {
    "colab": {
     "base_uri": "https://localhost:8080/"
    },
    "id": "894edd17",
    "outputId": "5029f41a-0764-447a-9b5e-c10dfcb2ed2e"
   },
   "outputs": [
    {
     "data": {
      "text/plain": [
       "('ставить ic внутренний sd карту воспоминание микропроцессор остаться flash свободной микропроцессор памяти семейства stmh снабжены двумя банка суверенный памяти flash удобно одном банка иметься другом аппаратный код временной сведение перезаписываться внутренней делать flash аналогия eeprom сравнительно неплохой написано апноуте st уровня некоторого храниться системность встроить данные именованных файлах жёсткий удобнее структурах файл реюзинг упрощаться поддержку облегчить преемственности перк версие файлы даунгрейды освобождают размещений хлопот координация флешпамять разруливанием конфликтов размещения блочный сервис разрабатываются модули такой обособленно системе файловой хранить различный комбинация версии характеристика устройства сертификаты различный ключи сервисам диагностические кэширование облачным аварийные временные файлы стандартные файл энергоресурс буква глиф hmi утилит стилистика страничка web проч являться одномерный система относить файловая журналируемых класса операционный знаменитый системы блещут оптимальный сравнительно быстротой объём большой памяти свойственный крайне малая озу нужда малый диаметр кода сравнительная простота своей сущность одномерный файловые обеспечить системы неравномерный износ необходимый flash дополнительный программный fat слоёв ftl аэродром продолжение nand становление проекта оплата открытого контроллера запасной питания backpman началась написано проектирование backpman движение идет наращивания пути интерфейс поэтому являться последний проект патетический названием продолжением example является проекта некоторым example манифестация рефакторингом линейной файловой системы расшифровывается stfs префикс упомянуть сорсах выше st апноут деле угловато аудиозапись основной записать встречать байтными словами называться тэгом адресо интерактивный делать сохранить структуры выровненные модуль неясно модификация записывать flash фиксированным препроцессор адресо обеспечивая упаковку бесконфликтную усложнить организовать обратимый смещение перезаписи выравниваться сектору flash износ зачатки появиться api естественным форма прийти мысль файловой абстрагирование шажок остаться реализации api обычную моделировать систему операционный источником квинтэссенция служить файловая система атмосфера keil spi аскетично flash нет содействие предыдущих описано rtos статьях портирование rtos azure использует stfs контент этой rtos любая система файловая stfs предоставить жёсткий внедрить детерминизма поэтому цель среду жёсткий реальным временем приходится применять rtos количество контент требовать файловой большой системе rtos портирование другую операционку вызвать вопрос семейства специфика stmh отсутствие является система контроля исправления целостности внутренней блоков flash памяти зонирование flash мыть сравнительно большого секторы размера конкретно stmhvih блоки цельные размер имеют максимальный байта стираемые секторы кбайт записывать одный flash байта итерацию модуль называемыми flash word одно строчка следующий стирать размывание кбайт блоками пытаться повторно записать чтото flash бит он переменить байтный байт блок запись который придется низкий обозначен системой вероятностью сбойный последующее чтений границах блока вызвать неточность покрышка доступа звонок busfault большинство которое ход нарушить выполнения программы поведение никак записи отключить байт ошибочный системе станет недоступным блок flash байта памяти диаметр невозможно читать помощью внутренней отладочного программой переходник содержаться стерть сектор кбайт блок указать препятствует ограничения применение файловых механизм подтип spiffs специфический littlefs требуется подход техника сложный секторы размером последовательно памяти окб записываются данные файлов каждый файлов открытии запись фиксирование данных закрытии файлов создавать записываются файл сектор данные пишутся файлов нижней границы отрасль дескрипторы пишутся нижний границы сектора показать рисунке данные дескрипторы расходиться одной плоскость запись переносить сектор следующий файл flash имеет размер байта состоит байта половин позволяет записывать дескрипторы границе выравниваться байтного word flash ровно соответствующего размера создавать дескриптор файл записывается закрывать файл требуется надежно зафиксировать файла данные закрываться придется вызвать правило функционал stfsflush создан дескриптор дескриптор валидирует навсегда данные питания потеряны отключение файлов удалении размываться дескрипторы файлов записывается тег удаленных остаются отрасль удалённый он файла гарантированно сектора стирается заполнить частично вперемежку остаться удаленные существует актуальные файлы дефрагментации актуальные выносить дефрагментирует группу файлы стирая секторов освободившиеся битный сектора линейная среды azure многозадачная rtos адаптированная батное flash размер word количество секторов произвольное гряда назначается секторов стадия поиски компилятор поддержка файлов фамилия шаблону создания порядку количество параллельно открытых чтение файлов произвольное определяется количество этапе компиляции одновременно открытых файлов превысить запись количества некие секторов видно ограничения сравнению fat той другой стороны встраиваемого софта малых систем инициализация файловой инициализирует системы загрузчик flash целостность проверить форматирует нарушена целостность поиск файла интерактивный диске символьный шаблону информация получение файле поиск файла виртуальном поздний получение диске сведений файле целостности проверка файловой системы диске виртуальном сведение получение опробовать системе файловой конкретный железе мышление системы неудобнопоэтому написана программа авиасимулятор windows программа включает исходники трудовой stfs версия микропроцессор слой загрузчик flash заменить памяти эмуляцию разведывательный памяти ноутбук строго эмулятор ограничения проверяет размеру записываемых сглаживание данных непорочность приоритетный записи обловек создаваться тестовой записи считывания файлов проверкой регулярной кэширование невозможность целостности записи считывания производятся предпосылка электрогенератор неслучайный количество й каждый файл имитации удаляется агрегация дефрагментация удается прерывать тест выпускаться регрессионный удаление младший файлов симулятор легко проводит миллиард итераций простой неминуемые flash вызвало вопрос изношенность количество итераций оправдать неточность поиске сильно зарыть мышление файловой системы заметно помогло отладкесимулятор накапливает овраг котором просмотреть предыстория прохождения тестов симулятор среде написан embarcadero rad studio скомпилируется alexandria легко ранних версиях использует поскольку минимальный набор компонентов стандартных подойдет триальная версия износе выше писал выравнивание износа одномерный присуще fs показала неслучайный моделирование струя записей перемещение кэширование видно буква порядка предельный жизненный цикать размыт flash несовпадение буква требуется приблизительный напомнить stmh система работает исправления одиночных ошибок flash двойных предупреждения ошибках клиент имеет дополнительную возможность проактивно износ среагировать прикладном своем ускорение коде записи файл колеблться граница секунду кбайт цифра характерный nor памяти плохой приходится ожидать отметить ложечка неплохую дёготь вносит стирания дефрагментация сектора затянуться секуть учитывать идти чтение мбайт скоростью довольно секунду',\n",
       " 0)"
      ]
     },
     "execution_count": 27,
     "metadata": {},
     "output_type": "execute_result"
    }
   ],
   "source": [
    "texts[6], labels[6]"
   ]
  },
  {
   "cell_type": "code",
   "execution_count": 28,
   "id": "ecea94e4",
   "metadata": {
    "id": "ecea94e4"
   },
   "outputs": [],
   "source": [
    "assert len(texts) == len(labels) == df.shape[0]"
   ]
  },
  {
   "cell_type": "code",
   "execution_count": 29,
   "id": "7cb1380a",
   "metadata": {
    "colab": {
     "base_uri": "https://localhost:8080/"
    },
    "id": "7cb1380a",
    "outputId": "6b9e15bb-2fd1-4b73-facb-2dc86358b10b"
   },
   "outputs": [
    {
     "name": "stdout",
     "output_type": "stream",
     "text": [
      " Maximum source length  127785\n",
      " Minimum source length  1\n",
      " Average source length  855.8374576148907\n"
     ]
    }
   ],
   "source": [
    "lengths_list = list()\n",
    "for source in texts:\n",
    "    lengths_list.append(len(source.split(' ')))\n",
    "max_seq_length = max(lengths_list)\n",
    "min_seq_length = min(lengths_list)\n",
    "avg_seq_length = np.average(lengths_list)\n",
    "\n",
    "print(\" Maximum source length \", max_seq_length)\n",
    "print(\" Minimum source length \", min_seq_length)\n",
    "print(\" Average source length \", avg_seq_length)"
   ]
  },
  {
   "cell_type": "code",
   "execution_count": 30,
   "id": "59eb6e97",
   "metadata": {
    "colab": {
     "base_uri": "https://localhost:8080/",
     "height": 472
    },
    "id": "59eb6e97",
    "outputId": "f64bf2fc-2a0b-40d3-b069-06b23b1dad96"
   },
   "outputs": [
    {
     "data": {
      "image/png": "[encoded data removed]",
      "text/plain": [
       "<Figure size 640x480 with 1 Axes>"
      ]
     },
     "metadata": {},
     "output_type": "display_data"
    }
   ],
   "source": [
    "plt.hist(lengths_list)\n",
    "plt.title('Распределение размеров последовательностей')\n",
    "plt.xlabel('Количество токенов')\n",
    "plt.ylabel('Количество текстов')\n",
    "#plt.savefig('count_text_count_token.pdf', bbox_inches='tight')\n",
    "plt.show()"
   ]
  },
  {
   "cell_type": "markdown",
   "id": "mlFL0owpHLU2",
   "metadata": {
    "id": "mlFL0owpHLU2"
   },
   "source": [
    "## Разделение текстов на порции данных"
   ]
  },
  {
   "cell_type": "code",
   "execution_count": 31,
   "id": "pAXG6sp8HONg",
   "metadata": {
    "id": "pAXG6sp8HONg"
   },
   "outputs": [],
   "source": [
    "def get_split(text):\n",
    "  l_total = []\n",
    "  l_parcial = []\n",
    "  count = len(text.split())//450\n",
    "  if count > 0:\n",
    "    n = count\n",
    "  else: \n",
    "    n = 1\n",
    "  for w in range(n):\n",
    "    if w == 0:\n",
    "      l_parcial = text.split()[:500]\n",
    "      l_total.append(\" \".join(l_parcial))\n",
    "    else:\n",
    "      l_parcial = text.split()[w*450:w*450 + 500]\n",
    "      l_total.append(\" \".join(l_parcial))\n",
    "  return l_total"
   ]
  },
  {
   "cell_type": "code",
   "execution_count": 32,
   "id": "C1zB6HIwNCWP",
   "metadata": {
    "colab": {
     "base_uri": "https://localhost:8080/"
    },
    "id": "C1zB6HIwNCWP",
    "outputId": "7cbbcb02-aacd-4f9e-c328-191d3ff02f22"
   },
   "outputs": [
    {
     "name": "stderr",
     "output_type": "stream",
     "text": [
      "100%|██████████| 13861/13861 [00:12<00:00, 1146.03it/s]\n"
     ]
    }
   ],
   "source": [
    "extended_texts = list()\n",
    "extended_labels = list()\n",
    "for text, label in tqdm(zip(texts, labels), total=len(texts)):\n",
    "  split_text = get_split(text)\n",
    "  extended_texts.append(split_text)\n",
    "  extended_labels.append([label]*len(split_text))"
   ]
  },
  {
   "cell_type": "code",
   "execution_count": 33,
   "id": "SvTfoEa3P20L",
   "metadata": {
    "id": "SvTfoEa3P20L"
   },
   "outputs": [],
   "source": [
    "assert len(extended_texts) == len(extended_labels) == len(labels) == len(texts)"
   ]
  },
  {
   "cell_type": "code",
   "execution_count": 34,
   "id": "RCs-mAStOXiF",
   "metadata": {
    "id": "RCs-mAStOXiF"
   },
   "outputs": [],
   "source": [
    "extended_texts = sum(extended_texts, [])\n",
    "extended_labels = sum(extended_labels, [])"
   ]
  },
  {
   "cell_type": "code",
   "execution_count": 35,
   "id": "Ft_ZwOfmOBFz",
   "metadata": {
    "colab": {
     "base_uri": "https://localhost:8080/"
    },
    "id": "Ft_ZwOfmOBFz",
    "outputId": "dbdb9949-6e5d-4ac9-b7a4-c00222c9389a"
   },
   "outputs": [
    {
     "data": {
      "text/plain": [
       "(25274, 25274)"
      ]
     },
     "execution_count": 35,
     "metadata": {},
     "output_type": "execute_result"
    }
   ],
   "source": [
    "len(extended_texts), len(extended_labels)"
   ]
  },
  {
   "cell_type": "code",
   "execution_count": 36,
   "id": "u-swhFaKRBYX",
   "metadata": {
    "id": "u-swhFaKRBYX"
   },
   "outputs": [],
   "source": [
    "texts = extended_texts\n",
    "labels = extended_labels"
   ]
  },
  {
   "cell_type": "code",
   "execution_count": 37,
   "id": "ASE8fYOONXK1",
   "metadata": {
    "id": "ASE8fYOONXK1"
   },
   "outputs": [],
   "source": [
    "texts1 = texts\n",
    "texts = []\n",
    "labels1 = []\n",
    "for text, label in zip(texts1, labels):\n",
    "    if len(text.split()) >= 20:\n",
    "        texts.append(text)\n",
    "        labels1.append(label) "
   ]
  },
  {
   "cell_type": "code",
   "execution_count": 38,
   "id": "So3BvwGfNaXN",
   "metadata": {
    "colab": {
     "base_uri": "https://localhost:8080/"
    },
    "id": "So3BvwGfNaXN",
    "outputId": "b3d3e39e-71cb-4d05-a8f0-84289ff0c376"
   },
   "outputs": [
    {
     "data": {
      "text/plain": [
       "(25248, 25248)"
      ]
     },
     "execution_count": 38,
     "metadata": {},
     "output_type": "execute_result"
    }
   ],
   "source": [
    "labels = labels1\n",
    "len(texts), len(labels)"
   ]
  },
  {
   "cell_type": "code",
   "execution_count": 39,
   "id": "g-vh_FigRU1k",
   "metadata": {
    "colab": {
     "base_uri": "https://localhost:8080/",
     "height": 472
    },
    "id": "g-vh_FigRU1k",
    "outputId": "4873babe-5e9b-4db6-9850-d9e2985f2400"
   },
   "outputs": [
    {
     "data": {
      "image/png": "[encoded data removed]",
      "text/plain": [
       "<Figure size 640x480 with 1 Axes>"
      ]
     },
     "metadata": {},
     "output_type": "display_data"
    }
   ],
   "source": [
    "lengths_list = list()\n",
    "for source in texts:\n",
    "    lengths_list.append(len(source.split(' ')))\n",
    "\n",
    "plt.hist(lengths_list)\n",
    "plt.title('Распределение размеров последовательностей')\n",
    "plt.xlabel('Количество токенов')\n",
    "plt.ylabel('Количество текстов')\n",
    "#plt.savefig('count_text_count_token_with_split.pdf', bbox_inches='tight')\n",
    "plt.show()"
   ]
  },
  {
   "cell_type": "code",
   "execution_count": 40,
   "id": "nz06aXNJWHbX",
   "metadata": {
    "id": "nz06aXNJWHbX"
   },
   "outputs": [],
   "source": [
    "labels_count = collections.Counter(labels)"
   ]
  },
  {
   "cell_type": "code",
   "execution_count": 41,
   "id": "SaIybVZPWK_j",
   "metadata": {
    "colab": {
     "base_uri": "https://localhost:8080/",
     "height": 449
    },
    "id": "SaIybVZPWK_j",
    "outputId": "6f41915f-e656-451b-fb3a-efb5c5198c1d"
   },
   "outputs": [
    {
     "data": {
      "image/png": "[encoded data removed]",
      "text/plain": [
       "<Figure size 640x480 with 1 Axes>"
      ]
     },
     "metadata": {},
     "output_type": "display_data"
    }
   ],
   "source": [
    "fig, ax = plt.subplots()\n",
    "#fig.suptitle(\"Частота меток\", y=0.93)\n",
    "df_temp = pd.DataFrame({'category': list(category_index.keys()), 'count': list(labels_count.values())}, index=category_index.keys()).sort_values(by=['count'])\n",
    "df_temp.plot(kind='barh', legend=False, ax=ax).grid(axis='x')\n",
    "ax.set_xlabel('count')\n",
    "ax.set_ylabel('category')\n",
    "fig.savefig('count_category_with_split.pdf', bbox_inches='tight')\n",
    "plt.show()"
   ]
  },
  {
   "cell_type": "markdown",
   "id": "5d5e5519",
   "metadata": {
    "id": "5d5e5519"
   },
   "source": [
    "## Токенизация "
   ]
  },
  {
   "cell_type": "markdown",
   "id": "1b3d7611",
   "metadata": {
    "id": "1b3d7611"
   },
   "source": [
    "### Разделение данных на обучающую и тестовую выборки"
   ]
  },
  {
   "cell_type": "code",
   "execution_count": 42,
   "id": "9c085d0a",
   "metadata": {
    "colab": {
     "base_uri": "https://localhost:8080/"
    },
    "id": "9c085d0a",
    "outputId": "741181c7-793c-4920-9c80-111275e5c482"
   },
   "outputs": [
    {
     "data": {
      "text/plain": [
       "(22723, 2525)"
      ]
     },
     "execution_count": 42,
     "metadata": {},
     "output_type": "execute_result"
    }
   ],
   "source": [
    "train_texts, test_texts, train_labels, test_labels = train_test_split(list(texts), labels, random_state = 42, train_size = 0.9, stratify = labels)\n",
    "\n",
    "len(train_texts), len(test_texts)"
   ]
  },
  {
   "cell_type": "code",
   "execution_count": 43,
   "id": "fd07ae1a",
   "metadata": {
    "colab": {
     "base_uri": "https://localhost:8080/",
     "height": 54
    },
    "id": "fd07ae1a",
    "outputId": "ec025d0b-1181-4ec1-d693-b0e35c3b8845"
   },
   "outputs": [
    {
     "data": {
      "image/png": "[encoded data removed]",
      "text/plain": [
       "<Figure size 640x480 with 1 Axes>"
      ]
     },
     "metadata": {},
     "output_type": "display_data"
    }
   ],
   "source": [
    "y = dict(collections.Counter(test_labels))\n",
    "index = y.keys()\n",
    "values = y.values()\n",
    "\n",
    "plt.pie(values, labels = index)\n",
    "plt.title(\"количество текстов в тестовой выборке\")\n",
    "plt.show() "
   ]
  },
  {
   "cell_type": "markdown",
   "id": "7NcGddbm11Yq",
   "metadata": {
    "id": "7NcGddbm11Yq"
   },
   "source": [
    "### Кодирование текстов в обучающем наборе данных"
   ]
  },
  {
   "cell_type": "code",
   "execution_count": 44,
   "id": "319cd522",
   "metadata": {
    "colab": {
     "base_uri": "https://localhost:8080/",
     "height": 216,
     "referenced_widgets": [
      "47511ca119da43cf97d5f040e4abc88f",
      "7edabdef78d84cca851346a179e73121",
      "7e0e83dbd15449f596ae758343a0b110",
      "a61a6fded4d64afd959806e637bcf27f",
      "148388028e204c3ebd70d3c4858f98d0",
      "aad36ce9c1604aa4b83eabf5a8e132ff",
      "7502f72da93f42f1bcdd0f6f1237d314",
      "e90faf1203d84541a63d7ea43c67a5a0",
      "11445e36b2be46ecb4ce7c5de0e8c970",
      "6cf8ae6dd57246d5b810a9dee88145be",
      "e1ccbe0f58974e0db36013567dae3a30",
      "4c595d7daa5d4e3d93f1a19c5e0db88f",
      "ae5d1279c269483eb3ea806addecf252",
      "e6a747bbef104df0a11f38121bd5747a",
      "f0ed7d49783340d38801db015ed0a428",
      "2f0edb7bab1d40c9bc1f405509f43f43",
      "53d3f79cc4c24beca818dceff7b821a4",
      "4d14d3639d9b48139f2c018219f6760e",
      "0d33292418d948bf9bb1e36f495a349c",
      "c052049258bd4a1da40f5db42cbd96f7",
      "1ca075166bac438081c1321d4b8a8b6e",
      "a11acda58b1d4b7cbf889891306196fc",
      "439557aa11274536b4061e5e0f9cb92c",
      "47bb424b63ce4a339e53e0467c43756b",
      "d9c1d47048e440749fb089ee20a76814",
      "87d22d4c2deb4988aa73fc045a170fa5",
      "a4a53cd2ff574fbea68b6811af728df1",
      "d31cbc7efcac4320b88b50de13e04736",
      "bf373a4f0a514651ad5f49ab20de06b1",
      "549de1ebef7b454fb3f28314f0d232bc",
      "32aaffdd7c424bbab677245214337bf7",
      "7cb02ea1ac7342f28fb14704e1dae755",
      "6261f57e52fa4658b8415f19f40ae0b7",
      "9fb5040a6439439ba00510f506012d2a",
      "651dd22f471d45e8a976876f126c99d7",
      "79fadb214aa84b1694b94e11fecb703f",
      "9b30de88d1814683aa085dce5079f389",
      "e03f0dd887dc4958b7c1ab3d8dd3aa2d",
      "e96d98a06d8c4ba6b6e738962d754258",
      "7fc581fc4f9e4fcbb991d1220b479ae0",
      "21c9022f4f264d1d9cb5800270a4926f",
      "42d389bcdce24052b0202ea038c710c4",
      "4d9bc8307ed345aab012016f87a08079",
      "a74b18cef7fe4318883370f8f0e31f5e"
     ]
    },
    "id": "319cd522",
    "outputId": "e8750ff2-6a92-4440-ad2c-824ad13deade"
   },
   "outputs": [
    {
     "name": "stderr",
     "output_type": "stream",
     "text": [
      "/usr/local/lib/python3.9/dist-packages/torch/hub.py:286: UserWarning: You are about to download and run code from an untrusted repository. In a future release, this won't be allowed. To add the repository to your trusted list, change the command to {calling_fn}(..., trust_repo=False) and a command prompt will appear asking for an explicit confirmation of trust, or load(..., trust_repo=True), which will assume that the prompt is to be answered with 'yes'. You can also use load(..., trust_repo='check') which will only prompt for confirmation if the repo is not already trusted. This will eventually be the default behaviour\n",
      "  warnings.warn(\n",
      "Downloading: \"https://github.com/huggingface/pytorch-transformers/zipball/main\" to /root/.cache/torch/hub/main.zip\n"
     ]
    },
    {
     "data": {
      "application/vnd.jupyter.widget-view+json": {
       "model_id": "47511ca119da43cf97d5f040e4abc88f",
       "version_major": 2,
       "version_minor": 0
      },
      "text/plain": [
       "Downloading (…)okenizer_config.json:   0%|          | 0.00/24.0 [00:00<?, ?B/s]"
      ]
     },
     "metadata": {},
     "output_type": "display_data"
    },
    {
     "data": {
      "application/vnd.jupyter.widget-view+json": {
       "model_id": "4c595d7daa5d4e3d93f1a19c5e0db88f",
       "version_major": 2,
       "version_minor": 0
      },
      "text/plain": [
       "Downloading (…)lve/main/config.json:   0%|          | 0.00/642 [00:00<?, ?B/s]"
      ]
     },
     "metadata": {},
     "output_type": "display_data"
    },
    {
     "data": {
      "application/vnd.jupyter.widget-view+json": {
       "model_id": "439557aa11274536b4061e5e0f9cb92c",
       "version_major": 2,
       "version_minor": 0
      },
      "text/plain": [
       "Downloading (…)solve/main/vocab.txt:   0%|          | 0.00/1.65M [00:00<?, ?B/s]"
      ]
     },
     "metadata": {},
     "output_type": "display_data"
    },
    {
     "data": {
      "application/vnd.jupyter.widget-view+json": {
       "model_id": "9fb5040a6439439ba00510f506012d2a",
       "version_major": 2,
       "version_minor": 0
      },
      "text/plain": [
       "Downloading (…)cial_tokens_map.json:   0%|          | 0.00/112 [00:00<?, ?B/s]"
      ]
     },
     "metadata": {},
     "output_type": "display_data"
    }
   ],
   "source": [
    "# токенизатор BERT\n",
    "tokenizer = torch.hub.load('huggingface/pytorch-transformers', 'tokenizer', 'DeepPavlov/rubert-base-cased')"
   ]
  },
  {
   "cell_type": "code",
   "execution_count": 45,
   "id": "d4fcec6f",
   "metadata": {
    "colab": {
     "base_uri": "https://localhost:8080/"
    },
    "id": "d4fcec6f",
    "outputId": "0aa709e7-4c9b-4383-86ab-7df07495b629",
    "scrolled": true
   },
   "outputs": [
    {
     "name": "stdout",
     "output_type": "stream",
     "text": [
      "Original:  значение modeshell validflags передача очередь символов неэкранированных создает проявления условия ошибки одной обработчике выполняющем удаление символов экранирования сверкой правилами sudoers обработчик некорректно разбирает присутствие неэкранированного символа обратного конце слеша строки данный считает обратный слеш экранирует символ продолжает чтение границей данных находящихся строки копируя буфер перезаписывая userargs области памяти данного границей буфера вызова выполнить переполнения манипулируя командной строке значениями sudoedit добиться наложения перезаписываемого данные хвоста влияющие дальнейший ход работы создание эксплоита упрощает полностью атакующий буфера контролирует размер userargs соответствует который размеру аргументов переданных окружения переменные контролирует размер содержимое данных записываемых границу буфера исследователям удалось эксплоита подготовить перезаписи работа содержимого строится структур sudohookentry serviceuser deftimestampdir переопределении sudohookentry удалось запустить бинарный файл именем правами root переопределении serviceuser выполнить удалось произвольный правами код root переопределении deftimestampdir удалось добиться сброса содержимого стека sudo включая окружения переменные файл etcpasswd добиться правами пользователя подстановки root дополнение sudo утилита состава macos оказалась подвержена рассматриваемой уязвимости исследователи заранее разработчиков уведомили дистрибутивов выпустили скоординировано обновления пакетов debian rhel fedora ubuntu suseopensuse gentoo arch slackware freebsd наличия проверки уязвимости системе своей достаточно запустить команду sudoedit уязвимость случае присутствует вывода начинающейся ошибки sudoedit уязвимость июля проявляется вызвана переполнением буфера обработке символов экранирования параметрах строки предназначенных запуска команд shell режиме режим shell указании включается аргументов приводит команда запускается напрямую дополнительный вызов оболочки командной флагом команда sh проблемы штатном запуске утилита sudo экранирует специальные символы опций указании запуске утилиты sudoedit экранирования параметров происходит parseargs выставляет переменную окружения modeedit вместо modeshell сбрасывает значение validflags очередь передача неэкранированных символов создает условия проявления одной ошибки выполняющем обработчике удаление экранирования символов сверкой правилами обработчик sudoers некорректно разбирает присутствие неэкранированного обратного символа слеша конце строки считает обратный данный слеш символ экранирует чтение продолжает границей данных находящихся строки копируя буфер перезаписывая userargs памяти области границей данного буфера вызова выполнить переполнения манипулируя значениями строке командной sudoedit наложения добиться перезаписываемого данные хвоста дальнейший влияющие ход работы создание эксплоита атакующий упрощает полностью контролирует размер буфера userargs который соответствует размеру переданных аргументов окружения переменные контролирует содержимое данных размер записываемых границу буфера исследователям подготовить эксплоита удалось работа строится перезаписи sudohookentry содержимого serviceuser структур deftimestampdir переопределении sudohookentry удалось запустить бинарный именем файл правами root переопределении serviceuser удалось выполнить произвольный код правами root переопределении удалось deftimestampdir сброса добиться содержимого sudo включая стека переменные окружения файл etcpasswd добиться пользователя подстановки правами root утилита дополнение sudo macos оказалась состава рассматриваемой подвержена уязвимости уязвимость проявляется июля вызвана буфера обработке переполнением символов экранирования параметрах строки предназначенных запуска команд режиме режим shell включается shell указании аргументов команда запускается приводит напрямую дополнительный командной оболочки вызов флагом sh проблемы команда штатном запуске утилита sudo специальные символы экранирует запуске указании опций утилиты экранирования sudoedit параметров происходит выставляет parseargs переменную вместо окружения modeedit modeshell сбрасывает значение validflags очередь передача неэкранированных символов создает условия проявления одной обработчике ошибки удаление выполняющем символов экранирования правилами сверкой sudoers обработчик некорректно разбирает присутствие символа неэкранированного обратного слеша строки конце считает данный обратный слеш экранирует символ продолжает чтение данных находящихся границей строки копируя перезаписывая буфер userargs области памяти границей данного буфера вызова переполнения выполнить манипулируя значениями командной строке sudoedit добиться наложения перезаписываемого\n",
      "len(Original) =  500\n",
      "\n",
      "\n",
      "Tokenized:  ['значение', 'mode', '##sh', '##ell', 'val', '##id', '##fl', '##ag', '##s', 'передача', 'очередь', 'символов', 'не', '##экран', '##ированных', 'создает', 'проявления', 'условия', 'ошибки', '[UNK]', 'обработ', '##чике', 'выполня', '##ющем', 'удаление', 'символов', 'экран', '##ирования', '[UNK]', 'правилами', 'su', '##do', '##ers', 'обработ', '##чик', 'некорректно', 'разби', '##рает', 'присутствие', 'не', '##экран', '##ированного', 'символа', 'обратного', 'конце', 'сл', '##еша', 'строки', '[UNK]', 'считает', '[UNK]', 'сл', '##еш', 'экран', '##ирует', 'символ', 'продолжает', 'чтение', '[UNK]', 'данных', 'находящихся', 'строки', 'коп', '##ируя', 'буфер', 'перезапис', '##ывая', 'us', '##era', '##r', '##gs', 'области', 'памяти', 'данного', '[UNK]', 'буфера', 'вызова', 'выполнить', 'переполн', '##ения', 'манип', '##улир', '##уя', '[UNK]', 'строке', 'значениями', 'su', '##do', '##edi', '##t', 'добиться', 'наложения', 'перезапис', '##ываемого', 'данные', 'хвоста', 'влия', '##ющие', '[UNK]', 'ход', 'работы', 'создание', 'эксп', '##ло', '##ита', 'упрощает', 'полностью', '[UNK]', 'буфера', 'контролирует', 'размер', 'us', '##era', '##r', '##gs', 'соответствует', '[UNK]', 'размеру', 'аргументов', 'переданных', 'окружения', 'переменные', 'контролирует', 'размер', 'содержимое', 'данных', 'запис', '##ываемых', 'границу', 'буфера', 'исследователям', 'удалось', 'эксп', '##ло', '##ита', 'подготовить', 'перезапис', '##и', 'работа', 'содержимого', 'строится', 'структур', 'su', '##do', '##ho', '##oken', '##tr', '##y', 'ser', '##vi', '##ce', '##user', 'def', '##time', '##sta', '##mp', '##di', '##r', 'пере', '##определ', '##ении', 'su', '##do', '##ho', '##oken', '##tr', '##y', 'удалось', 'запустить', '[UNK]', '[UNK]', 'именем', 'правами', 'ro', '##ot', 'пере', '##определ', '##ении', 'ser', '##vi', '##ce', '##user', 'выполнить', 'удалось', '[UNK]', 'правами', 'код', 'ro', '##ot', 'пере', '##определ', '##ении', 'def', '##time', '##sta', '##mp', '##di', '##r', 'удалось', 'добиться', 'сброса', 'содержимого', 'стек', '##а', 'su', '##do', 'включая', 'окружения', 'переменные', '[UNK]', 'etc', '##pa', '##ss', '##w', '##d', 'добиться', 'правами', 'пользователя', 'подстанов', '##ки', 'ro', '##ot', 'дополнение', 'su', '##do', 'утилита', 'состава', 'mac', '##os', 'оказалась', 'подвержена', '[UNK]', 'уязвимости', 'исследователи', 'заранее', 'разработчиков', 'уведомил', '##и', 'дистрибутив', '##ов', 'выпустили', 'скоордин', '##ировано', 'обновления', 'пакетов', 'de', '##bia', '##n', 'r', '##hel', 'fe', '##do', '##ra', 'u', '##bu', '##nt', '##u', 'su', '##se', '##ope', '##ns', '##use', 'gen', '##to', '##o', 'arch', 'sl', '##ack', '##ware', 'free', '##bs', '##d', 'наличия', 'проверки', 'уязвимости', 'системе', '[UNK]', 'достаточно', 'запустить', 'команду', 'su', '##do', '##edi', '##t', 'уязвимость', 'случае', 'присутствует', 'вывода', '[UNK]', 'ошибки', 'su', '##do', '##edi', '##t', 'уязвимость', 'июля', 'проявляется', 'вызвана', 'переполн', '##ением', 'буфера', 'обработке', 'символов', 'экран', '##ирования', 'параметра', '##х', 'строки', 'предназначенных', 'запуска', 'команд', 'she', '##ll', 'режиме', 'режим', 'she', '##ll', 'указан', '##ии', 'включается', 'аргументов', 'приводит', 'команда', 'запускается', 'напрямую', '[UNK]', 'вызов', 'оболочки', '[UNK]', 'флагом', 'команда', 'sh', 'проблемы', 'штатном', 'запуске', 'утилита', 'su', '##do', 'экран', '##ирует', 'специальные', 'символы', '[UNK]', 'указан', '##ии', 'запуске', 'утилиты', 'su', '##do', '##edi', '##t', 'экран', '##ирования', 'параметров', 'происходит', 'par', '##sea', '##r', '##gs', 'выставляет', 'перемен', '##ную', 'окружения', 'mode', '##edi', '##t', 'вместо', 'mode', '##sh', '##ell', 'сбрасывает', 'значение', 'val', '##id', '##fl', '##ag', '##s', 'очередь', 'передача', 'не', '##экран', '##ированных', 'символов', 'создает', 'условия', 'проявления', '[UNK]', 'ошибки', 'выполня', '##ющем', 'обработ', '##чике', 'удаление', 'экран', '##ирования', 'символов', '[UNK]', 'правилами', 'обработ', '##чик', 'su', '##do', '##ers', 'некорректно', 'разби', '##рает', 'присутствие', 'не', '##экран', '##ированного', 'обратного', 'символа', 'сл', '##еша', 'конце', 'строки', 'считает', '[UNK]', '[UNK]', 'сл', '##еш', 'символ', 'экран', '##ирует', 'чтение', 'продолжает', '[UNK]', 'данных', 'находящихся', 'строки', 'коп', '##ируя', 'буфер', 'перезапис', '##ывая', 'us', '##era', '##r', '##gs', 'памяти', 'области', '[UNK]', 'данного', 'буфера', 'вызова', 'выполнить', 'переполн', '##ения', 'манип', '##улир', '##уя', 'значениями', 'строке', '[UNK]', 'su', '##do', '##edi', '##t', 'наложения', 'добиться', 'перезапис', '##ываемого', 'данные', 'хвоста', '[UNK]', 'влия', '##ющие', 'ход', 'работы', 'создание', 'эксп', '##ло', '##ита', '[UNK]', 'упрощает', 'полностью', 'контролирует', 'размер', 'буфера', 'us', '##era', '##r', '##gs', '[UNK]', 'соответствует', 'размеру', 'переданных', 'аргументов', 'окружения', 'переменные', 'контролирует', 'содержимое', 'данных', 'размер', 'запис', '##ываемых', 'границу', 'буфера', 'исследователям', 'подготовить', 'эксп', '##ло', '##ита', 'удалось', 'работа', 'строится', 'перезапис', '##и', 'su', '##do', '##ho', '##oken', '##tr', '##y', 'содержимого', 'ser', '##vi', '##ce', '##user', 'структур', 'def', '##time', '##sta', '##mp', '##di', '##r', 'пере', '##определ', '##ении', 'su', '##do', '##ho', '##oken', '##tr', '##y', 'удалось', 'запустить', '[UNK]', 'именем', '[UNK]', 'правами', 'ro', '##ot', 'пере', '##определ', '##ении', 'ser', '##vi', '##ce', '##user', 'удалось', 'выполнить', '[UNK]', 'код', 'правами', 'ro', '##ot', 'пере', '##определ', '##ении', 'удалось', 'def', '##time', '##sta', '##mp', '##di', '##r', 'сброса', 'добиться', 'содержимого', 'su', '##do', 'включая', 'стек', '##а', 'переменные', 'окружения', '[UNK]', 'etc', '##pa', '##ss', '##w', '##d', 'добиться', 'пользователя', 'подстанов', '##ки', 'правами', 'ro', '##ot', 'утилита', 'дополнение', 'su', '##do', 'mac', '##os', 'оказалась', 'состава', '[UNK]', 'подвержена', 'уязвимости', 'уязвимость', 'проявляется', 'июля', 'вызвана', 'буфера', 'обработке', 'переполн', '##ением', 'символов', 'экран', '##ирования', 'параметра', '##х', 'строки', 'предназначенных', 'запуска', 'команд', 'режиме', 'режим', 'she', '##ll', 'включается', 'she', '##ll', 'указан', '##ии', 'аргументов', 'команда', 'запускается', 'приводит', 'напрямую', '[UNK]', '[UNK]', 'оболочки', 'вызов', 'флагом', 'sh', 'проблемы', 'команда', 'штатном', 'запуске', 'утилита', 'su', '##do', 'специальные', 'символы', 'экран', '##ирует', 'запуске', 'указан', '##ии', '[UNK]', 'утилиты', 'экран', '##ирования', 'su', '##do', '##edi', '##t', 'параметров', 'происходит', 'выставляет', 'par', '##sea', '##r', '##gs', 'перемен', '##ную', 'вместо', 'окружения', 'mode', '##edi', '##t', 'mode', '##sh', '##ell', 'сбрасывает', 'значение', 'val', '##id', '##fl', '##ag', '##s', 'очередь', 'передача', 'не', '##экран', '##ированных', 'символов', 'создает', 'условия', 'проявления', '[UNK]', 'обработ', '##чике', 'ошибки', 'удаление', 'выполня', '##ющем', 'символов', 'экран', '##ирования', 'правилами', '[UNK]', 'su', '##do', '##ers', 'обработ', '##чик', 'некорректно', 'разби', '##рает', 'присутствие', 'символа', 'не', '##экран', '##ированного', 'обратного', 'сл', '##еша', 'строки', 'конце', 'считает', '[UNK]', '[UNK]', 'сл', '##еш', 'экран', '##ирует', 'символ', 'продолжает', 'чтение', 'данных', 'находящихся', '[UNK]', 'строки', 'коп', '##ируя', 'перезапис', '##ывая', 'буфер', 'us', '##era', '##r', '##gs', 'области', 'памяти', '[UNK]', 'данного', 'буфера', 'вызова', 'переполн', '##ения', 'выполнить', 'манип', '##улир', '##уя', 'значениями', '[UNK]', 'строке', 'su', '##do', '##edi', '##t', 'добиться', 'наложения', 'перезапис', '##ываемого']\n",
      "len(Tokenized) =  769\n",
      "\n",
      "\n",
      "Token ids:  [13971, 18929, 13776, 14013, 25972, 8599, 47018, 10925, 269, 30786, 10843, 28628, 1699, 57466, 12730, 32655, 32535, 16132, 25976, 100, 16193, 46739, 13837, 55483, 51036, 28628, 13690, 8382, 100, 42657, 10710, 10829, 11413, 16193, 8968, 100499, 23887, 61096, 29880, 1699, 57466, 16592, 43963, 59891, 7001, 2317, 40096, 33471, 100, 13012, 100, 2317, 2881, 13690, 9395, 10424, 18934, 40474, 100, 12068, 25515, 33471, 11489, 17724, 57314, 70025, 14520, 20138, 12527, 267, 16215, 4161, 15603, 17719, 100, 115348, 46695, 27441, 50245, 1757, 31273, 29552, 11440, 100, 54203, 77152, 10710, 10829, 32724, 271, 19545, 88523, 70025, 67150, 12725, 39656, 9610, 12772, 100, 11802, 7089, 14734, 5696, 3054, 7119, 97289, 9905, 100, 115348, 40436, 8835, 20138, 12527, 267, 16215, 19589, 100, 36722, 63916, 78021, 29658, 73758, 40436, 8835, 54796, 12068, 10192, 39630, 19380, 115348, 72632, 9111, 5696, 3054, 7119, 37656, 70025, 852, 13831, 73089, 36172, 16904, 10710, 10829, 11270, 92068, 26894, 281, 11005, 11822, 9984, 89718, 101257, 18598, 11484, 19085, 11215, 267, 6155, 64301, 3073, 10710, 10829, 11270, 92068, 26894, 281, 9111, 40517, 100, 100, 15261, 38246, 25982, 8662, 6155, 64301, 3073, 11005, 11822, 9984, 89718, 27441, 9111, 100, 38246, 10044, 25982, 8662, 6155, 64301, 3073, 101257, 18598, 11484, 19085, 11215, 267, 9111, 19545, 80871, 73089, 16640, 626, 10710, 10829, 11267, 29658, 73758, 100, 12887, 11871, 12540, 277, 239, 19545, 38246, 29788, 107801, 2237, 25982, 8662, 26526, 10710, 10829, 109565, 12956, 57763, 8531, 17022, 110647, 100, 85374, 22464, 26072, 27127, 91285, 852, 103993, 1388, 26864, 85720, 13575, 39590, 50210, 10616, 14857, 259, 266, 32084, 35290, 10829, 9833, 272, 12689, 10880, 273, 10710, 10853, 39490, 11403, 13242, 15843, 10852, 261, 69666, 39035, 17103, 27956, 14473, 20040, 239, 32623, 19659, 85374, 13710, 100, 12923, 40517, 12447, 10710, 10829, 32724, 271, 82762, 9051, 24156, 30971, 100, 25976, 10710, 10829, 32724, 271, 82762, 5976, 36999, 48386, 50245, 3695, 115348, 39095, 28628, 13690, 8382, 71455, 884, 33471, 43163, 26785, 3763, 11345, 11743, 18641, 12391, 11345, 11743, 39479, 1524, 57381, 63916, 14577, 11441, 97524, 25962, 100, 27651, 39127, 100, 36171, 11441, 45942, 14763, 80209, 50809, 109565, 10710, 10829, 13690, 9395, 22259, 39230, 100, 39479, 1524, 50809, 116622, 10710, 10829, 32724, 271, 13690, 8382, 32961, 11658, 10760, 60411, 267, 16215, 95610, 42550, 3065, 29658, 18929, 32724, 271, 12763, 18929, 13776, 14013, 105564, 13971, 25972, 8599, 47018, 10925, 269, 10843, 30786, 1699, 57466, 12730, 28628, 32655, 16132, 32535, 100, 25976, 13837, 55483, 16193, 46739, 51036, 13690, 8382, 28628, 100, 42657, 16193, 8968, 10710, 10829, 11413, 100499, 23887, 61096, 29880, 1699, 57466, 16592, 59891, 43963, 2317, 40096, 7001, 33471, 13012, 100, 100, 2317, 2881, 10424, 13690, 9395, 40474, 18934, 100, 12068, 25515, 33471, 11489, 17724, 57314, 70025, 14520, 20138, 12527, 267, 16215, 15603, 4161, 100, 17719, 115348, 46695, 27441, 50245, 1757, 31273, 29552, 11440, 77152, 54203, 100, 10710, 10829, 32724, 271, 88523, 19545, 70025, 67150, 12725, 39656, 100, 9610, 12772, 11802, 7089, 14734, 5696, 3054, 7119, 100, 97289, 9905, 40436, 8835, 115348, 20138, 12527, 267, 16215, 100, 19589, 36722, 78021, 63916, 29658, 73758, 40436, 54796, 12068, 8835, 10192, 39630, 19380, 115348, 72632, 37656, 5696, 3054, 7119, 9111, 13831, 36172, 70025, 852, 10710, 10829, 11270, 92068, 26894, 281, 73089, 11005, 11822, 9984, 89718, 16904, 101257, 18598, 11484, 19085, 11215, 267, 6155, 64301, 3073, 10710, 10829, 11270, 92068, 26894, 281, 9111, 40517, 100, 15261, 100, 38246, 25982, 8662, 6155, 64301, 3073, 11005, 11822, 9984, 89718, 9111, 27441, 100, 10044, 38246, 25982, 8662, 6155, 64301, 3073, 9111, 101257, 18598, 11484, 19085, 11215, 267, 80871, 19545, 73089, 10710, 10829, 11267, 16640, 626, 73758, 29658, 100, 12887, 11871, 12540, 277, 239, 19545, 29788, 107801, 2237, 38246, 25982, 8662, 109565, 26526, 10710, 10829, 57763, 8531, 17022, 12956, 100, 110647, 85374, 82762, 36999, 5976, 48386, 115348, 39095, 50245, 3695, 28628, 13690, 8382, 71455, 884, 33471, 43163, 26785, 3763, 18641, 12391, 11345, 11743, 57381, 11345, 11743, 39479, 1524, 63916, 11441, 97524, 14577, 25962, 100, 100, 39127, 27651, 36171, 45942, 14763, 11441, 80209, 50809, 109565, 10710, 10829, 22259, 39230, 13690, 9395, 50809, 39479, 1524, 100, 116622, 13690, 8382, 10710, 10829, 32724, 271, 32961, 11658, 95610, 10760, 60411, 267, 16215, 42550, 3065, 12763, 29658, 18929, 32724, 271, 18929, 13776, 14013, 105564, 13971, 25972, 8599, 47018, 10925, 269, 10843, 30786, 1699, 57466, 12730, 28628, 32655, 16132, 32535, 100, 16193, 46739, 25976, 51036, 13837, 55483, 28628, 13690, 8382, 42657, 100, 10710, 10829, 11413, 16193, 8968, 100499, 23887, 61096, 29880, 43963, 1699, 57466, 16592, 59891, 2317, 40096, 33471, 7001, 13012, 100, 100, 2317, 2881, 13690, 9395, 10424, 18934, 40474, 12068, 25515, 100, 33471, 11489, 17724, 70025, 14520, 57314, 20138, 12527, 267, 16215, 4161, 15603, 100, 17719, 115348, 46695, 50245, 1757, 27441, 31273, 29552, 11440, 77152, 100, 54203, 10710, 10829, 32724, 271, 19545, 88523, 70025, 67150]\n",
      "len(Token ids) =  769\n",
      "\n",
      "\n"
     ]
    }
   ],
   "source": [
    "# применение токенизатора к одному предложению, чтобы увидеть результат\n",
    "\n",
    "print('Original: ', train_texts[0])\n",
    "print(\"len(Original) = \", len(train_texts[0].split()))\n",
    "print(\"\\n\")\n",
    "\n",
    "tokenized_text = tokenizer.tokenize(train_texts[0])\n",
    "print('Tokenized: ', tokenized_text)\n",
    "print(\"len(Tokenized) = \", len(tokenized_text))\n",
    "print(\"\\n\")\n",
    "\n",
    "input_ids = tokenizer.convert_tokens_to_ids(tokenized_text)\n",
    "print('Token ids: ', input_ids)\n",
    "print(\"len(Token ids) = \", len(input_ids))\n",
    "print(\"\\n\")"
   ]
  },
  {
   "cell_type": "code",
   "execution_count": 46,
   "id": "bf76a6fa",
   "metadata": {
    "id": "bf76a6fa"
   },
   "outputs": [],
   "source": [
    "def texts_to_ids(tokenizer, texts):\n",
    "    input_ids = list()\n",
    "    \n",
    "    for text in tqdm(texts):\n",
    "        encoded_text = tokenizer.encode(text, add_special_tokens=True)\n",
    "        input_ids.append(encoded_text)\n",
    "    \n",
    "    return input_ids"
   ]
  },
  {
   "cell_type": "code",
   "execution_count": 47,
   "id": "66c7e591",
   "metadata": {
    "colab": {
     "base_uri": "https://localhost:8080/"
    },
    "id": "66c7e591",
    "outputId": "d5e7c763-d9bf-4831-d10e-2b36ddba60b2"
   },
   "outputs": [
    {
     "name": "stderr",
     "output_type": "stream",
     "text": [
      "100%|██████████| 22723/22723 [01:04<00:00, 352.70it/s]\n"
     ]
    }
   ],
   "source": [
    "train_texts_ids = texts_to_ids(tokenizer, train_texts)"
   ]
  },
  {
   "cell_type": "code",
   "execution_count": 48,
   "id": "a6c1b8d2",
   "metadata": {
    "id": "a6c1b8d2"
   },
   "outputs": [],
   "source": [
    "train_padding_list = pad_sequences(\n",
    "    train_texts_ids,\n",
    "    maxlen=500,\n",
    "    dtype='long',\n",
    "    truncating='post',\n",
    "    padding='post'\n",
    ")"
   ]
  },
  {
   "cell_type": "code",
   "execution_count": 49,
   "id": "c7404b02",
   "metadata": {
    "colab": {
     "base_uri": "https://localhost:8080/"
    },
    "id": "c7404b02",
    "outputId": "6f0ba215-d37e-4645-e242-14629f212150"
   },
   "outputs": [
    {
     "name": "stderr",
     "output_type": "stream",
     "text": [
      "100%|██████████| 22723/22723 [00:05<00:00, 4256.80it/s]\n"
     ]
    }
   ],
   "source": [
    "train_attention_masks = [[float(i>0) for i in sequence] for sequence in tqdm(train_padding_list, total=len(train_padding_list))]"
   ]
  },
  {
   "cell_type": "code",
   "execution_count": 50,
   "id": "65fcfae4",
   "metadata": {
    "id": "65fcfae4"
   },
   "outputs": [],
   "source": [
    "assert len(train_texts) == len(train_labels) == len(train_attention_masks) == len(train_padding_list)"
   ]
  },
  {
   "cell_type": "code",
   "execution_count": 51,
   "id": "59e88176",
   "metadata": {
    "colab": {
     "base_uri": "https://localhost:8080/"
    },
    "id": "59e88176",
    "outputId": "1e30e788-d915-4031-80c5-57e6105e644d",
    "scrolled": true
   },
   "outputs": [
    {
     "name": "stdout",
     "output_type": "stream",
     "text": [
      "Token ids:  [101, 13971, 18929, 13776, 14013, 25972, 8599, 47018, 10925, 269, 30786, 10843, 28628, 1699, 57466, 12730, 32655, 32535, 16132, 25976, 100, 16193, 46739, 13837, 55483, 51036, 28628, 13690, 8382, 100, 42657, 10710, 10829, 11413, 16193, 8968, 100499, 23887, 61096, 29880, 1699, 57466, 16592, 43963, 59891, 7001, 2317, 40096, 33471, 100, 13012, 100, 2317, 2881, 13690, 9395, 10424, 18934, 40474, 100, 12068, 25515, 33471, 11489, 17724, 57314, 70025, 14520, 20138, 12527, 267, 16215, 4161, 15603, 17719, 100, 115348, 46695, 27441, 50245, 1757, 31273, 29552, 11440, 100, 54203, 77152, 10710, 10829, 32724, 271, 19545, 88523, 70025, 67150, 12725, 39656, 9610, 12772, 100, 11802, 7089, 14734, 5696, 3054, 7119, 97289, 9905, 100, 115348, 40436, 8835, 20138, 12527, 267, 16215, 19589, 100, 36722, 63916, 78021, 29658, 73758, 40436, 8835, 54796, 12068, 10192, 39630, 19380, 115348, 72632, 9111, 5696, 3054, 7119, 37656, 70025, 852, 13831, 73089, 36172, 16904, 10710, 10829, 11270, 92068, 26894, 281, 11005, 11822, 9984, 89718, 101257, 18598, 11484, 19085, 11215, 267, 6155, 64301, 3073, 10710, 10829, 11270, 92068, 26894, 281, 9111, 40517, 100, 100, 15261, 38246, 25982, 8662, 6155, 64301, 3073, 11005, 11822, 9984, 89718, 27441, 9111, 100, 38246, 10044, 25982, 8662, 6155, 64301, 3073, 101257, 18598, 11484, 19085, 11215, 267, 9111, 19545, 80871, 73089, 16640, 626, 10710, 10829, 11267, 29658, 73758, 100, 12887, 11871, 12540, 277, 239, 19545, 38246, 29788, 107801, 2237, 25982, 8662, 26526, 10710, 10829, 109565, 12956, 57763, 8531, 17022, 110647, 100, 85374, 22464, 26072, 27127, 91285, 852, 103993, 1388, 26864, 85720, 13575, 39590, 50210, 10616, 14857, 259, 266, 32084, 35290, 10829, 9833, 272, 12689, 10880, 273, 10710, 10853, 39490, 11403, 13242, 15843, 10852, 261, 69666, 39035, 17103, 27956, 14473, 20040, 239, 32623, 19659, 85374, 13710, 100, 12923, 40517, 12447, 10710, 10829, 32724, 271, 82762, 9051, 24156, 30971, 100, 25976, 10710, 10829, 32724, 271, 82762, 5976, 36999, 48386, 50245, 3695, 115348, 39095, 28628, 13690, 8382, 71455, 884, 33471, 43163, 26785, 3763, 11345, 11743, 18641, 12391, 11345, 11743, 39479, 1524, 57381, 63916, 14577, 11441, 97524, 25962, 100, 27651, 39127, 100, 36171, 11441, 45942, 14763, 80209, 50809, 109565, 10710, 10829, 13690, 9395, 22259, 39230, 100, 39479, 1524, 50809, 116622, 10710, 10829, 32724, 271, 13690, 8382, 32961, 11658, 10760, 60411, 267, 16215, 95610, 42550, 3065, 29658, 18929, 32724, 271, 12763, 18929, 13776, 14013, 105564, 13971, 25972, 8599, 47018, 10925, 269, 10843, 30786, 1699, 57466, 12730, 28628, 32655, 16132, 32535, 100, 25976, 13837, 55483, 16193, 46739, 51036, 13690, 8382, 28628, 100, 42657, 16193, 8968, 10710, 10829, 11413, 100499, 23887, 61096, 29880, 1699, 57466, 16592, 59891, 43963, 2317, 40096, 7001, 33471, 13012, 100, 100, 2317, 2881, 10424, 13690, 9395, 40474, 18934, 100, 12068, 25515, 33471, 11489, 17724, 57314, 70025, 14520, 20138, 12527, 267, 16215, 15603, 4161, 100, 17719, 115348, 46695, 27441, 50245, 1757, 31273, 29552, 11440, 77152, 54203, 100, 10710, 10829, 32724, 271, 88523, 19545, 70025, 67150, 12725, 39656, 100, 9610, 12772, 11802, 7089, 14734, 5696, 3054, 7119, 100, 97289, 9905, 40436, 8835, 115348, 20138, 12527, 267, 16215, 100, 19589, 36722, 78021, 63916, 29658, 73758, 40436, 54796, 12068, 8835, 10192, 39630, 19380, 115348, 72632, 37656, 5696, 3054, 7119, 9111, 13831, 36172, 70025, 852, 10710, 10829, 11270, 92068, 26894, 281, 73089, 11005, 11822, 9984, 89718, 16904, 101257, 18598, 11484, 19085, 11215, 267, 6155, 64301, 3073, 10710, 10829, 11270, 92068, 26894, 281, 9111, 40517, 100, 15261, 100, 38246, 25982, 8662, 6155, 64301, 3073, 11005, 11822, 9984, 89718, 9111, 27441, 100, 10044, 38246, 25982, 8662, 6155, 64301, 3073, 9111, 101257, 18598, 11484, 19085, 11215, 267, 80871, 19545, 73089, 10710, 10829, 11267, 16640, 626, 73758, 29658, 100, 12887, 11871, 12540, 277, 239, 19545, 29788, 107801, 2237, 38246, 25982, 8662, 109565, 26526, 10710, 10829, 57763, 8531, 17022, 12956, 100, 110647, 85374, 82762, 36999, 5976, 48386, 115348, 39095, 50245, 3695, 28628, 13690, 8382, 71455, 884, 33471, 43163, 26785, 3763, 18641, 12391, 11345, 11743, 57381, 11345, 11743, 39479, 1524, 63916, 11441, 97524, 14577, 25962, 100, 100, 39127, 27651, 36171, 45942, 14763, 11441, 80209, 50809, 109565, 10710, 10829, 22259, 39230, 13690, 9395, 50809, 39479, 1524, 100, 116622, 13690, 8382, 10710, 10829, 32724, 271, 32961, 11658, 95610, 10760, 60411, 267, 16215, 42550, 3065, 12763, 29658, 18929, 32724, 271, 18929, 13776, 14013, 105564, 13971, 25972, 8599, 47018, 10925, 269, 10843, 30786, 1699, 57466, 12730, 28628, 32655, 16132, 32535, 100, 16193, 46739, 25976, 51036, 13837, 55483, 28628, 13690, 8382, 42657, 100, 10710, 10829, 11413, 16193, 8968, 100499, 23887, 61096, 29880, 43963, 1699, 57466, 16592, 59891, 2317, 40096, 33471, 7001, 13012, 100, 100, 2317, 2881, 13690, 9395, 10424, 18934, 40474, 12068, 25515, 100, 33471, 11489, 17724, 70025, 14520, 57314, 20138, 12527, 267, 16215, 4161, 15603, 100, 17719, 115348, 46695, 50245, 1757, 27441, 31273, 29552, 11440, 77152, 100, 54203, 10710, 10829, 32724, 271, 19545, 88523, 70025, 67150, 102]\n",
      "len(Token ids) =  771\n",
      "\n",
      "\n",
      "Padding:  [   101  13971  18929  13776  14013  25972   8599  47018  10925    269\n",
      "  30786  10843  28628   1699  57466  12730  32655  32535  16132  25976\n",
      "    100  16193  46739  13837  55483  51036  28628  13690   8382    100\n",
      "  42657  10710  10829  11413  16193   8968 100499  23887  61096  29880\n",
      "   1699  57466  16592  43963  59891   7001   2317  40096  33471    100\n",
      "  13012    100   2317   2881  13690   9395  10424  18934  40474    100\n",
      "  12068  25515  33471  11489  17724  57314  70025  14520  20138  12527\n",
      "    267  16215   4161  15603  17719    100 115348  46695  27441  50245\n",
      "   1757  31273  29552  11440    100  54203  77152  10710  10829  32724\n",
      "    271  19545  88523  70025  67150  12725  39656   9610  12772    100\n",
      "  11802   7089  14734   5696   3054   7119  97289   9905    100 115348\n",
      "  40436   8835  20138  12527    267  16215  19589    100  36722  63916\n",
      "  78021  29658  73758  40436   8835  54796  12068  10192  39630  19380\n",
      " 115348  72632   9111   5696   3054   7119  37656  70025    852  13831\n",
      "  73089  36172  16904  10710  10829  11270  92068  26894    281  11005\n",
      "  11822   9984  89718 101257  18598  11484  19085  11215    267   6155\n",
      "  64301   3073  10710  10829  11270  92068  26894    281   9111  40517\n",
      "    100    100  15261  38246  25982   8662   6155  64301   3073  11005\n",
      "  11822   9984  89718  27441   9111    100  38246  10044  25982   8662\n",
      "   6155  64301   3073 101257  18598  11484  19085  11215    267   9111\n",
      "  19545  80871  73089  16640    626  10710  10829  11267  29658  73758\n",
      "    100  12887  11871  12540    277    239  19545  38246  29788 107801\n",
      "   2237  25982   8662  26526  10710  10829 109565  12956  57763   8531\n",
      "  17022 110647    100  85374  22464  26072  27127  91285    852 103993\n",
      "   1388  26864  85720  13575  39590  50210  10616  14857    259    266\n",
      "  32084  35290  10829   9833    272  12689  10880    273  10710  10853\n",
      "  39490  11403  13242  15843  10852    261  69666  39035  17103  27956\n",
      "  14473  20040    239  32623  19659  85374  13710    100  12923  40517\n",
      "  12447  10710  10829  32724    271  82762   9051  24156  30971    100\n",
      "  25976  10710  10829  32724    271  82762   5976  36999  48386  50245\n",
      "   3695 115348  39095  28628  13690   8382  71455    884  33471  43163\n",
      "  26785   3763  11345  11743  18641  12391  11345  11743  39479   1524\n",
      "  57381  63916  14577  11441  97524  25962    100  27651  39127    100\n",
      "  36171  11441  45942  14763  80209  50809 109565  10710  10829  13690\n",
      "   9395  22259  39230    100  39479   1524  50809 116622  10710  10829\n",
      "  32724    271  13690   8382  32961  11658  10760  60411    267  16215\n",
      "  95610  42550   3065  29658  18929  32724    271  12763  18929  13776\n",
      "  14013 105564  13971  25972   8599  47018  10925    269  10843  30786\n",
      "   1699  57466  12730  28628  32655  16132  32535    100  25976  13837\n",
      "  55483  16193  46739  51036  13690   8382  28628    100  42657  16193\n",
      "   8968  10710  10829  11413 100499  23887  61096  29880   1699  57466\n",
      "  16592  59891  43963   2317  40096   7001  33471  13012    100    100\n",
      "   2317   2881  10424  13690   9395  40474  18934    100  12068  25515\n",
      "  33471  11489  17724  57314  70025  14520  20138  12527    267  16215\n",
      "  15603   4161    100  17719 115348  46695  27441  50245   1757  31273\n",
      "  29552  11440  77152  54203    100  10710  10829  32724    271  88523\n",
      "  19545  70025  67150  12725  39656    100   9610  12772  11802   7089\n",
      "  14734   5696   3054   7119    100  97289   9905  40436   8835 115348\n",
      "  20138  12527    267  16215    100  19589  36722  78021  63916  29658\n",
      "  73758  40436  54796  12068   8835  10192  39630  19380 115348  72632]\n",
      "len(Padding) =  500\n",
      "\n",
      "\n",
      "Attention masks:  [1.0, 1.0, 1.0, 1.0, 1.0, 1.0, 1.0, 1.0, 1.0, 1.0, 1.0, 1.0, 1.0, 1.0, 1.0, 1.0, 1.0, 1.0, 1.0, 1.0, 1.0, 1.0, 1.0, 1.0, 1.0, 1.0, 1.0, 1.0, 1.0, 1.0, 1.0, 1.0, 1.0, 1.0, 1.0, 1.0, 1.0, 1.0, 1.0, 1.0, 1.0, 1.0, 1.0, 1.0, 1.0, 1.0, 1.0, 1.0, 1.0, 1.0, 1.0, 1.0, 1.0, 1.0, 1.0, 1.0, 1.0, 1.0, 1.0, 1.0, 1.0, 1.0, 1.0, 1.0, 1.0, 1.0, 1.0, 1.0, 1.0, 1.0, 1.0, 1.0, 1.0, 1.0, 1.0, 1.0, 1.0, 1.0, 1.0, 1.0, 1.0, 1.0, 1.0, 1.0, 1.0, 1.0, 1.0, 1.0, 1.0, 1.0, 1.0, 1.0, 1.0, 1.0, 1.0, 1.0, 1.0, 1.0, 1.0, 1.0, 1.0, 1.0, 1.0, 1.0, 1.0, 1.0, 1.0, 1.0, 1.0, 1.0, 1.0, 1.0, 1.0, 1.0, 1.0, 1.0, 1.0, 1.0, 1.0, 1.0, 1.0, 1.0, 1.0, 1.0, 1.0, 1.0, 1.0, 1.0, 1.0, 1.0, 1.0, 1.0, 1.0, 1.0, 1.0, 1.0, 1.0, 1.0, 1.0, 1.0, 1.0, 1.0, 1.0, 1.0, 1.0, 1.0, 1.0, 1.0, 1.0, 1.0, 1.0, 1.0, 1.0, 1.0, 1.0, 1.0, 1.0, 1.0, 1.0, 1.0, 1.0, 1.0, 1.0, 1.0, 1.0, 1.0, 1.0, 1.0, 1.0, 1.0, 1.0, 1.0, 1.0, 1.0, 1.0, 1.0, 1.0, 1.0, 1.0, 1.0, 1.0, 1.0, 1.0, 1.0, 1.0, 1.0, 1.0, 1.0, 1.0, 1.0, 1.0, 1.0, 1.0, 1.0, 1.0, 1.0, 1.0, 1.0, 1.0, 1.0, 1.0, 1.0, 1.0, 1.0, 1.0, 1.0, 1.0, 1.0, 1.0, 1.0, 1.0, 1.0, 1.0, 1.0, 1.0, 1.0, 1.0, 1.0, 1.0, 1.0, 1.0, 1.0, 1.0, 1.0, 1.0, 1.0, 1.0, 1.0, 1.0, 1.0, 1.0, 1.0, 1.0, 1.0, 1.0, 1.0, 1.0, 1.0, 1.0, 1.0, 1.0, 1.0, 1.0, 1.0, 1.0, 1.0, 1.0, 1.0, 1.0, 1.0, 1.0, 1.0, 1.0, 1.0, 1.0, 1.0, 1.0, 1.0, 1.0, 1.0, 1.0, 1.0, 1.0, 1.0, 1.0, 1.0, 1.0, 1.0, 1.0, 1.0, 1.0, 1.0, 1.0, 1.0, 1.0, 1.0, 1.0, 1.0, 1.0, 1.0, 1.0, 1.0, 1.0, 1.0, 1.0, 1.0, 1.0, 1.0, 1.0, 1.0, 1.0, 1.0, 1.0, 1.0, 1.0, 1.0, 1.0, 1.0, 1.0, 1.0, 1.0, 1.0, 1.0, 1.0, 1.0, 1.0, 1.0, 1.0, 1.0, 1.0, 1.0, 1.0, 1.0, 1.0, 1.0, 1.0, 1.0, 1.0, 1.0, 1.0, 1.0, 1.0, 1.0, 1.0, 1.0, 1.0, 1.0, 1.0, 1.0, 1.0, 1.0, 1.0, 1.0, 1.0, 1.0, 1.0, 1.0, 1.0, 1.0, 1.0, 1.0, 1.0, 1.0, 1.0, 1.0, 1.0, 1.0, 1.0, 1.0, 1.0, 1.0, 1.0, 1.0, 1.0, 1.0, 1.0, 1.0, 1.0, 1.0, 1.0, 1.0, 1.0, 1.0, 1.0, 1.0, 1.0, 1.0, 1.0, 1.0, 1.0, 1.0, 1.0, 1.0, 1.0, 1.0, 1.0, 1.0, 1.0, 1.0, 1.0, 1.0, 1.0, 1.0, 1.0, 1.0, 1.0, 1.0, 1.0, 1.0, 1.0, 1.0, 1.0, 1.0, 1.0, 1.0, 1.0, 1.0, 1.0, 1.0, 1.0, 1.0, 1.0, 1.0, 1.0, 1.0, 1.0, 1.0, 1.0, 1.0, 1.0, 1.0, 1.0, 1.0, 1.0, 1.0, 1.0, 1.0, 1.0, 1.0, 1.0, 1.0, 1.0, 1.0, 1.0, 1.0, 1.0, 1.0, 1.0, 1.0, 1.0, 1.0, 1.0, 1.0, 1.0, 1.0, 1.0, 1.0, 1.0, 1.0, 1.0, 1.0, 1.0, 1.0, 1.0, 1.0, 1.0, 1.0, 1.0, 1.0, 1.0, 1.0, 1.0, 1.0, 1.0, 1.0, 1.0, 1.0, 1.0, 1.0, 1.0, 1.0, 1.0, 1.0, 1.0, 1.0, 1.0, 1.0, 1.0, 1.0, 1.0, 1.0, 1.0, 1.0, 1.0, 1.0, 1.0, 1.0, 1.0, 1.0, 1.0, 1.0, 1.0, 1.0, 1.0, 1.0, 1.0, 1.0, 1.0, 1.0, 1.0, 1.0, 1.0, 1.0, 1.0, 1.0, 1.0, 1.0, 1.0, 1.0, 1.0]\n",
      "len(Attention masks) =  500\n",
      "\n",
      "\n"
     ]
    }
   ],
   "source": [
    "print('Token ids: ', train_texts_ids[0])\n",
    "print(\"len(Token ids) = \", len(train_texts_ids[0]))\n",
    "print(\"\\n\")\n",
    "\n",
    "print('Padding: ', train_padding_list[0])\n",
    "print(\"len(Padding) = \", len(train_padding_list[0]))\n",
    "print(\"\\n\")\n",
    "\n",
    "print('Attention masks: ', train_attention_masks[0])\n",
    "print(\"len(Attention masks) = \", len(train_attention_masks[0]))\n",
    "print(\"\\n\")"
   ]
  },
  {
   "cell_type": "markdown",
   "id": "2ddc9a66",
   "metadata": {
    "id": "2ddc9a66"
   },
   "source": [
    "### Разделение обучающего набора на train и validation datasets"
   ]
  },
  {
   "cell_type": "code",
   "execution_count": 52,
   "id": "7e06829e",
   "metadata": {
    "id": "7e06829e"
   },
   "outputs": [],
   "source": [
    "train_inputs, validation_inputs, train_labels, validation_labels = train_test_split(\n",
    "    train_padding_list, train_labels, \n",
    "    random_state=42,\n",
    "    test_size=0.1\n",
    ")"
   ]
  },
  {
   "cell_type": "code",
   "execution_count": 53,
   "id": "97c0bafc",
   "metadata": {
    "id": "97c0bafc"
   },
   "outputs": [],
   "source": [
    "train_attention_masks, validation_attention_masks, _, _ = train_test_split(\n",
    "    train_attention_masks,\n",
    "    train_padding_list,\n",
    "    random_state=42,\n",
    "    test_size=0.1\n",
    ")  "
   ]
  },
  {
   "cell_type": "code",
   "execution_count": 54,
   "id": "2a19e035",
   "metadata": {
    "colab": {
     "base_uri": "https://localhost:8080/"
    },
    "id": "2a19e035",
    "outputId": "d83ee6c3-8b08-4510-d6a7-732ffa2f918a"
   },
   "outputs": [
    {
     "data": {
      "text/plain": [
       "(20450, 2273)"
      ]
     },
     "execution_count": 54,
     "metadata": {},
     "output_type": "execute_result"
    }
   ],
   "source": [
    "len(train_labels), len(validation_labels)"
   ]
  },
  {
   "cell_type": "code",
   "execution_count": 55,
   "id": "d9a7580a",
   "metadata": {
    "id": "d9a7580a"
   },
   "outputs": [],
   "source": [
    "assert len(train_inputs) == len(train_labels) == len(train_attention_masks)\n",
    "assert len(validation_inputs) == len(validation_labels) == len(validation_attention_masks)"
   ]
  },
  {
   "cell_type": "markdown",
   "id": "166aea5a",
   "metadata": {
    "id": "166aea5a"
   },
   "source": [
    "## Инициализация DataLoader'ов"
   ]
  },
  {
   "cell_type": "code",
   "execution_count": 56,
   "id": "3b8fefb0",
   "metadata": {
    "id": "3b8fefb0"
   },
   "outputs": [],
   "source": [
    "train_inputs = torch.tensor(train_inputs)\n",
    "validation_inputs = torch.tensor(validation_inputs)\n",
    "\n",
    "train_labels = torch.tensor(train_labels)\n",
    "validation_labels = torch.tensor(validation_labels)\n",
    "\n",
    "train_masks = torch.tensor(train_attention_masks)\n",
    "validation_masks = torch.tensor(validation_attention_masks)"
   ]
  },
  {
   "cell_type": "code",
   "execution_count": 57,
   "id": "62f0138b",
   "metadata": {
    "id": "62f0138b"
   },
   "outputs": [],
   "source": [
    "# len(trainDataLoader)\n",
    "# for batchIdx, sample in enumerate(trainDataloader):"
   ]
  },
  {
   "cell_type": "code",
   "execution_count": 58,
   "id": "e737ba1e",
   "metadata": {
    "id": "e737ba1e"
   },
   "outputs": [],
   "source": [
    "batch_size = 16\n",
    "\n",
    "train_data = TensorDataset(train_inputs, train_masks, train_labels)\n",
    "train_sampler = RandomSampler(train_data)\n",
    "train_dataloader = DataLoader(train_data, sampler=train_sampler, batch_size=batch_size)\n",
    "\n",
    "validation_data = TensorDataset(validation_inputs, validation_masks, validation_labels)\n",
    "validation_sampler = RandomSampler(validation_data)\n",
    "validation_dataloader = DataLoader(validation_data, sampler=validation_sampler, batch_size=batch_size)"
   ]
  },
  {
   "cell_type": "markdown",
   "id": "2ea5bbb9",
   "metadata": {
    "id": "2ea5bbb9"
   },
   "source": [
    "## Дообучение"
   ]
  },
  {
   "cell_type": "code",
   "execution_count": 59,
   "id": "9f7e943e",
   "metadata": {
    "id": "9f7e943e"
   },
   "outputs": [],
   "source": [
    "config = AutoConfig.from_pretrained('DeepPavlov/rubert-base-cased',\n",
    "                                    num_labels=len(category_index),\n",
    "                                    id2label=reverse_category_index,\n",
    "                                    label2id=category_index)"
   ]
  },
  {
   "cell_type": "code",
   "execution_count": 60,
   "id": "9f96160b",
   "metadata": {
    "colab": {
     "base_uri": "https://localhost:8080/",
     "height": 154,
     "referenced_widgets": [
      "fb0194a236c044e2b3bf66cec7616ab1",
      "29c81e527e11467bbbe2e8ef706c1d73",
      "0e0d67a7fd7f40789aa5f5232c33d8f7",
      "64d43c4bf6004c2cab15a95d71876a1d",
      "313930e7138c4d95b95f5feaaa2f3528",
      "bb472c7ad9744e478ae7212d9b1636db",
      "bdb5726673ff4257b63d984038ba9a37",
      "c901088259554e95b7b385e8cecb265c",
      "dea1cf098e1e41d68eb14ec4428915ab",
      "298fae92682d457894b7ae89762e79cf",
      "3fe02511439149e2a120a39fa38eaf9e"
     ]
    },
    "id": "9f96160b",
    "outputId": "3d83b77c-4b25-4ce7-f4b8-1fc2ee60f04f"
   },
   "outputs": [
    {
     "data": {
      "application/vnd.jupyter.widget-view+json": {
       "model_id": "fb0194a236c044e2b3bf66cec7616ab1",
       "version_major": 2,
       "version_minor": 0
      },
      "text/plain": [
       "Downloading pytorch_model.bin:   0%|          | 0.00/714M [00:00<?, ?B/s]"
      ]
     },
     "metadata": {},
     "output_type": "display_data"
    },
    {
     "name": "stderr",
     "output_type": "stream",
     "text": [
      "Some weights of the model checkpoint at DeepPavlov/rubert-base-cased were not used when initializing BertForSequenceClassification: ['cls.seq_relationship.bias', 'cls.predictions.decoder.weight', 'cls.predictions.bias', 'cls.predictions.transform.dense.weight', 'cls.seq_relationship.weight', 'cls.predictions.transform.dense.bias', 'cls.predictions.transform.LayerNorm.bias', 'cls.predictions.decoder.bias', 'cls.predictions.transform.LayerNorm.weight']\n",
      "- This IS expected if you are initializing BertForSequenceClassification from the checkpoint of a model trained on another task or with another architecture (e.g. initializing a BertForSequenceClassification model from a BertForPreTraining model).\n",
      "- This IS NOT expected if you are initializing BertForSequenceClassification from the checkpoint of a model that you expect to be exactly identical (initializing a BertForSequenceClassification model from a BertForSequenceClassification model).\n",
      "Some weights of BertForSequenceClassification were not initialized from the model checkpoint at DeepPavlov/rubert-base-cased and are newly initialized: ['classifier.weight', 'classifier.bias']\n",
      "You should probably TRAIN this model on a down-stream task to be able to use it for predictions and inference.\n"
     ]
    }
   ],
   "source": [
    "model = AutoModelForSequenceClassification.from_pretrained('DeepPavlov/rubert-base-cased', config=config)"
   ]
  },
  {
   "cell_type": "code",
   "execution_count": 61,
   "id": "5b73d9f3",
   "metadata": {
    "colab": {
     "base_uri": "https://localhost:8080/"
    },
    "id": "5b73d9f3",
    "outputId": "532848f1-35ea-4012-c93b-2016c8d442e3"
   },
   "outputs": [
    {
     "data": {
      "text/plain": [
       "BertForSequenceClassification(\n",
       "  (bert): BertModel(\n",
       "    (embeddings): BertEmbeddings(\n",
       "      (word_embeddings): Embedding(119547, 768, padding_idx=0)\n",
       "      (position_embeddings): Embedding(512, 768)\n",
       "      (token_type_embeddings): Embedding(2, 768)\n",
       "      (LayerNorm): LayerNorm((768,), eps=1e-12, elementwise_affine=True)\n",
       "      (dropout): Dropout(p=0.1, inplace=False)\n",
       "    )\n",
       "    (encoder): BertEncoder(\n",
       "      (layer): ModuleList(\n",
       "        (0-11): 12 x BertLayer(\n",
       "          (attention): BertAttention(\n",
       "            (self): BertSelfAttention(\n",
       "              (query): Linear(in_features=768, out_features=768, bias=True)\n",
       "              (key): Linear(in_features=768, out_features=768, bias=True)\n",
       "              (value): Linear(in_features=768, out_features=768, bias=True)\n",
       "              (dropout): Dropout(p=0.1, inplace=False)\n",
       "            )\n",
       "            (output): BertSelfOutput(\n",
       "              (dense): Linear(in_features=768, out_features=768, bias=True)\n",
       "              (LayerNorm): LayerNorm((768,), eps=1e-12, elementwise_affine=True)\n",
       "              (dropout): Dropout(p=0.1, inplace=False)\n",
       "            )\n",
       "          )\n",
       "          (intermediate): BertIntermediate(\n",
       "            (dense): Linear(in_features=768, out_features=3072, bias=True)\n",
       "            (intermediate_act_fn): GELUActivation()\n",
       "          )\n",
       "          (output): BertOutput(\n",
       "            (dense): Linear(in_features=3072, out_features=768, bias=True)\n",
       "            (LayerNorm): LayerNorm((768,), eps=1e-12, elementwise_affine=True)\n",
       "            (dropout): Dropout(p=0.1, inplace=False)\n",
       "          )\n",
       "        )\n",
       "      )\n",
       "    )\n",
       "    (pooler): BertPooler(\n",
       "      (dense): Linear(in_features=768, out_features=768, bias=True)\n",
       "      (activation): Tanh()\n",
       "    )\n",
       "  )\n",
       "  (dropout): Dropout(p=0.1, inplace=False)\n",
       "  (classifier): Linear(in_features=768, out_features=25, bias=True)\n",
       ")"
      ]
     },
     "execution_count": 61,
     "metadata": {},
     "output_type": "execute_result"
    }
   ],
   "source": [
    "model.cuda()"
   ]
  },
  {
   "cell_type": "code",
   "execution_count": 62,
   "id": "8d05a366",
   "metadata": {
    "id": "8d05a366"
   },
   "outputs": [],
   "source": [
    "named_parameters = list(model.named_parameters())"
   ]
  },
  {
   "cell_type": "code",
   "execution_count": 63,
   "id": "d9661e2c",
   "metadata": {
    "id": "d9661e2c"
   },
   "outputs": [],
   "source": [
    "no_decay = [\"bias\", \"LayerNorm.bias\", \"LayerNorm.weight\"]\n",
    "grouped_parameters = [\n",
    "    {'params': [p for name, p in named_parameters if not any(nd in name for nd in no_decay)],\n",
    "     'weightDecay': 0.01}, # param weight\n",
    "    {'params': [p for name, p in named_parameters if any(nd in name for nd in no_decay)],\n",
    "     'weightDecay': 0.0} # param bias, ...\n",
    "]"
   ]
  },
  {
   "cell_type": "code",
   "execution_count": 64,
   "id": "wKyLCaInDQNQ",
   "metadata": {
    "id": "wKyLCaInDQNQ"
   },
   "outputs": [],
   "source": [
    "optimizer = torch.optim.AdamW(grouped_parameters, lr=2e-5)"
   ]
  },
  {
   "cell_type": "code",
   "execution_count": 65,
   "id": "wQ-wD78X6_Ej",
   "metadata": {
    "id": "wQ-wD78X6_Ej"
   },
   "outputs": [],
   "source": [
    "def save_model(model, tokenizer, epoch):\n",
    "  print(f'\\nSaving on epoch {epoch+1}')\n",
    "  directory = f\"/content/drive/MyDrive/cmc/classif_wp/models/model_bert_2/\"\n",
    "  if not os.path.exists(directory):\n",
    "      os.makedirs(directory)\n",
    "\n",
    "  tokenizer.save_pretrained(directory)\n",
    "  model.save_pretrained(directory)"
   ]
  },
  {
   "cell_type": "code",
   "execution_count": 66,
   "id": "67021f95",
   "metadata": {
    "id": "67021f95"
   },
   "outputs": [],
   "source": [
    "def epoch_time(start_time, end_time):\n",
    "    elapsed_time = end_time - start_time\n",
    "    elapsed_mins = int(elapsed_time / 60)\n",
    "    elapsed_secs = int(elapsed_time - (elapsed_mins * 60))\n",
    "    return elapsed_mins, elapsed_secs"
   ]
  },
  {
   "cell_type": "code",
   "execution_count": 67,
   "id": "dQMFn0PKDadz",
   "metadata": {
    "id": "dQMFn0PKDadz"
   },
   "outputs": [],
   "source": [
    "def log_softmax(x):\n",
    "    c = x.max()\n",
    "    logsumexp = torch.log(torch.exp(x - c).sum())\n",
    "    return x - c - logsumexp\n",
    "\n",
    "class CrossEntropyLoss(torch.nn.Module):\n",
    "    def __init__(self):\n",
    "        super().__init__()\n",
    "        \n",
    "    def forward(self, x, labels):\n",
    "        z = torch.empty(x.shape[0], x.shape[1])\n",
    "        \n",
    "        for i in range(x.shape[0]):\n",
    "          z[i] = log_softmax(x[i])\n",
    "\n",
    "        L = torch.empty(x.shape[0])\n",
    "        for i in range(z.shape[0]):\n",
    "          L[i] = z[i][labels[i]]\n",
    "\n",
    "        return torch.mean(-torch.Tensor(L))"
   ]
  },
  {
   "cell_type": "code",
   "execution_count": 68,
   "id": "d_8P_KMsDa1h",
   "metadata": {
    "colab": {
     "base_uri": "https://localhost:8080/"
    },
    "id": "d_8P_KMsDa1h",
    "outputId": "612a4766-2487-4c6e-818c-c11ab667c577"
   },
   "outputs": [
    {
     "name": "stdout",
     "output_type": "stream",
     "text": [
      "\n",
      "======== Epoch 1 / 6 ========\n",
      "Training...\n",
      "  Step  20 of 1279. Loss: 2.9917\n",
      "  Step  40 of 1279. Loss: 2.9311\n",
      "  Step  60 of 1279. Loss: 2.9992\n",
      "  Step  80 of 1279. Loss: 2.9746\n",
      "  Step 100 of 1279. Loss: 2.8545\n",
      "  Step 120 of 1279. Loss: 2.6713\n",
      "  Step 140 of 1279. Loss: 2.7075\n",
      "  Step 160 of 1279. Loss: 2.4271\n",
      "  Step 180 of 1279. Loss: 2.5605\n",
      "  Step 200 of 1279. Loss: 2.5559\n",
      "  Step 220 of 1279. Loss: 2.0136\n",
      "  Step 240 of 1279. Loss: 2.7493\n",
      "  Step 260 of 1279. Loss: 1.8295\n",
      "  Step 280 of 1279. Loss: 2.1314\n",
      "  Step 300 of 1279. Loss: 2.3535\n",
      "  Step 320 of 1279. Loss: 1.9974\n",
      "  Step 340 of 1279. Loss: 2.0304\n",
      "  Step 360 of 1279. Loss: 1.8757\n",
      "  Step 380 of 1279. Loss: 2.2914\n",
      "  Step 400 of 1279. Loss: 1.8040\n",
      "  Step 420 of 1279. Loss: 2.2430\n",
      "  Step 440 of 1279. Loss: 1.7876\n",
      "  Step 460 of 1279. Loss: 1.7876\n",
      "  Step 480 of 1279. Loss: 1.6165\n",
      "  Step 500 of 1279. Loss: 1.6581\n",
      "  Step 520 of 1279. Loss: 1.4897\n",
      "  Step 540 of 1279. Loss: 1.0770\n",
      "  Step 560 of 1279. Loss: 1.2262\n",
      "  Step 580 of 1279. Loss: 1.7894\n",
      "  Step 600 of 1279. Loss: 1.7032\n",
      "  Step 620 of 1279. Loss: 1.3463\n",
      "  Step 640 of 1279. Loss: 1.9961\n",
      "  Step 660 of 1279. Loss: 2.0984\n",
      "  Step 680 of 1279. Loss: 1.1477\n",
      "  Step 700 of 1279. Loss: 1.9784\n",
      "  Step 720 of 1279. Loss: 1.4227\n",
      "  Step 740 of 1279. Loss: 1.5273\n",
      "  Step 760 of 1279. Loss: 1.6191\n",
      "  Step 780 of 1279. Loss: 1.4794\n",
      "  Step 800 of 1279. Loss: 1.9519\n",
      "  Step 820 of 1279. Loss: 1.4919\n",
      "  Step 840 of 1279. Loss: 1.4243\n",
      "  Step 860 of 1279. Loss: 2.1188\n",
      "  Step 880 of 1279. Loss: 1.1960\n",
      "  Step 900 of 1279. Loss: 0.8315\n",
      "  Step 920 of 1279. Loss: 1.5932\n",
      "  Step 940 of 1279. Loss: 1.7314\n",
      "  Step 960 of 1279. Loss: 1.0411\n",
      "  Step 980 of 1279. Loss: 1.1103\n",
      "  Step 1,000 of 1279. Loss: 1.2620\n",
      "  Step 1,020 of 1279. Loss: 2.0854\n",
      "  Step 1,040 of 1279. Loss: 1.3066\n",
      "  Step 1,060 of 1279. Loss: 1.0406\n",
      "  Step 1,080 of 1279. Loss: 1.3487\n",
      "  Step 1,100 of 1279. Loss: 1.6378\n",
      "  Step 1,120 of 1279. Loss: 1.1910\n",
      "  Step 1,140 of 1279. Loss: 0.9608\n",
      "  Step 1,160 of 1279. Loss: 1.5508\n",
      "  Step 1,180 of 1279. Loss: 1.4915\n",
      "  Step 1,200 of 1279. Loss: 1.5701\n",
      "  Step 1,220 of 1279. Loss: 1.3731\n",
      "  Step 1,240 of 1279. Loss: 1.7853\n",
      "  Step 1,260 of 1279. Loss: 1.6995\n",
      "\n",
      "  Training f1-micro: 48.24%\n",
      "  Training loss: 1.8322\n",
      "  Training epoch took: 31m 28s\n",
      "\n",
      "Running Validation...\n",
      "  F1-micro: 64.63%\n",
      "   Validation loss: 1.2226\n",
      "  Validation took: 1m 11s\n",
      "\n",
      "Saving on epoch 1\n",
      "\n",
      "======== Epoch 2 / 6 ========\n",
      "Training...\n",
      "  Step  20 of 1279. Loss: 0.6446\n",
      "  Step  40 of 1279. Loss: 1.2791\n",
      "  Step  60 of 1279. Loss: 1.2055\n",
      "  Step  80 of 1279. Loss: 0.8995\n",
      "  Step 100 of 1279. Loss: 0.8936\n",
      "  Step 120 of 1279. Loss: 0.8678\n",
      "  Step 140 of 1279. Loss: 1.0250\n",
      "  Step 160 of 1279. Loss: 0.8363\n",
      "  Step 180 of 1279. Loss: 0.8384\n",
      "  Step 200 of 1279. Loss: 1.0322\n",
      "  Step 220 of 1279. Loss: 0.5146\n",
      "  Step 240 of 1279. Loss: 1.3409\n",
      "  Step 260 of 1279. Loss: 1.4764\n",
      "  Step 280 of 1279. Loss: 1.1569\n",
      "  Step 300 of 1279. Loss: 1.0349\n",
      "  Step 320 of 1279. Loss: 0.9725\n",
      "  Step 340 of 1279. Loss: 0.8436\n",
      "  Step 360 of 1279. Loss: 0.7990\n",
      "  Step 380 of 1279. Loss: 0.9700\n",
      "  Step 400 of 1279. Loss: 1.1768\n",
      "  Step 420 of 1279. Loss: 0.9132\n",
      "  Step 440 of 1279. Loss: 1.2430\n",
      "  Step 460 of 1279. Loss: 0.5784\n",
      "  Step 480 of 1279. Loss: 1.0396\n",
      "  Step 500 of 1279. Loss: 0.7492\n",
      "  Step 520 of 1279. Loss: 0.5607\n",
      "  Step 540 of 1279. Loss: 0.8715\n",
      "  Step 560 of 1279. Loss: 0.6390\n",
      "  Step 580 of 1279. Loss: 0.8452\n",
      "  Step 600 of 1279. Loss: 1.1652\n",
      "  Step 620 of 1279. Loss: 1.2930\n",
      "  Step 640 of 1279. Loss: 1.0458\n",
      "  Step 660 of 1279. Loss: 0.7167\n",
      "  Step 680 of 1279. Loss: 0.7798\n",
      "  Step 700 of 1279. Loss: 1.1949\n",
      "  Step 720 of 1279. Loss: 1.3099\n",
      "  Step 740 of 1279. Loss: 1.0762\n",
      "  Step 760 of 1279. Loss: 0.5512\n",
      "  Step 780 of 1279. Loss: 0.9828\n",
      "  Step 800 of 1279. Loss: 0.3961\n",
      "  Step 820 of 1279. Loss: 0.6809\n",
      "  Step 840 of 1279. Loss: 0.6408\n",
      "  Step 860 of 1279. Loss: 1.2148\n",
      "  Step 880 of 1279. Loss: 0.5437\n",
      "  Step 900 of 1279. Loss: 0.7723\n",
      "  Step 920 of 1279. Loss: 0.6639\n",
      "  Step 940 of 1279. Loss: 1.3670\n",
      "  Step 960 of 1279. Loss: 1.2123\n",
      "  Step 980 of 1279. Loss: 0.7573\n",
      "  Step 1,000 of 1279. Loss: 0.5119\n",
      "  Step 1,020 of 1279. Loss: 0.6040\n",
      "  Step 1,040 of 1279. Loss: 0.4770\n",
      "  Step 1,060 of 1279. Loss: 0.9716\n",
      "  Step 1,080 of 1279. Loss: 0.7536\n",
      "  Step 1,100 of 1279. Loss: 0.4255\n",
      "  Step 1,120 of 1279. Loss: 0.3101\n",
      "  Step 1,140 of 1279. Loss: 0.9614\n",
      "  Step 1,160 of 1279. Loss: 0.5117\n",
      "  Step 1,180 of 1279. Loss: 1.0654\n",
      "  Step 1,200 of 1279. Loss: 0.6144\n",
      "  Step 1,220 of 1279. Loss: 1.4959\n",
      "  Step 1,240 of 1279. Loss: 1.0570\n",
      "  Step 1,260 of 1279. Loss: 1.0110\n",
      "\n",
      "  Training f1-micro: 73.85%\n",
      "  Training loss: 0.9220\n",
      "  Training epoch took: 30m 45s\n",
      "\n",
      "Running Validation...\n",
      "  F1-micro: 73.12%\n",
      "   Validation loss: 0.9180\n",
      "  Validation took: 1m 11s\n",
      "\n",
      "Saving on epoch 2\n",
      "\n",
      "======== Epoch 3 / 6 ========\n",
      "Training...\n",
      "  Step  20 of 1279. Loss: 0.5299\n",
      "  Step  40 of 1279. Loss: 0.5766\n",
      "  Step  60 of 1279. Loss: 0.2211\n",
      "  Step  80 of 1279. Loss: 0.1763\n",
      "  Step 100 of 1279. Loss: 0.5604\n",
      "  Step 120 of 1279. Loss: 1.1588\n",
      "  Step 140 of 1279. Loss: 0.1105\n",
      "  Step 160 of 1279. Loss: 0.3850\n",
      "  Step 180 of 1279. Loss: 0.5042\n",
      "  Step 200 of 1279. Loss: 0.4621\n",
      "  Step 220 of 1279. Loss: 0.2539\n",
      "  Step 240 of 1279. Loss: 0.4044\n",
      "  Step 260 of 1279. Loss: 0.6932\n",
      "  Step 280 of 1279. Loss: 0.3601\n",
      "  Step 300 of 1279. Loss: 0.3866\n",
      "  Step 320 of 1279. Loss: 0.1832\n",
      "  Step 340 of 1279. Loss: 0.4749\n",
      "  Step 360 of 1279. Loss: 1.1044\n",
      "  Step 380 of 1279. Loss: 0.2660\n",
      "  Step 400 of 1279. Loss: 0.4886\n",
      "  Step 420 of 1279. Loss: 0.4961\n",
      "  Step 440 of 1279. Loss: 0.4153\n",
      "  Step 460 of 1279. Loss: 0.2729\n",
      "  Step 480 of 1279. Loss: 0.3126\n",
      "  Step 500 of 1279. Loss: 0.1315\n",
      "  Step 520 of 1279. Loss: 0.6314\n",
      "  Step 540 of 1279. Loss: 0.4805\n",
      "  Step 560 of 1279. Loss: 0.6725\n",
      "  Step 580 of 1279. Loss: 0.9080\n",
      "  Step 600 of 1279. Loss: 0.3018\n",
      "  Step 620 of 1279. Loss: 0.2866\n",
      "  Step 640 of 1279. Loss: 0.3369\n",
      "  Step 660 of 1279. Loss: 0.5770\n",
      "  Step 680 of 1279. Loss: 0.1709\n",
      "  Step 700 of 1279. Loss: 0.0800\n",
      "  Step 720 of 1279. Loss: 0.0632\n",
      "  Step 740 of 1279. Loss: 0.4748\n",
      "  Step 760 of 1279. Loss: 0.3064\n",
      "  Step 780 of 1279. Loss: 0.2440\n",
      "  Step 800 of 1279. Loss: 0.3167\n",
      "  Step 820 of 1279. Loss: 0.6412\n",
      "  Step 840 of 1279. Loss: 0.7193\n",
      "  Step 860 of 1279. Loss: 0.1336\n",
      "  Step 880 of 1279. Loss: 0.7686\n",
      "  Step 900 of 1279. Loss: 0.2905\n",
      "  Step 920 of 1279. Loss: 0.4133\n",
      "  Step 940 of 1279. Loss: 0.6140\n",
      "  Step 960 of 1279. Loss: 0.1249\n",
      "  Step 980 of 1279. Loss: 0.7313\n",
      "  Step 1,000 of 1279. Loss: 0.3722\n",
      "  Step 1,020 of 1279. Loss: 0.3183\n",
      "  Step 1,040 of 1279. Loss: 0.9856\n",
      "  Step 1,060 of 1279. Loss: 0.2062\n",
      "  Step 1,080 of 1279. Loss: 0.8511\n",
      "  Step 1,100 of 1279. Loss: 0.2836\n",
      "  Step 1,120 of 1279. Loss: 0.6505\n",
      "  Step 1,140 of 1279. Loss: 0.5579\n",
      "  Step 1,160 of 1279. Loss: 0.4797\n",
      "  Step 1,180 of 1279. Loss: 0.1800\n",
      "  Step 1,200 of 1279. Loss: 0.1264\n",
      "  Step 1,220 of 1279. Loss: 0.3186\n",
      "  Step 1,240 of 1279. Loss: 0.8021\n",
      "  Step 1,260 of 1279. Loss: 0.6466\n",
      "\n",
      "  Training f1-micro: 87.77%\n",
      "  Training loss: 0.4436\n",
      "  Training epoch took: 30m 44s\n",
      "\n",
      "Running Validation...\n",
      "  F1-micro: 77.65%\n",
      "   Validation loss: 0.8047\n",
      "  Validation took: 1m 11s\n",
      "\n",
      "Saving on epoch 3\n",
      "\n",
      "======== Epoch 4 / 6 ========\n",
      "Training...\n",
      "  Step  20 of 1279. Loss: 0.1175\n",
      "  Step  40 of 1279. Loss: 0.0387\n",
      "  Step  60 of 1279. Loss: 0.2138\n",
      "  Step  80 of 1279. Loss: 0.2899\n",
      "  Step 100 of 1279. Loss: 0.1168\n",
      "  Step 120 of 1279. Loss: 0.1412\n",
      "  Step 140 of 1279. Loss: 0.0735\n",
      "  Step 160 of 1279. Loss: 0.0350\n",
      "  Step 180 of 1279. Loss: 0.2080\n",
      "  Step 200 of 1279. Loss: 0.2863\n",
      "  Step 220 of 1279. Loss: 0.0600\n",
      "  Step 240 of 1279. Loss: 0.4000\n",
      "  Step 260 of 1279. Loss: 0.0363\n",
      "  Step 280 of 1279. Loss: 0.0321\n",
      "  Step 300 of 1279. Loss: 0.3470\n",
      "  Step 320 of 1279. Loss: 0.0346\n",
      "  Step 340 of 1279. Loss: 0.1687\n",
      "  Step 360 of 1279. Loss: 0.3571\n",
      "  Step 380 of 1279. Loss: 0.0958\n",
      "  Step 400 of 1279. Loss: 0.1384\n",
      "  Step 420 of 1279. Loss: 0.1231\n",
      "  Step 440 of 1279. Loss: 0.1110\n",
      "  Step 460 of 1279. Loss: 0.5734\n",
      "  Step 480 of 1279. Loss: 0.0548\n",
      "  Step 500 of 1279. Loss: 0.2390\n",
      "  Step 520 of 1279. Loss: 0.1264\n",
      "  Step 540 of 1279. Loss: 0.0435\n",
      "  Step 560 of 1279. Loss: 0.1456\n",
      "  Step 580 of 1279. Loss: 0.3776\n",
      "  Step 600 of 1279. Loss: 0.2824\n",
      "  Step 620 of 1279. Loss: 0.0314\n",
      "  Step 640 of 1279. Loss: 0.3932\n",
      "  Step 660 of 1279. Loss: 0.0497\n",
      "  Step 680 of 1279. Loss: 0.2064\n",
      "  Step 700 of 1279. Loss: 0.0621\n",
      "  Step 720 of 1279. Loss: 0.0676\n",
      "  Step 740 of 1279. Loss: 0.3070\n",
      "  Step 760 of 1279. Loss: 0.3179\n",
      "  Step 780 of 1279. Loss: 0.2997\n",
      "  Step 800 of 1279. Loss: 0.1311\n",
      "  Step 820 of 1279. Loss: 0.0406\n",
      "  Step 840 of 1279. Loss: 0.0504\n",
      "  Step 860 of 1279. Loss: 0.0703\n",
      "  Step 880 of 1279. Loss: 0.2732\n",
      "  Step 900 of 1279. Loss: 0.0220\n",
      "  Step 920 of 1279. Loss: 0.1870\n",
      "  Step 940 of 1279. Loss: 0.1013\n",
      "  Step 960 of 1279. Loss: 0.0627\n",
      "  Step 980 of 1279. Loss: 0.3567\n",
      "  Step 1,000 of 1279. Loss: 0.0223\n",
      "  Step 1,020 of 1279. Loss: 0.1745\n",
      "  Step 1,040 of 1279. Loss: 0.0253\n",
      "  Step 1,060 of 1279. Loss: 0.0453\n",
      "  Step 1,080 of 1279. Loss: 0.0934\n",
      "  Step 1,100 of 1279. Loss: 0.0677\n",
      "  Step 1,120 of 1279. Loss: 0.0331\n",
      "  Step 1,140 of 1279. Loss: 0.0324\n",
      "  Step 1,160 of 1279. Loss: 0.0467\n",
      "  Step 1,180 of 1279. Loss: 0.1199\n",
      "  Step 1,200 of 1279. Loss: 0.1125\n",
      "  Step 1,220 of 1279. Loss: 0.3010\n",
      "  Step 1,240 of 1279. Loss: 0.4249\n",
      "  Step 1,260 of 1279. Loss: 0.2302\n",
      "\n",
      "  Training f1-micro: 94.70%\n",
      "  Training loss: 0.1950\n",
      "  Training epoch took: 30m 46s\n",
      "\n",
      "Running Validation...\n",
      "  F1-micro: 75.76%\n",
      "   Validation loss: 0.9847\n",
      "  Validation took: 1m 11s\n",
      "\n",
      "======== Epoch 5 / 6 ========\n",
      "Training...\n",
      "  Step  20 of 1279. Loss: 0.3292\n",
      "  Step  40 of 1279. Loss: 0.0765\n",
      "  Step  60 of 1279. Loss: 0.1495\n",
      "  Step  80 of 1279. Loss: 0.0844\n",
      "  Step 100 of 1279. Loss: 0.3501\n",
      "  Step 120 of 1279. Loss: 0.1902\n",
      "  Step 140 of 1279. Loss: 0.0511\n",
      "  Step 160 of 1279. Loss: 0.2422\n",
      "  Step 180 of 1279. Loss: 0.0724\n",
      "  Step 200 of 1279. Loss: 0.0736\n",
      "  Step 220 of 1279. Loss: 0.0654\n",
      "  Step 240 of 1279. Loss: 0.0235\n",
      "  Step 260 of 1279. Loss: 0.0119\n",
      "  Step 280 of 1279. Loss: 0.0272\n",
      "  Step 300 of 1279. Loss: 0.2541\n",
      "  Step 320 of 1279. Loss: 0.0395\n",
      "  Step 340 of 1279. Loss: 0.0144\n",
      "  Step 360 of 1279. Loss: 0.0317\n",
      "  Step 380 of 1279. Loss: 0.0462\n",
      "  Step 400 of 1279. Loss: 0.1701\n",
      "  Step 420 of 1279. Loss: 0.0263\n",
      "  Step 440 of 1279. Loss: 0.0449\n",
      "  Step 460 of 1279. Loss: 0.1349\n",
      "  Step 480 of 1279. Loss: 0.0623\n",
      "  Step 500 of 1279. Loss: 0.2427\n",
      "  Step 520 of 1279. Loss: 0.0213\n",
      "  Step 540 of 1279. Loss: 0.0346\n",
      "  Step 560 of 1279. Loss: 0.1482\n",
      "  Step 580 of 1279. Loss: 0.2212\n",
      "  Step 600 of 1279. Loss: 0.0368\n",
      "  Step 620 of 1279. Loss: 0.0233\n",
      "  Step 640 of 1279. Loss: 0.1597\n",
      "  Step 660 of 1279. Loss: 0.0525\n",
      "  Step 680 of 1279. Loss: 0.0532\n",
      "  Step 700 of 1279. Loss: 0.0982\n",
      "  Step 720 of 1279. Loss: 0.0759\n",
      "  Step 740 of 1279. Loss: 0.0072\n",
      "  Step 760 of 1279. Loss: 0.0128\n",
      "  Step 780 of 1279. Loss: 0.0145\n",
      "  Step 800 of 1279. Loss: 0.3158\n",
      "  Step 820 of 1279. Loss: 0.0421\n",
      "  Step 840 of 1279. Loss: 0.0933\n",
      "  Step 860 of 1279. Loss: 0.3730\n",
      "  Step 880 of 1279. Loss: 0.0317\n",
      "  Step 900 of 1279. Loss: 0.0266\n",
      "  Step 920 of 1279. Loss: 0.0231\n",
      "  Step 940 of 1279. Loss: 0.0186\n",
      "  Step 960 of 1279. Loss: 0.0645\n",
      "  Step 980 of 1279. Loss: 0.0400\n",
      "  Step 1,000 of 1279. Loss: 0.0840\n",
      "  Step 1,020 of 1279. Loss: 0.0392\n",
      "  Step 1,040 of 1279. Loss: 0.0159\n",
      "  Step 1,060 of 1279. Loss: 0.5119\n",
      "  Step 1,080 of 1279. Loss: 0.0260\n",
      "  Step 1,100 of 1279. Loss: 0.2766\n",
      "  Step 1,120 of 1279. Loss: 0.0114\n",
      "  Step 1,140 of 1279. Loss: 0.0201\n",
      "  Step 1,160 of 1279. Loss: 0.0153\n",
      "  Step 1,180 of 1279. Loss: 0.1181\n",
      "  Step 1,200 of 1279. Loss: 0.0206\n",
      "  Step 1,220 of 1279. Loss: 0.3126\n",
      "  Step 1,240 of 1279. Loss: 0.1796\n",
      "  Step 1,260 of 1279. Loss: 0.0678\n",
      "\n",
      "  Training f1-micro: 96.71%\n",
      "  Training loss: 0.1206\n",
      "  Training epoch took: 30m 45s\n",
      "\n",
      "Running Validation...\n",
      "  F1-micro: 77.65%\n",
      "   Validation loss: 0.9287\n",
      "  Validation took: 1m 12s\n",
      "\n",
      "======== Epoch 6 / 6 ========\n",
      "Training...\n",
      "  Step  20 of 1279. Loss: 0.1804\n",
      "  Step  40 of 1279. Loss: 0.0191\n",
      "  Step  60 of 1279. Loss: 0.0318\n",
      "  Step  80 of 1279. Loss: 0.0094\n",
      "  Step 100 of 1279. Loss: 0.1241\n",
      "  Step 120 of 1279. Loss: 0.3712\n",
      "  Step 140 of 1279. Loss: 0.0234\n",
      "  Step 160 of 1279. Loss: 0.0139\n",
      "  Step 180 of 1279. Loss: 0.0143\n",
      "  Step 200 of 1279. Loss: 0.0624\n",
      "  Step 220 of 1279. Loss: 0.0221\n",
      "  Step 240 of 1279. Loss: 0.0189\n",
      "  Step 260 of 1279. Loss: 0.0236\n",
      "  Step 280 of 1279. Loss: 0.0151\n",
      "  Step 300 of 1279. Loss: 0.0174\n",
      "  Step 320 of 1279. Loss: 0.0314\n",
      "  Step 340 of 1279. Loss: 0.0141\n",
      "  Step 360 of 1279. Loss: 0.0204\n",
      "  Step 380 of 1279. Loss: 0.0169\n",
      "  Step 400 of 1279. Loss: 0.0074\n",
      "  Step 420 of 1279. Loss: 0.5820\n",
      "  Step 440 of 1279. Loss: 0.0180\n",
      "  Step 460 of 1279. Loss: 0.0183\n",
      "  Step 480 of 1279. Loss: 0.0159\n",
      "  Step 500 of 1279. Loss: 0.1107\n",
      "  Step 520 of 1279. Loss: 0.0154\n",
      "  Step 540 of 1279. Loss: 0.0133\n",
      "  Step 560 of 1279. Loss: 0.0113\n",
      "  Step 580 of 1279. Loss: 0.0085\n",
      "  Step 600 of 1279. Loss: 0.0096\n",
      "  Step 620 of 1279. Loss: 0.1252\n",
      "  Step 640 of 1279. Loss: 0.0193\n",
      "  Step 660 of 1279. Loss: 0.0741\n",
      "  Step 680 of 1279. Loss: 0.0155\n",
      "  Step 700 of 1279. Loss: 0.0161\n",
      "  Step 720 of 1279. Loss: 0.0238\n",
      "  Step 740 of 1279. Loss: 0.0209\n",
      "  Step 760 of 1279. Loss: 0.2918\n",
      "  Step 780 of 1279. Loss: 0.0244\n",
      "  Step 800 of 1279. Loss: 0.0604\n",
      "  Step 820 of 1279. Loss: 0.0652\n",
      "  Step 840 of 1279. Loss: 0.1254\n",
      "  Step 860 of 1279. Loss: 0.0283\n",
      "  Step 880 of 1279. Loss: 0.0101\n",
      "  Step 900 of 1279. Loss: 0.0307\n",
      "  Step 920 of 1279. Loss: 0.1839\n",
      "  Step 940 of 1279. Loss: 0.0132\n",
      "  Step 960 of 1279. Loss: 0.0163\n",
      "  Step 980 of 1279. Loss: 0.0160\n",
      "  Step 1,000 of 1279. Loss: 0.0301\n",
      "  Step 1,020 of 1279. Loss: 0.0408\n",
      "  Step 1,040 of 1279. Loss: 0.4846\n",
      "  Step 1,060 of 1279. Loss: 0.0129\n",
      "  Step 1,080 of 1279. Loss: 0.4234\n",
      "  Step 1,100 of 1279. Loss: 0.1154\n",
      "  Step 1,120 of 1279. Loss: 0.2784\n",
      "  Step 1,140 of 1279. Loss: 0.0282\n",
      "  Step 1,160 of 1279. Loss: 0.0104\n",
      "  Step 1,180 of 1279. Loss: 0.4055\n",
      "  Step 1,200 of 1279. Loss: 0.3890\n",
      "  Step 1,220 of 1279. Loss: 0.0168\n",
      "  Step 1,240 of 1279. Loss: 0.0362\n",
      "  Step 1,260 of 1279. Loss: 0.3266\n",
      "\n",
      "  Training f1-micro: 97.97%\n",
      "  Training loss: 0.0743\n",
      "  Training epoch took: 30m 44s\n",
      "\n",
      "Running Validation...\n",
      "  F1-micro: 76.24%\n",
      "   Validation loss: 1.0382\n",
      "  Validation took: 1m 12s\n",
      "\n",
      "\n",
      "Training complete!\n",
      "Total training took: 192m 36s\n"
     ]
    }
   ],
   "source": [
    "epochs = 6\n",
    "best_f1_micro = 0\n",
    "\n",
    "train_loss_values = list()\n",
    "train_f1_micro_values = list()\n",
    "valid_loss_values = list()\n",
    "valid_f1_micro_values = list()\n",
    "\n",
    "# переводим модель в training mode\n",
    "model.train() \n",
    "\n",
    "\n",
    "total_time = time.time()\n",
    "\n",
    "for epoch in range(epochs):\n",
    "    \n",
    "    start_time = time.time()\n",
    "    print('')\n",
    "    print('======== Epoch {:} / {:} ========'.format(epoch + 1, epochs))\n",
    "    print('Training...')\n",
    "    \n",
    "    total_loss = 0\n",
    "\n",
    "    train_preds, train_labels = list(), list()\n",
    "    \n",
    "    for step, batch in enumerate(train_dataloader):\n",
    "        \n",
    "        # переводим данные на видеокарту\n",
    "        batch = tuple(t.to(device) for t in batch)\n",
    "        b_input_ids, b_input_mask, b_labels = batch\n",
    "        \n",
    "        # обнуляем градиенты\n",
    "        optimizer.zero_grad()\n",
    "        \n",
    "        # forward pass\n",
    "        outputs = model(b_input_ids, \n",
    "                    token_type_ids=None, \n",
    "                    attention_mask=b_input_mask, \n",
    "                    labels=b_labels)\n",
    "        \n",
    "        loss = outputs[0]\n",
    "\n",
    "        logits = outputs[1]\n",
    "\n",
    "        total_loss += loss.item()\n",
    "\n",
    "        logits = logits.detach().cpu().numpy()\n",
    "        label_ids = b_labels.to('cpu').numpy()\n",
    "        \n",
    "        batch_preds = np.argmax(logits, axis=1)     \n",
    "        train_preds.extend(batch_preds)\n",
    "        train_labels.extend(label_ids)\n",
    "        \n",
    "        loss.backward()\n",
    "        \n",
    "        #torch.nn.utils.clip_grad_norm_(model.parameters(), 1.0)\n",
    "\n",
    "        optimizer.step()\n",
    "        \n",
    "        if (step) % 20 == 0 and not step == 0:\n",
    "            print ('  Step {:>3,} of {}. Loss: {:.4f}'.format(step, len(train_dataloader), loss.item()))\n",
    "    \n",
    "    avg_train_loss = total_loss / len(train_dataloader) \n",
    "    train_f1_micro = f1_score(train_labels, train_preds, average=\"micro\")\n",
    "\n",
    "    train_loss_values.append(avg_train_loss)\n",
    "    train_f1_micro_values.append(train_f1_micro)\n",
    "    \n",
    "    print('')\n",
    "    print('  Training f1-micro: {0:.2%}'.format(train_f1_micro))\n",
    "    print('  Training loss: {0:.4f}'.format(avg_train_loss))\n",
    "    \n",
    "    epoch_mins, epoch_secs = epoch_time(start_time, time.time())\n",
    "    \n",
    "    print(f'  Training epoch took: {epoch_mins}m {epoch_secs}s')\n",
    "    \n",
    "    print('')\n",
    "    print('Running Validation...')\n",
    "    \n",
    "    validation_time = time.time()\n",
    "    \n",
    "    # переводим модель в evaluation mode\n",
    "    model.eval()\n",
    "    \n",
    "    total_eval_loss = 0\n",
    "    \n",
    "    valid_preds, valid_labels = list(), list()\n",
    "    \n",
    "    for batch in validation_dataloader:\n",
    "        \n",
    "        # добавляем батч для вычисления на GPU\n",
    "        batch = tuple(t.to(device) for t in batch)\n",
    "        \n",
    "        b_input_ids, b_input_mask, b_labels = batch\n",
    "\n",
    "     \n",
    "        with torch.no_grad():        \n",
    "\n",
    "            outputs = model(b_input_ids, \n",
    "                            token_type_ids=None, \n",
    "                            attention_mask=b_input_mask, \n",
    "                            labels=b_labels)\n",
    "\n",
    "        logits = outputs[1] \n",
    "\n",
    "        loss = outputs[0] \n",
    "\n",
    "        total_eval_loss += loss.item()\n",
    "        \n",
    "        # перемещаем логиты и метки на CPU\n",
    "        logits = logits.detach().cpu().numpy()\n",
    "        label_ids = b_labels.to('cpu').numpy()\n",
    "\n",
    "        batch_preds = np.argmax(logits, axis=1)   \n",
    "        valid_preds.extend(batch_preds)\n",
    "        valid_labels.extend(label_ids)\n",
    "\n",
    "    epoch_mins, epoch_secs = epoch_time(validation_time, time.time())\n",
    "\n",
    "    avg_val_loss = total_eval_loss / len(validation_dataloader) \n",
    "    valid_f1_micro = f1_score(valid_labels, valid_preds, average=\"micro\")\n",
    "    valid_loss_values.append(avg_val_loss)\n",
    "    valid_f1_micro_values.append(valid_f1_micro)\n",
    "\n",
    "    print('  F1-micro: {0:.2%}'.format(valid_f1_micro))\n",
    "    print('   Validation loss: {0:.4f}'.format(avg_val_loss))\n",
    "    print(f'  Validation took: {epoch_mins}m {epoch_secs}s')\n",
    "    \n",
    "    if valid_f1_micro > best_f1_micro:\n",
    "      best_f1_micro = valid_f1_micro\n",
    "      save_model(model, tokenizer, epoch)\n",
    "        \n",
    "epoch_mins, epoch_secs = epoch_time(total_time, time.time()) \n",
    " \n",
    "print('\\n')\n",
    "print('Training complete!')\n",
    "print(f'Total training took: {epoch_mins}m {epoch_secs}s')   "
   ]
  },
  {
   "cell_type": "code",
   "execution_count": 69,
   "id": "-FmmzXhzKn5a",
   "metadata": {
    "colab": {
     "base_uri": "https://localhost:8080/",
     "height": 472
    },
    "id": "-FmmzXhzKn5a",
    "outputId": "638eb55f-daa0-4c88-953e-40c7145b034a"
   },
   "outputs": [
    {
     "data": {
      "image/png": "[encoded data removed]",
      "text/plain": [
       "<Figure size 640x480 with 1 Axes>"
      ]
     },
     "metadata": {},
     "output_type": "display_data"
    }
   ],
   "source": [
    "epochs = range(1, 7)\n",
    "train =  train_f1_micro_values\n",
    "valid = valid_f1_micro_values\n",
    "\n",
    "fig, axs = plt.subplots()\n",
    "\n",
    "axs.plot(epochs, valid, linestyle = 'dotted', label='val', color='red')\n",
    "axs.plot(epochs, train, '--', label='train', color='blue')\n",
    "axs.grid()\n",
    "plt.title('F1-micro on validation')\n",
    "#plt.title('F1-micro on train and validation')\n",
    "plt.xlabel('Epoch')\n",
    "plt.ylabel('F1-micro')\n",
    "axs.legend(loc='best')\n",
    "plt.xticks(epochs)\n",
    "#plt.savefig('result_sep_txt.pdf')\n",
    "plt.show()"
   ]
  },
  {
   "cell_type": "markdown",
   "id": "KcdfTKNnk5CZ",
   "metadata": {
    "id": "KcdfTKNnk5CZ"
   },
   "source": [
    "## Тестирование модели "
   ]
  },
  {
   "cell_type": "code",
   "execution_count": null,
   "id": "0a0F33NVP6Si",
   "metadata": {
    "id": "0a0F33NVP6Si"
   },
   "outputs": [],
   "source": [
    "# config\n",
    "config = AutoConfig.from_pretrained('/content/drive/MyDrive/cmc/classif_wp/models/model_bert_2/')\n",
    "# tokenizer\n",
    "tokenizer = AutoTokenizer.from_pretrained('/content/drive/MyDrive/cmc/classif_wp/models/model_bert_2/', pad_to_max_length=True)\n",
    "# model\n",
    "model = AutoModelForSequenceClassification.from_pretrained('/content/drive/MyDrive/cmc/classif_wp/models/model_bert_2/', config=config)"
   ]
  },
  {
   "cell_type": "code",
   "execution_count": 70,
   "id": "7LRE0MpGiVfv",
   "metadata": {
    "colab": {
     "base_uri": "https://localhost:8080/"
    },
    "id": "7LRE0MpGiVfv",
    "outputId": "7059dea8-02f4-4ac8-f601-cc4444532179"
   },
   "outputs": [
    {
     "name": "stderr",
     "output_type": "stream",
     "text": [
      "100%|██████████| 2525/2525 [00:07<00:00, 348.93it/s]\n"
     ]
    }
   ],
   "source": [
    "test_texts_ids = texts_to_ids(tokenizer, test_texts)"
   ]
  },
  {
   "cell_type": "code",
   "execution_count": 71,
   "id": "xR8DkN7ti23R",
   "metadata": {
    "id": "xR8DkN7ti23R"
   },
   "outputs": [],
   "source": [
    "test_padding_list = pad_sequences(\n",
    "    test_texts_ids,\n",
    "    maxlen=500,\n",
    "    dtype='long',\n",
    "    truncating='post',\n",
    "    padding='post'\n",
    ")"
   ]
  },
  {
   "cell_type": "code",
   "execution_count": 72,
   "id": "hv17pCoQiVi6",
   "metadata": {
    "colab": {
     "base_uri": "https://localhost:8080/"
    },
    "id": "hv17pCoQiVi6",
    "outputId": "5e59168a-8319-4785-a18d-d35dbbf5a649"
   },
   "outputs": [
    {
     "name": "stderr",
     "output_type": "stream",
     "text": [
      "100%|██████████| 2525/2525 [00:00<00:00, 4354.18it/s]\n"
     ]
    }
   ],
   "source": [
    "test_attention_masks = [[float(i>0) for i in sequence] for sequence in tqdm(test_padding_list, total=len(test_padding_list))]"
   ]
  },
  {
   "cell_type": "code",
   "execution_count": 73,
   "id": "50rvQIojiVmL",
   "metadata": {
    "id": "50rvQIojiVmL"
   },
   "outputs": [],
   "source": [
    "assert len(test_texts) == len(test_labels) == len(test_attention_masks) == len(test_padding_list)"
   ]
  },
  {
   "cell_type": "code",
   "execution_count": 74,
   "id": "GV_C9eqSiVpR",
   "metadata": {
    "id": "GV_C9eqSiVpR"
   },
   "outputs": [],
   "source": [
    "test_inputs = torch.tensor(test_padding_list)\n",
    "\n",
    "test_labels = torch.tensor(test_labels)\n",
    "\n",
    "test_masks = torch.tensor(test_attention_masks)"
   ]
  },
  {
   "cell_type": "code",
   "execution_count": 75,
   "id": "a87zIfw4iVsV",
   "metadata": {
    "id": "a87zIfw4iVsV"
   },
   "outputs": [],
   "source": [
    "batch_size = 16\n",
    "\n",
    "test_data = TensorDataset(test_inputs, test_masks, test_labels)\n",
    "test_sampler = SequentialSampler(test_data)\n",
    "test_dataloader = DataLoader(test_data, sampler=test_sampler, batch_size=batch_size)"
   ]
  },
  {
   "cell_type": "code",
   "execution_count": 76,
   "id": "yn0tv0DMiVvL",
   "metadata": {
    "colab": {
     "base_uri": "https://localhost:8080/"
    },
    "id": "yn0tv0DMiVvL",
    "outputId": "1f0eb66d-d232-45b6-c19b-4dad55d35903"
   },
   "outputs": [
    {
     "name": "stdout",
     "output_type": "stream",
     "text": [
      "Predicting labels for 2,525 test texts\n",
      "Total testing took: 1m 20s\n"
     ]
    }
   ],
   "source": [
    "print('Predicting labels for {:,} test texts'.format(len(test_inputs)))\n",
    "\n",
    "model.eval()\n",
    "\n",
    "predictions, true_labels = [], []\n",
    "\n",
    "total_time = time.time()\n",
    "\n",
    "for batch in test_dataloader:\n",
    "    \n",
    "    batch = tuple(t.to(device) for t in batch)\n",
    "  \n",
    "    b_input_ids, b_input_mask, b_labels = batch\n",
    "\n",
    "    with torch.no_grad():\n",
    "\n",
    "        outputs = model(b_input_ids, token_type_ids=None, \n",
    "                        attention_mask=b_input_mask)\n",
    "\n",
    "    logits = outputs[0].detach().cpu().numpy()\n",
    "    label_ids = b_labels.to('cpu').numpy()\n",
    "\n",
    "    batch_preds = np.argmax(logits, axis=1)\n",
    "\n",
    "    predictions.extend(batch_preds) \n",
    "    true_labels.extend(label_ids)\n",
    "\n",
    "epoch_mins, epoch_secs = epoch_time(total_time, time.time()) \n",
    " \n",
    "print(f'Total testing took: {epoch_mins}m {epoch_secs}s') "
   ]
  },
  {
   "cell_type": "code",
   "execution_count": 77,
   "id": "xWXT19hziVyR",
   "metadata": {
    "colab": {
     "base_uri": "https://localhost:8080/"
    },
    "id": "xWXT19hziVyR",
    "outputId": "923a3f6d-05f1-425b-e3d4-0692d8c7eadd"
   },
   "outputs": [
    {
     "name": "stdout",
     "output_type": "stream",
     "text": [
      "F1-micro            0.7596039603960397\n",
      "              precision    recall  f1-score   support\n",
      "\n",
      "     SPECIAL       0.73      0.77      0.75       149\n",
      "        USER       0.81      0.64      0.71       143\n",
      "      SYSADM       0.68      0.87      0.76       202\n",
      "         WEB       0.84      0.80      0.82       166\n",
      "    SECURITY       0.75      0.77      0.76       162\n",
      "DATA_SCIENCE       0.95      0.84      0.89       107\n",
      "  MULTIMEDIA       0.95      0.82      0.88        99\n",
      "     OPENING       0.73      0.65      0.69        46\n",
      "        MISC       0.51      0.84      0.64       137\n",
      "      MOBILE       0.93      0.78      0.85        90\n",
      "         ORG       0.56      0.81      0.67       177\n",
      "     HISTORY       0.80      0.73      0.76        11\n",
      "      DEVOPS       0.86      0.78      0.82       153\n",
      "  MANAGEMENT       1.00      0.40      0.57        15\n",
      "  MESSENGERS       0.87      0.83      0.85        24\n",
      "   DATABASES       0.86      0.87      0.87        71\n",
      "         LAW       0.82      0.82      0.82        49\n",
      "   EDUCATION       0.90      0.70      0.79        27\n",
      "       GAMES       0.95      0.93      0.94        44\n",
      "    HARDWARE       0.84      0.82      0.83        76\n",
      "      EVENTS       0.80      0.75      0.77        48\n",
      "         DIY       0.71      0.80      0.75        44\n",
      "      INTROS       0.80      0.87      0.83        45\n",
      "         KnD       0.86      0.46      0.60       230\n",
      "         DEV       0.80      0.76      0.78       210\n",
      "\n",
      "    accuracy                           0.76      2525\n",
      "   macro avg       0.81      0.76      0.78      2525\n",
      "weighted avg       0.79      0.76      0.76      2525\n",
      "\n"
     ]
    }
   ],
   "source": [
    "print(\"F1-micro           \", f1_score(true_labels, predictions, average=\"micro\"))\n",
    "print(classification_report(true_labels, predictions, target_names=reverse_category_index.values(), zero_division=True))"
   ]
  },
  {
   "cell_type": "code",
   "execution_count": 97,
   "id": "Nh9b9tzze_AL",
   "metadata": {
    "colab": {
     "base_uri": "https://localhost:8080/",
     "height": 477
    },
    "id": "Nh9b9tzze_AL",
    "outputId": "b965bd07-f217-4cd0-e9ff-4a4a6fa74f2b"
   },
   "outputs": [
    {
     "data": {
      "image/png": "[encoded data removed]",
      "text/plain": [
       "<Figure size 1000x400 with 2 Axes>"
      ]
     },
     "metadata": {},
     "output_type": "display_data"
    }
   ],
   "source": [
    "import seaborn as sns\n",
    "\n",
    "x_axis_labels = reverse_category_index.values()\n",
    "\n",
    "y_axis_labels = reverse_category_index.values()\n",
    "\n",
    "cm = confusion_matrix(true_labels, predictions)\n",
    "fig, ax = plt.subplots(figsize=(10, 4))\n",
    "sns.heatmap(cm, annot=True, xticklabels=x_axis_labels, square=False, yticklabels=y_axis_labels, fmt='d', ax=ax, cmap=plt.cm.Blues)\n",
    "ax.set(xlabel=\"predicted\", ylabel=\"true\")\n",
    "plt.yticks(rotation=0)\n",
    "plt.savefig('confmatrix.pdf', bbox_inches = \"tight\")\n",
    "plt.show()"
   ]
  },
  {
   "cell_type": "markdown",
   "id": "atUVh-56mCQs",
   "metadata": {
    "id": "atUVh-56mCQs"
   },
   "source": [
    "## Загрузка дообученной модели и предсказание новых веб-страниц"
   ]
  },
  {
   "cell_type": "code",
   "execution_count": 139,
   "id": "9lGfpn2SmDty",
   "metadata": {
    "id": "9lGfpn2SmDty"
   },
   "outputs": [],
   "source": [
    "# config\n",
    "config = AutoConfig.from_pretrained('/content/drive/MyDrive/cmc/classif_wp/models/model_bert_2/')\n",
    "# tokenizer\n",
    "tokenizer = AutoTokenizer.from_pretrained('/content/drive/MyDrive/cmc/classif_wp/models/model_bert_2/', pad_to_max_length=True)\n",
    "# model\n",
    "model = AutoModelForSequenceClassification.from_pretrained('/content/drive/MyDrive/cmc/classif_wp/models/model_bert_2/', config=config)"
   ]
  },
  {
   "cell_type": "code",
   "execution_count": 140,
   "id": "lrDpPY0rmcUL",
   "metadata": {
    "colab": {
     "base_uri": "https://localhost:8080/"
    },
    "id": "lrDpPY0rmcUL",
    "outputId": "7f1965cc-11d6-4008-9ee7-875bb29f48f0"
   },
   "outputs": [
    {
     "data": {
      "text/plain": [
       "BertForSequenceClassification(\n",
       "  (bert): BertModel(\n",
       "    (embeddings): BertEmbeddings(\n",
       "      (word_embeddings): Embedding(119547, 768, padding_idx=0)\n",
       "      (position_embeddings): Embedding(512, 768)\n",
       "      (token_type_embeddings): Embedding(2, 768)\n",
       "      (LayerNorm): LayerNorm((768,), eps=1e-12, elementwise_affine=True)\n",
       "      (dropout): Dropout(p=0.1, inplace=False)\n",
       "    )\n",
       "    (encoder): BertEncoder(\n",
       "      (layer): ModuleList(\n",
       "        (0-11): 12 x BertLayer(\n",
       "          (attention): BertAttention(\n",
       "            (self): BertSelfAttention(\n",
       "              (query): Linear(in_features=768, out_features=768, bias=True)\n",
       "              (key): Linear(in_features=768, out_features=768, bias=True)\n",
       "              (value): Linear(in_features=768, out_features=768, bias=True)\n",
       "              (dropout): Dropout(p=0.1, inplace=False)\n",
       "            )\n",
       "            (output): BertSelfOutput(\n",
       "              (dense): Linear(in_features=768, out_features=768, bias=True)\n",
       "              (LayerNorm): LayerNorm((768,), eps=1e-12, elementwise_affine=True)\n",
       "              (dropout): Dropout(p=0.1, inplace=False)\n",
       "            )\n",
       "          )\n",
       "          (intermediate): BertIntermediate(\n",
       "            (dense): Linear(in_features=768, out_features=3072, bias=True)\n",
       "            (intermediate_act_fn): GELUActivation()\n",
       "          )\n",
       "          (output): BertOutput(\n",
       "            (dense): Linear(in_features=3072, out_features=768, bias=True)\n",
       "            (LayerNorm): LayerNorm((768,), eps=1e-12, elementwise_affine=True)\n",
       "            (dropout): Dropout(p=0.1, inplace=False)\n",
       "          )\n",
       "        )\n",
       "      )\n",
       "    )\n",
       "    (pooler): BertPooler(\n",
       "      (dense): Linear(in_features=768, out_features=768, bias=True)\n",
       "      (activation): Tanh()\n",
       "    )\n",
       "  )\n",
       "  (dropout): Dropout(p=0.1, inplace=False)\n",
       "  (classifier): Linear(in_features=768, out_features=25, bias=True)\n",
       ")"
      ]
     },
     "execution_count": 140,
     "metadata": {},
     "output_type": "execute_result"
    }
   ],
   "source": [
    "model"
   ]
  },
  {
   "cell_type": "code",
   "execution_count": 141,
   "id": "LdyT349UrfuL",
   "metadata": {
    "id": "LdyT349UrfuL"
   },
   "outputs": [],
   "source": [
    "predict_df = pd.read_csv('data/predict_new_web_pages.csv')"
   ]
  },
  {
   "cell_type": "code",
   "execution_count": 142,
   "id": "PhYJsmK0tCpK",
   "metadata": {
    "colab": {
     "base_uri": "https://localhost:8080/"
    },
    "id": "PhYJsmK0tCpK",
    "outputId": "bf490acd-47e1-41af-8990-b75e4bfce34a"
   },
   "outputs": [
    {
     "name": "stderr",
     "output_type": "stream",
     "text": [
      "100%|██████████| 24/24 [00:00<00:00, 102.80it/s]\n"
     ]
    }
   ],
   "source": [
    "texts = predict_df['document'].progress_apply(normalize_text)"
   ]
  },
  {
   "cell_type": "code",
   "execution_count": 143,
   "id": "KMvL79bun-jh",
   "metadata": {
    "id": "KMvL79bun-jh"
   },
   "outputs": [],
   "source": [
    "labels = list(predict_df['category'])"
   ]
  },
  {
   "cell_type": "code",
   "execution_count": 144,
   "id": "adVNU1wVnYLW",
   "metadata": {
    "id": "adVNU1wVnYLW"
   },
   "outputs": [],
   "source": [
    "extended_texts = list()\n",
    "extended_labels = list()\n",
    "indexes = list()\n",
    "\n",
    "for index, (text, label) in enumerate(zip(texts, labels)):\n",
    "  split_text = get_split(text)\n",
    "  extended_texts.append(split_text)\n",
    "  extended_labels.append([label]*len(split_text))\n",
    "  indexes.append([index]*len(split_text))\n",
    "\n",
    "extended_texts = sum(extended_texts, [])\n",
    "extended_labels = sum(extended_labels, [])\n",
    "indexes = sum(indexes, [])\n",
    "\n",
    "texts = []\n",
    "labels = []\n",
    "indexes1 = []\n",
    "for index, (text, label) in enumerate(zip(extended_texts, extended_labels)):\n",
    "    if len(text.split()) >= 20:\n",
    "        texts.append(text)\n",
    "        labels.append(label)\n",
    "        indexes1.append(indexes[index]) "
   ]
  },
  {
   "cell_type": "code",
   "execution_count": 145,
   "id": "DX9XR7LJpSf8",
   "metadata": {
    "colab": {
     "base_uri": "https://localhost:8080/"
    },
    "id": "DX9XR7LJpSf8",
    "outputId": "7b81dc4b-c374-40f0-cb08-9c1ac47898ea"
   },
   "outputs": [
    {
     "data": {
      "text/plain": [
       "(51, 51, 51)"
      ]
     },
     "execution_count": 145,
     "metadata": {},
     "output_type": "execute_result"
    }
   ],
   "source": [
    "len(texts), len(labels), len(indexes1)"
   ]
  },
  {
   "cell_type": "code",
   "execution_count": 105,
   "id": "T-dg4gJllRCo",
   "metadata": {
    "id": "T-dg4gJllRCo"
   },
   "outputs": [],
   "source": [
    "web_pages = ['https://habr.com/ru/post/538156', 'https://habr.com/ru/post/536732', \n",
    "'https://habr.com/ru/news/t/587616', 'https://habr.com/ru/post/587216', 'https://habr.com/ru/post/588526', \n",
    "'https://habr.com/ru/news/t/584446', 'https://habr.com/ru/post/583014', \n",
    "'https://habr.com/ru/news/t/583704', 'https://habr.com/ru/news/t/584698', \n",
    "'https://habr.com/ru/news/t/573186', 'https://habr.com/ru/news/t/573464', \n",
    "'https://habr.com/ru/post/569256', 'https://habr.com/ru/post/570330',\n",
    "'https://habr.com/ru/post/574548','https://habr.com/ru/news/t/575530', \n",
    "'https://habr.com/ru/news/t/578002', 'https://habr.com/ru/post/577662', 'https://habr.com/ru/post/580040', \n",
    "'https://habr.com/ru/post/592797', 'https://habr.com/ru/post/526470', \n",
    "'https://habr.com/ru/post/521190', 'https://habr.com/ru/post/530774', \n",
    "'https://habr.com/ru/post/530992', 'https://habr.com/ru/post/532460']\n",
    "#df_new.loc[len(df_new)] = ['https://habr.com/ru/news/t/583482', 'EVENTS']"
   ]
  },
  {
   "cell_type": "code",
   "execution_count": 146,
   "id": "iDJaxvODvrUG",
   "metadata": {
    "id": "iDJaxvODvrUG"
   },
   "outputs": [],
   "source": [
    "result_df = pd.DataFrame(columns=['текст', 'предсказанная категория', 'истинная категория'])"
   ]
  },
  {
   "cell_type": "code",
   "execution_count": 147,
   "id": "bHyByrQlsKx_",
   "metadata": {
    "id": "bHyByrQlsKx_"
   },
   "outputs": [],
   "source": [
    "model.to('cpu')\n",
    "model.eval()\n",
    "\n",
    "for index, (text, label) in enumerate(zip(texts, labels)): \n",
    "  input_ids_new = list()\n",
    "  attention_masks_new = list()\n",
    "  encoded_dict = tokenizer.encode_plus(\n",
    "                      text,                            \n",
    "                      add_special_tokens=True,       \n",
    "                      max_length=500,                \n",
    "                      padding='max_length',         \n",
    "                      truncation=True,               \n",
    "                      return_attention_mask=True,   \n",
    "                      return_tensors='pt',          \n",
    "                  )\n",
    "        \n",
    "  input_ids_new.append(encoded_dict['input_ids'])\n",
    "\n",
    "  attention_masks_new.append(encoded_dict['attention_mask'])\n",
    "      \n",
    "  input_ids_new = torch.cat(input_ids_new, dim=0)\n",
    "  attention_masks_new = torch.cat(attention_masks_new, dim=0)\n",
    "\n",
    "  with torch.no_grad():\n",
    "    outputs = model(input_ids_new, token_type_ids=None, attention_mask=attention_masks_new)\n",
    "    \n",
    "  logits = outputs[0].detach().numpy()\n",
    "\n",
    "  pred_category = np.argmax(logits, axis=1)\n",
    "\n",
    "  pred = reverse_category_index[pred_category[0]]\n",
    "\n",
    "  result_df.loc[len(result_df.index)] = [text, pred, label]"
   ]
  },
  {
   "cell_type": "code",
   "execution_count": 148,
   "id": "CCoOOh79qNes",
   "metadata": {
    "id": "CCoOOh79qNes"
   },
   "outputs": [],
   "source": [
    "result_df['индекс веб-страницы'] = indexes1"
   ]
  },
  {
   "cell_type": "code",
   "execution_count": 106,
   "id": "94C9Ehdvl8DL",
   "metadata": {
    "id": "94C9Ehdvl8DL"
   },
   "outputs": [],
   "source": [
    "result_df['веб_страницы'] = web_pages"
   ]
  },
  {
   "cell_type": "code",
   "execution_count": 110,
   "id": "PqCM-ckZmFmO",
   "metadata": {
    "id": "PqCM-ckZmFmO"
   },
   "outputs": [],
   "source": [
    "result_df = result_df.drop(columns='текст')"
   ]
  },
  {
   "cell_type": "code",
   "execution_count": 113,
   "id": "lGSoy6bxmbTd",
   "metadata": {
    "id": "lGSoy6bxmbTd"
   },
   "outputs": [],
   "source": [
    "result_df = result_df[['web_pages', 'предсказанная категория', 'истинная категория']]\n"
   ]
  },
  {
   "cell_type": "code",
   "execution_count": 149,
   "id": "4M5HPjD8kHOK",
   "metadata": {
    "colab": {
     "base_uri": "https://localhost:8080/",
     "height": 1000
    },
    "id": "4M5HPjD8kHOK",
    "outputId": "832fd11b-721e-4309-db24-32edc90a6771"
   },
   "outputs": [
    {
     "data": {
      "text/html": [
       "\n",
       "  <div id=\"df-7e8b1ac9-faad-446d-bf73-ea94ff0fa473\">\n",
       "    <div class=\"colab-df-container\">\n",
       "      <div>\n",
       "<style scoped>\n",
       "    .dataframe tbody tr th:only-of-type {\n",
       "        vertical-align: middle;\n",
       "    }\n",
       "\n",
       "    .dataframe tbody tr th {\n",
       "        vertical-align: top;\n",
       "    }\n",
       "\n",
       "    .dataframe thead th {\n",
       "        text-align: right;\n",
       "    }\n",
       "</style>\n",
       "<table border=\"1\" class=\"dataframe\">\n",
       "  <thead>\n",
       "    <tr style=\"text-align: right;\">\n",
       "      <th></th>\n",
       "      <th>текст</th>\n",
       "      <th>предсказанная категория</th>\n",
       "      <th>истинная категория</th>\n",
       "      <th>индекс веб-страницы</th>\n",
       "    </tr>\n",
       "  </thead>\n",
       "  <tbody>\n",
       "    <tr>\n",
       "      <th>0</th>\n",
       "      <td>блог компании конференции олега бунина онтико ...</td>\n",
       "      <td>DEVOPS</td>\n",
       "      <td>DEVOPS</td>\n",
       "      <td>0</td>\n",
       "    </tr>\n",
       "    <tr>\n",
       "      <th>1</th>\n",
       "      <td>должна проверять возможно платеж таким номером...</td>\n",
       "      <td>SYSADM</td>\n",
       "      <td>DEVOPS</td>\n",
       "      <td>0</td>\n",
       "    </tr>\n",
       "    <tr>\n",
       "      <th>2</th>\n",
       "      <td>за счет транзакционной работы которая при инт...</td>\n",
       "      <td>DATABASES</td>\n",
       "      <td>DEVOPS</td>\n",
       "      <td>0</td>\n",
       "    </tr>\n",
       "    <tr>\n",
       "      <th>3</th>\n",
       "      <td>интеграцию из других систем различайте ситуац...</td>\n",
       "      <td>DIY</td>\n",
       "      <td>DEVOPS</td>\n",
       "      <td>0</td>\n",
       "    </tr>\n",
       "    <tr>\n",
       "      <th>4</th>\n",
       "      <td>связидублирование потери могут возникать не то...</td>\n",
       "      <td>SYSADM</td>\n",
       "      <td>DEVOPS</td>\n",
       "      <td>0</td>\n",
       "    </tr>\n",
       "    <tr>\n",
       "      <th>5</th>\n",
       "      <td>блог компании visiology высокая производительн...</td>\n",
       "      <td>DATABASES</td>\n",
       "      <td>DEVOPS</td>\n",
       "      <td>1</td>\n",
       "    </tr>\n",
       "    <tr>\n",
       "      <th>6</th>\n",
       "      <td>данных на горячие холодные объединяет плюсы об...</td>\n",
       "      <td>DATABASES</td>\n",
       "      <td>DEVOPS</td>\n",
       "      <td>1</td>\n",
       "    </tr>\n",
       "    <tr>\n",
       "      <th>7</th>\n",
       "      <td>резервное копирование хранение данных статисти...</td>\n",
       "      <td>DATABASES</td>\n",
       "      <td>OPENING</td>\n",
       "      <td>2</td>\n",
       "    </tr>\n",
       "    <tr>\n",
       "      <th>8</th>\n",
       "      <td>блог компании firstvds системное администриров...</td>\n",
       "      <td>DEVOPS</td>\n",
       "      <td>SYSADM</td>\n",
       "      <td>3</td>\n",
       "    </tr>\n",
       "    <tr>\n",
       "      <th>9</th>\n",
       "      <td>них это те данные которые доступны по сети вот...</td>\n",
       "      <td>SECURITY</td>\n",
       "      <td>SYSADM</td>\n",
       "      <td>3</td>\n",
       "    </tr>\n",
       "    <tr>\n",
       "      <th>10</th>\n",
       "      <td>как на порядок ускорил переподключение мастеру...</td>\n",
       "      <td>DEVOPS</td>\n",
       "      <td>SYSADM</td>\n",
       "      <td>4</td>\n",
       "    </tr>\n",
       "    <tr>\n",
       "      <th>11</th>\n",
       "      <td>привет хабр учитывая как много читают комменти...</td>\n",
       "      <td>DEVOPS</td>\n",
       "      <td>USER</td>\n",
       "      <td>5</td>\n",
       "    </tr>\n",
       "    <tr>\n",
       "      <th>12</th>\n",
       "      <td>блог компании zextras системное администрирова...</td>\n",
       "      <td>DEVOPS</td>\n",
       "      <td>SYSADM</td>\n",
       "      <td>6</td>\n",
       "    </tr>\n",
       "    <tr>\n",
       "      <th>13</th>\n",
       "      <td>среднем соответствует пользователю пятилетним ...</td>\n",
       "      <td>DATABASES</td>\n",
       "      <td>SYSADM</td>\n",
       "      <td>6</td>\n",
       "    </tr>\n",
       "    <tr>\n",
       "      <th>14</th>\n",
       "      <td>блог компании cloudera big data хранилища данн...</td>\n",
       "      <td>DATABASES</td>\n",
       "      <td>DATABASES</td>\n",
       "      <td>7</td>\n",
       "    </tr>\n",
       "    <tr>\n",
       "      <th>15</th>\n",
       "      <td>data platform cdp она применяет cloudera data ...</td>\n",
       "      <td>DEVOPS</td>\n",
       "      <td>DATABASES</td>\n",
       "      <td>7</td>\n",
       "    </tr>\n",
       "    <tr>\n",
       "      <th>16</th>\n",
       "      <td>cdp уже поддерживает весь жизненный цикл данн...</td>\n",
       "      <td>DATABASES</td>\n",
       "      <td>DATABASES</td>\n",
       "      <td>7</td>\n",
       "    </tr>\n",
       "    <tr>\n",
       "      <th>17</th>\n",
       "      <td>опрос лишь сотрудников согласились бы передать...</td>\n",
       "      <td>MISC</td>\n",
       "      <td>SECURITY</td>\n",
       "      <td>8</td>\n",
       "    </tr>\n",
       "    <tr>\n",
       "      <th>18</th>\n",
       "      <td>хакер утверждает что взломал серверы tmobile п...</td>\n",
       "      <td>MISC</td>\n",
       "      <td>SECURITY</td>\n",
       "      <td>9</td>\n",
       "    </tr>\n",
       "    <tr>\n",
       "      <th>19</th>\n",
       "      <td>течение следующего десятилетия mastercard буде...</td>\n",
       "      <td>MISC</td>\n",
       "      <td>INTROS</td>\n",
       "      <td>10</td>\n",
       "    </tr>\n",
       "    <tr>\n",
       "      <th>20</th>\n",
       "      <td>блог компании конференции олега бунина онтико ...</td>\n",
       "      <td>DEVOPS</td>\n",
       "      <td>DEVOPS</td>\n",
       "      <td>11</td>\n",
       "    </tr>\n",
       "    <tr>\n",
       "      <th>21</th>\n",
       "      <td>выполняется за минут при этом всех запросов ав...</td>\n",
       "      <td>DEVOPS</td>\n",
       "      <td>DEVOPS</td>\n",
       "      <td>11</td>\n",
       "    </tr>\n",
       "    <tr>\n",
       "      <th>22</th>\n",
       "      <td>команде сожалению не может изменить тулинг про...</td>\n",
       "      <td>DEVOPS</td>\n",
       "      <td>DEVOPS</td>\n",
       "      <td>11</td>\n",
       "    </tr>\n",
       "    <tr>\n",
       "      <th>23</th>\n",
       "      <td>требования при выкатке приложения оно бою день...</td>\n",
       "      <td>DEVOPS</td>\n",
       "      <td>DEVOPS</td>\n",
       "      <td>11</td>\n",
       "    </tr>\n",
       "    <tr>\n",
       "      <th>24</th>\n",
       "      <td>блог компании flashphoner системное администри...</td>\n",
       "      <td>DIY</td>\n",
       "      <td>SYSADM</td>\n",
       "      <td>12</td>\n",
       "    </tr>\n",
       "    <tr>\n",
       "      <th>25</th>\n",
       "      <td>от задачи нужно решить использовать новый gar...</td>\n",
       "      <td>MULTIMEDIA</td>\n",
       "      <td>SYSADM</td>\n",
       "      <td>12</td>\n",
       "    </tr>\n",
       "    <tr>\n",
       "      <th>26</th>\n",
       "      <td>не пройден остается проверить последний вари...</td>\n",
       "      <td>DIY</td>\n",
       "      <td>SYSADM</td>\n",
       "      <td>12</td>\n",
       "    </tr>\n",
       "    <tr>\n",
       "      <th>27</th>\n",
       "      <td>ниже подробные параметры файла для тестааудио...</td>\n",
       "      <td>DIY</td>\n",
       "      <td>SYSADM</td>\n",
       "      <td>12</td>\n",
       "    </tr>\n",
       "    <tr>\n",
       "      <th>28</th>\n",
       "      <td>одним dbodbcget запросом базу реализовывается ...</td>\n",
       "      <td>DATABASES</td>\n",
       "      <td>SYSADM</td>\n",
       "      <td>13</td>\n",
       "    </tr>\n",
       "    <tr>\n",
       "      <th>29</th>\n",
       "      <td>блог компании cloudera big data хранилища данн...</td>\n",
       "      <td>DATABASES</td>\n",
       "      <td>DATABASES</td>\n",
       "      <td>14</td>\n",
       "    </tr>\n",
       "    <tr>\n",
       "      <th>30</th>\n",
       "      <td>data platform cdp она применяет cloudera data ...</td>\n",
       "      <td>DEVOPS</td>\n",
       "      <td>DATABASES</td>\n",
       "      <td>14</td>\n",
       "    </tr>\n",
       "    <tr>\n",
       "      <th>31</th>\n",
       "      <td>cdp уже поддерживает весь жизненный цикл данн...</td>\n",
       "      <td>DATABASES</td>\n",
       "      <td>DATABASES</td>\n",
       "      <td>14</td>\n",
       "    </tr>\n",
       "    <tr>\n",
       "      <th>32</th>\n",
       "      <td>билайн заверяет что расследует утечку данных ...</td>\n",
       "      <td>OPENING</td>\n",
       "      <td>SEQURITY</td>\n",
       "      <td>15</td>\n",
       "    </tr>\n",
       "    <tr>\n",
       "      <th>33</th>\n",
       "      <td>меня зовут константин кулишов работаю devopsин...</td>\n",
       "      <td>DEVOPS</td>\n",
       "      <td>DEVOPS</td>\n",
       "      <td>16</td>\n",
       "    </tr>\n",
       "    <tr>\n",
       "      <th>34</th>\n",
       "      <td>развитие языка javascript постепенно переносит...</td>\n",
       "      <td>DEV</td>\n",
       "      <td>DEV</td>\n",
       "      <td>17</td>\n",
       "    </tr>\n",
       "    <tr>\n",
       "      <th>35</th>\n",
       "      <td>блог компании softline облачные вычисления ama...</td>\n",
       "      <td>EVENTS</td>\n",
       "      <td>DEVOPS</td>\n",
       "      <td>18</td>\n",
       "    </tr>\n",
       "    <tr>\n",
       "      <th>36</th>\n",
       "      <td>gpus ссылкав дополнение процессорам graviton н...</td>\n",
       "      <td>DATA_SCIENCE</td>\n",
       "      <td>DEVOPS</td>\n",
       "      <td>18</td>\n",
       "    </tr>\n",
       "    <tr>\n",
       "      <th>37</th>\n",
       "      <td>nlp обнаружение объектов распознавание изображ...</td>\n",
       "      <td>DATABASES</td>\n",
       "      <td>DEVOPS</td>\n",
       "      <td>18</td>\n",
       "    </tr>\n",
       "    <tr>\n",
       "      <th>38</th>\n",
       "      <td>нетривиальной задачей им не хватало возможно...</td>\n",
       "      <td>DATABASES</td>\n",
       "      <td>DEVOPS</td>\n",
       "      <td>18</td>\n",
       "    </tr>\n",
       "    <tr>\n",
       "      <th>39</th>\n",
       "      <td>пропускной способности хранилища данных тепер...</td>\n",
       "      <td>DEVOPS</td>\n",
       "      <td>DEVOPS</td>\n",
       "      <td>18</td>\n",
       "    </tr>\n",
       "    <tr>\n",
       "      <th>40</th>\n",
       "      <td>зависимости от меняющихся требований например...</td>\n",
       "      <td>DATABASES</td>\n",
       "      <td>DEVOPS</td>\n",
       "      <td>18</td>\n",
       "    </tr>\n",
       "    <tr>\n",
       "      <th>41</th>\n",
       "      <td>блог компании embox open source системное прог...</td>\n",
       "      <td>DEV</td>\n",
       "      <td>SYSADM</td>\n",
       "      <td>19</td>\n",
       "    </tr>\n",
       "    <tr>\n",
       "      <th>42</th>\n",
       "      <td>no write allocate прежде чем переходить практи...</td>\n",
       "      <td>SYSADM</td>\n",
       "      <td>SYSADM</td>\n",
       "      <td>19</td>\n",
       "    </tr>\n",
       "    <tr>\n",
       "      <th>43</th>\n",
       "      <td>или иной модели как говорил выше отключаем ic...</td>\n",
       "      <td>DATABASES</td>\n",
       "      <td>SYSADM</td>\n",
       "      <td>19</td>\n",
       "    </tr>\n",
       "    <tr>\n",
       "      <th>44</th>\n",
       "      <td>блог компании vk itинфраструктура хранение дан...</td>\n",
       "      <td>DATABASES</td>\n",
       "      <td>SYSADM</td>\n",
       "      <td>20</td>\n",
       "    </tr>\n",
       "    <tr>\n",
       "      <th>45</th>\n",
       "      <td>не пытается сохранить совместимость posix реал...</td>\n",
       "      <td>SYSADM</td>\n",
       "      <td>SYSADM</td>\n",
       "      <td>20</td>\n",
       "    </tr>\n",
       "    <tr>\n",
       "      <th>46</th>\n",
       "      <td>таких как ext для хранения метаданных полагает...</td>\n",
       "      <td>DATABASES</td>\n",
       "      <td>SYSADM</td>\n",
       "      <td>20</td>\n",
       "    </tr>\n",
       "    <tr>\n",
       "      <th>47</th>\n",
       "      <td>читатели нашего блога не без основания заметил...</td>\n",
       "      <td>DATABASES</td>\n",
       "      <td>SYSADM</td>\n",
       "      <td>21</td>\n",
       "    </tr>\n",
       "    <tr>\n",
       "      <th>48</th>\n",
       "      <td>же формате каком он указан vbr hostname fqdn i...</td>\n",
       "      <td>DATABASES</td>\n",
       "      <td>SYSADM</td>\n",
       "      <td>21</td>\n",
       "    </tr>\n",
       "    <tr>\n",
       "      <th>49</th>\n",
       "      <td>блог компании softline itинфраструктура amazon...</td>\n",
       "      <td>DATABASES</td>\n",
       "      <td>DEVOPS</td>\n",
       "      <td>22</td>\n",
       "    </tr>\n",
       "    <tr>\n",
       "      <th>50</th>\n",
       "      <td>блог компании softline itинфраструктура amazon...</td>\n",
       "      <td>EVENTS</td>\n",
       "      <td>DEVOPS</td>\n",
       "      <td>23</td>\n",
       "    </tr>\n",
       "  </tbody>\n",
       "</table>\n",
       "</div>\n",
       "      <button class=\"colab-df-convert\" onclick=\"convertToInteractive('df-7e8b1ac9-faad-446d-bf73-ea94ff0fa473')\"\n",
       "              title=\"Convert this dataframe to an interactive table.\"\n",
       "              style=\"display:none;\">\n",
       "        \n",
       "  <svg xmlns=\"http://www.w3.org/2000/svg\" height=\"24px\"viewBox=\"0 0 24 24\"\n",
       "       width=\"24px\">\n",
       "    <path d=\"M0 0h24v24H0V0z\" fill=\"none\"/>\n",
       "    <path d=\"M18.56 5.44l.94 2.06.94-2.06 2.06-.94-2.06-.94-.94-2.06-.94 2.06-2.06.94zm-11 1L8.5 8.5l.94-2.06 2.06-.94-2.06-.94L8.5 2.5l-.94 2.06-2.06.94zm10 10l.94 2.06.94-2.06 2.06-.94-2.06-.94-.94-2.06-.94 2.06-2.06.94z\"/><path d=\"M17.41 7.96l-1.37-1.37c-.4-.4-.92-.59-1.43-.59-.52 0-1.04.2-1.43.59L10.3 9.45l-7.72 7.72c-.78.78-.78 2.05 0 2.83L4 21.41c.39.39.9.59 1.41.59.51 0 1.02-.2 1.41-.59l7.78-7.78 2.81-2.81c.8-.78.8-2.07 0-2.86zM5.41 20L4 18.59l7.72-7.72 1.47 1.35L5.41 20z\"/>\n",
       "  </svg>\n",
       "      </button>\n",
       "      \n",
       "  <style>\n",
       "    .colab-df-container {\n",
       "      display:flex;\n",
       "      flex-wrap:wrap;\n",
       "      gap: 12px;\n",
       "    }\n",
       "\n",
       "    .colab-df-convert {\n",
       "      background-color: #E8F0FE;\n",
       "      border: none;\n",
       "      border-radius: 50%;\n",
       "      cursor: pointer;\n",
       "      display: none;\n",
       "      fill: #1967D2;\n",
       "      height: 32px;\n",
       "      padding: 0 0 0 0;\n",
       "      width: 32px;\n",
       "    }\n",
       "\n",
       "    .colab-df-convert:hover {\n",
       "      background-color: #E2EBFA;\n",
       "      box-shadow: 0px 1px 2px rgba(60, 64, 67, 0.3), 0px 1px 3px 1px rgba(60, 64, 67, 0.15);\n",
       "      fill: #174EA6;\n",
       "    }\n",
       "\n",
       "    [theme=dark] .colab-df-convert {\n",
       "      background-color: #3B4455;\n",
       "      fill: #D2E3FC;\n",
       "    }\n",
       "\n",
       "    [theme=dark] .colab-df-convert:hover {\n",
       "      background-color: #434B5C;\n",
       "      box-shadow: 0px 1px 3px 1px rgba(0, 0, 0, 0.15);\n",
       "      filter: drop-shadow(0px 1px 2px rgba(0, 0, 0, 0.3));\n",
       "      fill: #FFFFFF;\n",
       "    }\n",
       "  </style>\n",
       "\n",
       "      <script>\n",
       "        const buttonEl =\n",
       "          document.querySelector('#df-7e8b1ac9-faad-446d-bf73-ea94ff0fa473 button.colab-df-convert');\n",
       "        buttonEl.style.display =\n",
       "          google.colab.kernel.accessAllowed ? 'block' : 'none';\n",
       "\n",
       "        async function convertToInteractive(key) {\n",
       "          const element = document.querySelector('#df-7e8b1ac9-faad-446d-bf73-ea94ff0fa473');\n",
       "          const dataTable =\n",
       "            await google.colab.kernel.invokeFunction('convertToInteractive',\n",
       "                                                     [key], {});\n",
       "          if (!dataTable) return;\n",
       "\n",
       "          const docLinkHtml = 'Like what you see? Visit the ' +\n",
       "            '<a target=\"_blank\" href=https://colab.research.google.com/notebooks/data_table.ipynb>data table notebook</a>'\n",
       "            + ' to learn more about interactive tables.';\n",
       "          element.innerHTML = '';\n",
       "          dataTable['output_type'] = 'display_data';\n",
       "          await google.colab.output.renderOutput(dataTable, element);\n",
       "          const docLink = document.createElement('div');\n",
       "          docLink.innerHTML = docLinkHtml;\n",
       "          element.appendChild(docLink);\n",
       "        }\n",
       "      </script>\n",
       "    </div>\n",
       "  </div>\n",
       "  "
      ],
      "text/plain": [
       "                                                текст предсказанная категория  \\\n",
       "0   блог компании конференции олега бунина онтико ...                  DEVOPS   \n",
       "1   должна проверять возможно платеж таким номером...                  SYSADM   \n",
       "2   за счет транзакционной работы которая при инт...               DATABASES   \n",
       "3   интеграцию из других систем различайте ситуац...                     DIY   \n",
       "4   связидублирование потери могут возникать не то...                  SYSADM   \n",
       "5   блог компании visiology высокая производительн...               DATABASES   \n",
       "6   данных на горячие холодные объединяет плюсы об...               DATABASES   \n",
       "7   резервное копирование хранение данных статисти...               DATABASES   \n",
       "8   блог компании firstvds системное администриров...                  DEVOPS   \n",
       "9   них это те данные которые доступны по сети вот...                SECURITY   \n",
       "10  как на порядок ускорил переподключение мастеру...                  DEVOPS   \n",
       "11  привет хабр учитывая как много читают комменти...                  DEVOPS   \n",
       "12  блог компании zextras системное администрирова...                  DEVOPS   \n",
       "13  среднем соответствует пользователю пятилетним ...               DATABASES   \n",
       "14  блог компании cloudera big data хранилища данн...               DATABASES   \n",
       "15  data platform cdp она применяет cloudera data ...                  DEVOPS   \n",
       "16  cdp уже поддерживает весь жизненный цикл данн...               DATABASES   \n",
       "17  опрос лишь сотрудников согласились бы передать...                    MISC   \n",
       "18  хакер утверждает что взломал серверы tmobile п...                    MISC   \n",
       "19  течение следующего десятилетия mastercard буде...                    MISC   \n",
       "20  блог компании конференции олега бунина онтико ...                  DEVOPS   \n",
       "21  выполняется за минут при этом всех запросов ав...                  DEVOPS   \n",
       "22  команде сожалению не может изменить тулинг про...                  DEVOPS   \n",
       "23  требования при выкатке приложения оно бою день...                  DEVOPS   \n",
       "24  блог компании flashphoner системное администри...                     DIY   \n",
       "25  от задачи нужно решить использовать новый gar...              MULTIMEDIA   \n",
       "26  не пройден остается проверить последний вари...                     DIY   \n",
       "27  ниже подробные параметры файла для тестааудио...                     DIY   \n",
       "28  одним dbodbcget запросом базу реализовывается ...               DATABASES   \n",
       "29  блог компании cloudera big data хранилища данн...               DATABASES   \n",
       "30  data platform cdp она применяет cloudera data ...                  DEVOPS   \n",
       "31  cdp уже поддерживает весь жизненный цикл данн...               DATABASES   \n",
       "32  билайн заверяет что расследует утечку данных ...                 OPENING   \n",
       "33  меня зовут константин кулишов работаю devopsин...                  DEVOPS   \n",
       "34  развитие языка javascript постепенно переносит...                     DEV   \n",
       "35  блог компании softline облачные вычисления ama...                  EVENTS   \n",
       "36  gpus ссылкав дополнение процессорам graviton н...            DATA_SCIENCE   \n",
       "37  nlp обнаружение объектов распознавание изображ...               DATABASES   \n",
       "38  нетривиальной задачей им не хватало возможно...               DATABASES   \n",
       "39  пропускной способности хранилища данных тепер...                  DEVOPS   \n",
       "40  зависимости от меняющихся требований например...               DATABASES   \n",
       "41  блог компании embox open source системное прог...                     DEV   \n",
       "42  no write allocate прежде чем переходить практи...                  SYSADM   \n",
       "43  или иной модели как говорил выше отключаем ic...               DATABASES   \n",
       "44  блог компании vk itинфраструктура хранение дан...               DATABASES   \n",
       "45  не пытается сохранить совместимость posix реал...                  SYSADM   \n",
       "46  таких как ext для хранения метаданных полагает...               DATABASES   \n",
       "47  читатели нашего блога не без основания заметил...               DATABASES   \n",
       "48  же формате каком он указан vbr hostname fqdn i...               DATABASES   \n",
       "49  блог компании softline itинфраструктура amazon...               DATABASES   \n",
       "50  блог компании softline itинфраструктура amazon...                  EVENTS   \n",
       "\n",
       "   истинная категория  индекс веб-страницы  \n",
       "0              DEVOPS                    0  \n",
       "1              DEVOPS                    0  \n",
       "2              DEVOPS                    0  \n",
       "3              DEVOPS                    0  \n",
       "4              DEVOPS                    0  \n",
       "5              DEVOPS                    1  \n",
       "6              DEVOPS                    1  \n",
       "7             OPENING                    2  \n",
       "8              SYSADM                    3  \n",
       "9              SYSADM                    3  \n",
       "10             SYSADM                    4  \n",
       "11               USER                    5  \n",
       "12             SYSADM                    6  \n",
       "13             SYSADM                    6  \n",
       "14          DATABASES                    7  \n",
       "15          DATABASES                    7  \n",
       "16          DATABASES                    7  \n",
       "17           SECURITY                    8  \n",
       "18           SECURITY                    9  \n",
       "19             INTROS                   10  \n",
       "20             DEVOPS                   11  \n",
       "21             DEVOPS                   11  \n",
       "22             DEVOPS                   11  \n",
       "23             DEVOPS                   11  \n",
       "24             SYSADM                   12  \n",
       "25             SYSADM                   12  \n",
       "26             SYSADM                   12  \n",
       "27             SYSADM                   12  \n",
       "28             SYSADM                   13  \n",
       "29          DATABASES                   14  \n",
       "30          DATABASES                   14  \n",
       "31          DATABASES                   14  \n",
       "32           SEQURITY                   15  \n",
       "33             DEVOPS                   16  \n",
       "34                DEV                   17  \n",
       "35             DEVOPS                   18  \n",
       "36             DEVOPS                   18  \n",
       "37             DEVOPS                   18  \n",
       "38             DEVOPS                   18  \n",
       "39             DEVOPS                   18  \n",
       "40             DEVOPS                   18  \n",
       "41             SYSADM                   19  \n",
       "42             SYSADM                   19  \n",
       "43             SYSADM                   19  \n",
       "44             SYSADM                   20  \n",
       "45             SYSADM                   20  \n",
       "46             SYSADM                   20  \n",
       "47             SYSADM                   21  \n",
       "48             SYSADM                   21  \n",
       "49             DEVOPS                   22  \n",
       "50             DEVOPS                   23  "
      ]
     },
     "execution_count": 149,
     "metadata": {},
     "output_type": "execute_result"
    }
   ],
   "source": [
    "# наилучшая модель, f1-micro = 77.5% \n",
    "result_df"
   ]
  },
  {
   "cell_type": "markdown",
   "id": "lyPP5JN4gkLa",
   "metadata": {
    "id": "lyPP5JN4gkLa"
   },
   "source": [
    "## Графики экспериментов "
   ]
  },
  {
   "cell_type": "code",
   "execution_count": null,
   "id": "lLLYjY1xrdm-",
   "metadata": {
    "colab": {
     "base_uri": "https://localhost:8080/",
     "height": 295
    },
    "id": "lLLYjY1xrdm-",
    "outputId": "39683067-1dd1-4a22-d58b-52c0cbf034cc"
   },
   "outputs": [
    {
     "data": {
      "image/png": "[encoded data removed]",
      "text/plain": [
       "<Figure size 432x288 with 1 Axes>"
      ]
     },
     "metadata": {
      "needs_background": "light"
     },
     "output_type": "display_data"
    }
   ],
   "source": [
    "epochs = range(1, 11)\n",
    "non_sep_txt = [0.5584958217270195, 0.6462395543175488, 0.6671309192200557, 0.6657381615598886, 0.658774373259053, \n",
    "               0.6504178272980501, 0.6518105849582173, 0.6364902506963789, 0.6657381615598886, 0.644846796657381]\n",
    "with_sep_txt = [0.5213310580204779, 0.6279863481228669, 0.643344709897611, 0.6936860068259386, 0.674061433447099,\n",
    "                0.6919795221843004, 0.6612627986348123, 0.6783276450511946, 0.6510238907849829, 0.6279863481228669]\n",
    "\n",
    "fig, axs = plt.subplots()\n",
    "\n",
    "axs.plot(epochs, non_sep_txt, linestyle = 'dotted', label='non_sep_txt', color='red')\n",
    "#axs.plot(epochs, [0.66, 0.66, 0.55, 0.55, 0.60, 0.60, 0.76, 0.76, 0.78, 0.73], '-.', label='train', color='green')\n",
    "axs.plot(epochs, with_sep_txt, '--', label='with_sep_txt', color='blue')\n",
    "axs.grid()\n",
    "plt.title('F1-micro on validation')\n",
    "#plt.title('F1-micro on train and validation')\n",
    "plt.xlabel('Epoch')\n",
    "plt.ylabel('F1-micro')\n",
    "axs.legend(loc='best')\n",
    "plt.xticks(epochs)\n",
    "plt.savefig('result_sep_txt.pdf')\n",
    "plt.show()"
   ]
  },
  {
   "cell_type": "code",
   "execution_count": 77,
   "id": "TY4sjdKWhOvj",
   "metadata": {
    "colab": {
     "base_uri": "https://localhost:8080/",
     "height": 295
    },
    "id": "TY4sjdKWhOvj",
    "outputId": "04ff67ac-5dc0-4ca8-f631-167db735eeb0"
   },
   "outputs": [
    {
     "data": {
      "image/png": "[encoded data removed]",
      "text/plain": [
       "<Figure size 432x288 with 1 Axes>"
      ]
     },
     "metadata": {
      "needs_background": "light"
     },
     "output_type": "display_data"
    }
   ],
   "source": [
    "import matplotlib.pyplot as plt\n",
    "epochs = range(1, 5)\n",
    "batch_16 = [0.5213310580204779, 0.6279863481228669, 0.643344709897611, 0.6936860068259386]\n",
    "batch_32 = [0.5384958217270195, 0.6318491283947473, 0.6448523495728412, 0.6482548925748575]\n",
    "batch_64 = [0.5139282948273584, 0.6149432584258442, 0.6243948854753753, 0.6534498578345742]\n",
    "\n",
    "fig, axs = plt.subplots()\n",
    "\n",
    "axs.plot(epochs, batch_16, linestyle = 'dotted', label='batch_size=16', color='red')\n",
    "axs.plot(epochs, batch_32, '--', label='batch_size=32', color='blue')\n",
    "axs.plot(epochs, batch_64, '-.', label='batch_size=64', color='green')\n",
    "axs.grid()\n",
    "plt.title('F1-micro on validation')\n",
    "#plt.title('F1-micro on train and validation')\n",
    "plt.xlabel('Epoch')\n",
    "plt.ylabel('F1-micro')\n",
    "axs.legend(loc='best')\n",
    "plt.xticks(epochs)\n",
    "plt.savefig('result_batch.pdf')\n",
    "plt.show()"
   ]
  },
  {
   "cell_type": "code",
   "execution_count": 76,
   "id": "wiZ2iVsZn5cX",
   "metadata": {
    "colab": {
     "base_uri": "https://localhost:8080/",
     "height": 295
    },
    "id": "wiZ2iVsZn5cX",
    "outputId": "62259953-2be2-4b93-9b56-1e1ead72163d"
   },
   "outputs": [
    {
     "data": {
      "image/png": "[encoded data removed]",
      "text/plain": [
       "<Figure size 432x288 with 1 Axes>"
      ]
     },
     "metadata": {
      "needs_background": "light"
     },
     "output_type": "display_data"
    }
   ],
   "source": [
    "import matplotlib.pyplot as plt\n",
    "epochs = range(1, 5)\n",
    "lr_2 = [0.5705467372134039, 0.6358024691358025, 0.6772486772486772, 0.6772486772486772]\n",
    "lr_1 = [0.5608465608465608, 0.6549206349206349, 0.6516754850088183, 0.6691393298059964]\n",
    "lr_5 = [0.5582190377123261, 0.6293716976127632, 0.6473297414396226, 0.6612910382021128]\n",
    "\n",
    "fig, axs = plt.subplots()\n",
    "\n",
    "axs.plot(epochs, lr_5, '--', label='lr=5e-5', color='blue')\n",
    "axs.plot(epochs, lr_2, linestyle = 'dotted', label='lr=2e-5', color='red')\n",
    "axs.plot(epochs, lr_1, '-.', label='lr=1e-5', color='green')\n",
    "axs.grid()\n",
    "plt.title('F1-micro on validation')\n",
    "#plt.title('F1-micro on train and validation')\n",
    "plt.xlabel('Epoch')\n",
    "plt.ylabel('F1-micro')\n",
    "axs.legend(loc='best')\n",
    "plt.xticks(epochs)\n",
    "plt.savefig('result_lr.pdf')\n",
    "plt.show()"
   ]
  },
  {
   "cell_type": "code",
   "execution_count": null,
   "id": "MrrUaf5tKuL_",
   "metadata": {
    "colab": {
     "base_uri": "https://localhost:8080/",
     "height": 295
    },
    "id": "MrrUaf5tKuL_",
    "outputId": "36bb9e39-b5e9-4822-cd85-9f858e892684"
   },
   "outputs": [
    {
     "data": {
      "image/png": "[encoded data removed]",
      "text/plain": [
       "<Figure size 432x288 with 1 Axes>"
      ]
     },
     "metadata": {
      "needs_background": "light"
     },
     "output_type": "display_data"
    }
   ],
   "source": [
    "epochs = range(1, 5)\n",
    "all_p = [0.5584958217270195, 0.6462395543175488, 0.6671309192200557, 0.6657381615598886]\n",
    "body = [0.50324521938154321, 0.6012348129324834, 0.6343934985943304, 0.6729843934834939]\n",
    "title_h1_h6 = [0.45320984338438939, 0.49324939423294, 0.530459492349, 0.542309494031930]\n",
    "\n",
    "fig, axs = plt.subplots()\n",
    "\n",
    "axs.plot(epochs, all_p, linestyle = 'dotted', label='все <p>', color='red')\n",
    "axs.plot(epochs, body, '-.', label='<body>', color='green')\n",
    "axs.plot(epochs, title_h1_h6, '--', label='<title> и <h1>-<h6>', color='blue')\n",
    "axs.grid()\n",
    "plt.title('F1-micro on validation')\n",
    "plt.xlabel('Epoch')\n",
    "plt.ylabel('F1-micro')\n",
    "axs.legend(loc='best')\n",
    "plt.xticks(epochs)\n",
    "#plt.savefig('test_tags.pdf')\n",
    "plt.show()"
   ]
  },
  {
   "cell_type": "code",
   "execution_count": null,
   "id": "wRwDlpWFGfd2",
   "metadata": {
    "colab": {
     "base_uri": "https://localhost:8080/",
     "height": 295
    },
    "id": "wRwDlpWFGfd2",
    "outputId": "19f0ae5a-6a70-46a6-bd82-8c7fe2926d92"
   },
   "outputs": [
    {
     "data": {
      "image/png": "[encoded data removed]",
      "text/plain": [
       "<Figure size 432x288 with 1 Axes>"
      ]
     },
     "metadata": {
      "needs_background": "light"
     },
     "output_type": "display_data"
    }
   ],
   "source": [
    "epochs = range(1, 11)\n",
    "train = [0.41208270106221545, 0.6443474962063733, 0.7773141122913505, 0.8728186646433991, 0.9286798179059181, \n",
    "         0.957701062215478, 0.9724962063732928, 0.9764795144157815, 0.9801783004552352, 0.9820751138088012]\n",
    "valid = [0.5213310580204779, 0.6279863481228669, 0.643344709897611, 0.6936860068259386, 0.674061433447099,\n",
    " 0.6919795221843004, 0.6612627986348123, 0.6783276450511946, 0.6510238907849829, 0.6279863481228669]\n",
    "\n",
    "fig, axs = plt.subplots()\n",
    "\n",
    "axs.plot(epochs, valid, linestyle = 'dotted', label='val', color='red')\n",
    "axs.grid()\n",
    "plt.title('F1-micro on validation')\n",
    "plt.xlabel('Epoch')\n",
    "plt.ylabel('F1-micro')\n",
    "axs.legend(loc='best')\n",
    "plt.xticks(epochs)\n",
    "#plt.savefig('test_val.pdf')\n",
    "plt.show()"
   ]
  },
  {
   "cell_type": "code",
   "execution_count": null,
   "id": "nbtdD9NkK2s7",
   "metadata": {
    "id": "nbtdD9NkK2s7"
   },
   "outputs": [],
   "source": [
    "# dataset lenta.ru\n",
    "\n",
    "epochs = range(1, 11)\n",
    "train = [0.7813603662524525, 0.9234139960758666, 0.9684761281883584, 0.9836494440810988, 0.9892086330935251,\n",
    "      0.9891432308698496, 0.991563113145847, 0.9935251798561151, 0.9939829954218443, 0.9945716154349248]\n",
    "valid = [[0.8793407886992348, 0.9005297233666862, 0.8952324896998234, 0.9046497939964685, 0.8993525603296056,\n",
    "      0.9040612124779281, 0.8975868157739847, 0.9028840494408475, 0.8940553266627428, 0.9158328428487346]]\n",
    "\n",
    "fig, axs = plt.subplots()\n",
    "\n",
    "axs.plot(epochs, val, linestyle = 'dotted', label='val', color='red')\n",
    "axs.plot(epochs, train, '--', label='train', color='blue')\n",
    "axs.grid()\n",
    "plt.title('F1-micro on validation (lenta.ru)')\n",
    "#plt.title('F1-micro on train and validation')\n",
    "plt.xlabel('Epoch')\n",
    "plt.ylabel('F1-micro')\n",
    "axs.legend(loc='best')\n",
    "plt.xticks(epochs)\n",
    "#plt.savefig('result_sep_txt.pdf')\n",
    "plt.show()"
   ]
  },
  {
   "cell_type": "code",
   "execution_count": 167,
   "id": "XsExXPRpI-ZV",
   "metadata": {
    "colab": {
     "base_uri": "https://localhost:8080/",
     "height": 472
    },
    "id": "XsExXPRpI-ZV",
    "outputId": "7c4c176c-b10b-403f-eb11-edee1f99ba5e"
   },
   "outputs": [
    {
     "data": {
      "image/png": "[encoded data removed]",
      "text/plain": [
       "<Figure size 640x480 with 1 Axes>"
      ]
     },
     "metadata": {},
     "output_type": "display_data"
    }
   ],
   "source": [
    "import matplotlib.pyplot as plt\n",
    "epochs = range(1, 6)\n",
    "augm3 = [0.6592388182328311, 0.7539294324882132, 0.7308341493498717, 0.7283291382482833, 0.7331094882307212]\n",
    "augm1 = [0.6007966885281153, 0.7049166756262768, 0.7355510160197828, 0.7439845177937856, 0.7391963229760241]\n",
    "augm2 = [0.6470019342359767, 0.7137330754352033, 0.7538684719535783, 0.7703094777562862, 0.7674081237911026]\n",
    "augm4 = [0.5903284134783439, 0.7212938123782327, 0.7424987481364363, 0.7412398413971811, 0.7632643717345211]\n",
    "augm5 = [0.6462824461064672, 0.7311922569291684, 0.7765068191816982, 0.7575890893092829, 0.7765068191816982]\n",
    "\n",
    "fig, axs = plt.subplots()\n",
    "\n",
    "axs.plot(epochs, augm1, linestyle = 'dotted', label='augm_1', color='red')\n",
    "axs.plot(epochs, augm2, '-.', label='augm_2', color='green')\n",
    "axs.plot(epochs, augm3, '--', label='augm_3', color='blue')\n",
    "axs.plot(epochs, augm4, label='augm_4', color='black')\n",
    "axs.plot(epochs, augm5, ':', label='augm_5', color='orange')\n",
    "axs.grid()\n",
    "plt.title('F1-micro on validation')\n",
    "#plt.title('F1-micro on validation')\n",
    "plt.xlabel('Epoch')\n",
    "plt.ylabel('F1-micro')\n",
    "axs.legend(loc='best')\n",
    "plt.xticks(epochs)\n",
    "plt.savefig('augms_valid.pdf')\n",
    "plt.show()"
   ]
  }
 ],
 "metadata": {
  "accelerator": "GPU",
  "colab": {
   "collapsed_sections": [
    "e046ced1",
    "mlFL0owpHLU2",
    "5d5e5519",
    "1b3d7611",
    "7NcGddbm11Yq",
    "2ddc9a66",
    "166aea5a",
    "lyPP5JN4gkLa"
   ],
   "provenance": []
  },
  "gpuClass": "standard",
  "kernelspec": {
   "display_name": "Python 3 (ipykernel)",
   "language": "python",
   "name": "python3"
  },
  "language_info": {
   "codemirror_mode": {
    "name": "ipython",
    "version": 3
   },
   "file_extension": ".py",
   "mimetype": "text/x-python",
   "name": "python",
   "nbconvert_exporter": "python",
   "pygments_lexer": "ipython3",
   "version": "3.11.1"
  },
  "widgets": {
   "application/vnd.jupyter.widget-state+json": {
    "0d33292418d948bf9bb1e36f495a349c": {
     "model_module": "@jupyter-widgets/base",
     "model_module_version": "1.2.0",
     "model_name": "LayoutModel",
     "state": {
      "_model_module": "@jupyter-widgets/base",
      "_model_module_version": "1.2.0",
      "_model_name": "LayoutModel",
      "_view_count": null,
      "_view_module": "@jupyter-widgets/base",
      "_view_module_version": "1.2.0",
      "_view_name": "LayoutView",
      "align_content": null,
      "align_items": null,
      "align_self": null,
      "border": null,
      "bottom": null,
      "display": null,
      "flex": null,
      "flex_flow": null,
      "grid_area": null,
      "grid_auto_columns": null,
      "grid_auto_flow": null,
      "grid_auto_rows": null,
      "grid_column": null,
      "grid_gap": null,
      "grid_row": null,
      "grid_template_areas": null,
      "grid_template_columns": null,
      "grid_template_rows": null,
      "height": null,
      "justify_content": null,
      "justify_items": null,
      "left": null,
      "margin": null,
      "max_height": null,
      "max_width": null,
      "min_height": null,
      "min_width": null,
      "object_fit": null,
      "object_position": null,
      "order": null,
      "overflow": null,
      "overflow_x": null,
      "overflow_y": null,
      "padding": null,
      "right": null,
      "top": null,
      "visibility": null,
      "width": null
     }
    },
    "0e0d67a7fd7f40789aa5f5232c33d8f7": {
     "model_module": "@jupyter-widgets/controls",
     "model_module_version": "1.5.0",
     "model_name": "FloatProgressModel",
     "state": {
      "_dom_classes": [],
      "_model_module": "@jupyter-widgets/controls",
      "_model_module_version": "1.5.0",
      "_model_name": "FloatProgressModel",
      "_view_count": null,
      "_view_module": "@jupyter-widgets/controls",
      "_view_module_version": "1.5.0",
      "_view_name": "ProgressView",
      "bar_style": "success",
      "description": "",
      "description_tooltip": null,
      "layout": "IPY_MODEL_c901088259554e95b7b385e8cecb265c",
      "max": 714355318,
      "min": 0,
      "orientation": "horizontal",
      "style": "IPY_MODEL_dea1cf098e1e41d68eb14ec4428915ab",
      "value": 714355318
     }
    },
    "11445e36b2be46ecb4ce7c5de0e8c970": {
     "model_module": "@jupyter-widgets/controls",
     "model_module_version": "1.5.0",
     "model_name": "ProgressStyleModel",
     "state": {
      "_model_module": "@jupyter-widgets/controls",
      "_model_module_version": "1.5.0",
      "_model_name": "ProgressStyleModel",
      "_view_count": null,
      "_view_module": "@jupyter-widgets/base",
      "_view_module_version": "1.2.0",
      "_view_name": "StyleView",
      "bar_color": null,
      "description_width": ""
     }
    },
    "148388028e204c3ebd70d3c4858f98d0": {
     "model_module": "@jupyter-widgets/base",
     "model_module_version": "1.2.0",
     "model_name": "LayoutModel",
     "state": {
      "_model_module": "@jupyter-widgets/base",
      "_model_module_version": "1.2.0",
      "_model_name": "LayoutModel",
      "_view_count": null,
      "_view_module": "@jupyter-widgets/base",
      "_view_module_version": "1.2.0",
      "_view_name": "LayoutView",
      "align_content": null,
      "align_items": null,
      "align_self": null,
      "border": null,
      "bottom": null,
      "display": null,
      "flex": null,
      "flex_flow": null,
      "grid_area": null,
      "grid_auto_columns": null,
      "grid_auto_flow": null,
      "grid_auto_rows": null,
      "grid_column": null,
      "grid_gap": null,
      "grid_row": null,
      "grid_template_areas": null,
      "grid_template_columns": null,
      "grid_template_rows": null,
      "height": null,
      "justify_content": null,
      "justify_items": null,
      "left": null,
      "margin": null,
      "max_height": null,
      "max_width": null,
      "min_height": null,
      "min_width": null,
      "object_fit": null,
      "object_position": null,
      "order": null,
      "overflow": null,
      "overflow_x": null,
      "overflow_y": null,
      "padding": null,
      "right": null,
      "top": null,
      "visibility": null,
      "width": null
     }
    },
    "1ca075166bac438081c1321d4b8a8b6e": {
     "model_module": "@jupyter-widgets/base",
     "model_module_version": "1.2.0",
     "model_name": "LayoutModel",
     "state": {
      "_model_module": "@jupyter-widgets/base",
      "_model_module_version": "1.2.0",
      "_model_name": "LayoutModel",
      "_view_count": null,
      "_view_module": "@jupyter-widgets/base",
      "_view_module_version": "1.2.0",
      "_view_name": "LayoutView",
      "align_content": null,
      "align_items": null,
      "align_self": null,
      "border": null,
      "bottom": null,
      "display": null,
      "flex": null,
      "flex_flow": null,
      "grid_area": null,
      "grid_auto_columns": null,
      "grid_auto_flow": null,
      "grid_auto_rows": null,
      "grid_column": null,
      "grid_gap": null,
      "grid_row": null,
      "grid_template_areas": null,
      "grid_template_columns": null,
      "grid_template_rows": null,
      "height": null,
      "justify_content": null,
      "justify_items": null,
      "left": null,
      "margin": null,
      "max_height": null,
      "max_width": null,
      "min_height": null,
      "min_width": null,
      "object_fit": null,
      "object_position": null,
      "order": null,
      "overflow": null,
      "overflow_x": null,
      "overflow_y": null,
      "padding": null,
      "right": null,
      "top": null,
      "visibility": null,
      "width": null
     }
    },
    "21c9022f4f264d1d9cb5800270a4926f": {
     "model_module": "@jupyter-widgets/base",
     "model_module_version": "1.2.0",
     "model_name": "LayoutModel",
     "state": {
      "_model_module": "@jupyter-widgets/base",
      "_model_module_version": "1.2.0",
      "_model_name": "LayoutModel",
      "_view_count": null,
      "_view_module": "@jupyter-widgets/base",
      "_view_module_version": "1.2.0",
      "_view_name": "LayoutView",
      "align_content": null,
      "align_items": null,
      "align_self": null,
      "border": null,
      "bottom": null,
      "display": null,
      "flex": null,
      "flex_flow": null,
      "grid_area": null,
      "grid_auto_columns": null,
      "grid_auto_flow": null,
      "grid_auto_rows": null,
      "grid_column": null,
      "grid_gap": null,
      "grid_row": null,
      "grid_template_areas": null,
      "grid_template_columns": null,
      "grid_template_rows": null,
      "height": null,
      "justify_content": null,
      "justify_items": null,
      "left": null,
      "margin": null,
      "max_height": null,
      "max_width": null,
      "min_height": null,
      "min_width": null,
      "object_fit": null,
      "object_position": null,
      "order": null,
      "overflow": null,
      "overflow_x": null,
      "overflow_y": null,
      "padding": null,
      "right": null,
      "top": null,
      "visibility": null,
      "width": null
     }
    },
    "298fae92682d457894b7ae89762e79cf": {
     "model_module": "@jupyter-widgets/base",
     "model_module_version": "1.2.0",
     "model_name": "LayoutModel",
     "state": {
      "_model_module": "@jupyter-widgets/base",
      "_model_module_version": "1.2.0",
      "_model_name": "LayoutModel",
      "_view_count": null,
      "_view_module": "@jupyter-widgets/base",
      "_view_module_version": "1.2.0",
      "_view_name": "LayoutView",
      "align_content": null,
      "align_items": null,
      "align_self": null,
      "border": null,
      "bottom": null,
      "display": null,
      "flex": null,
      "flex_flow": null,
      "grid_area": null,
      "grid_auto_columns": null,
      "grid_auto_flow": null,
      "grid_auto_rows": null,
      "grid_column": null,
      "grid_gap": null,
      "grid_row": null,
      "grid_template_areas": null,
      "grid_template_columns": null,
      "grid_template_rows": null,
      "height": null,
      "justify_content": null,
      "justify_items": null,
      "left": null,
      "margin": null,
      "max_height": null,
      "max_width": null,
      "min_height": null,
      "min_width": null,
      "object_fit": null,
      "object_position": null,
      "order": null,
      "overflow": null,
      "overflow_x": null,
      "overflow_y": null,
      "padding": null,
      "right": null,
      "top": null,
      "visibility": null,
      "width": null
     }
    },
    "29c81e527e11467bbbe2e8ef706c1d73": {
     "model_module": "@jupyter-widgets/controls",
     "model_module_version": "1.5.0",
     "model_name": "HTMLModel",
     "state": {
      "_dom_classes": [],
      "_model_module": "@jupyter-widgets/controls",
      "_model_module_version": "1.5.0",
      "_model_name": "HTMLModel",
      "_view_count": null,
      "_view_module": "@jupyter-widgets/controls",
      "_view_module_version": "1.5.0",
      "_view_name": "HTMLView",
      "description": "",
      "description_tooltip": null,
      "layout": "IPY_MODEL_bb472c7ad9744e478ae7212d9b1636db",
      "placeholder": "​",
      "style": "IPY_MODEL_bdb5726673ff4257b63d984038ba9a37",
      "value": "Downloading pytorch_model.bin: 100%"
     }
    },
    "2f0edb7bab1d40c9bc1f405509f43f43": {
     "model_module": "@jupyter-widgets/base",
     "model_module_version": "1.2.0",
     "model_name": "LayoutModel",
     "state": {
      "_model_module": "@jupyter-widgets/base",
      "_model_module_version": "1.2.0",
      "_model_name": "LayoutModel",
      "_view_count": null,
      "_view_module": "@jupyter-widgets/base",
      "_view_module_version": "1.2.0",
      "_view_name": "LayoutView",
      "align_content": null,
      "align_items": null,
      "align_self": null,
      "border": null,
      "bottom": null,
      "display": null,
      "flex": null,
      "flex_flow": null,
      "grid_area": null,
      "grid_auto_columns": null,
      "grid_auto_flow": null,
      "grid_auto_rows": null,
      "grid_column": null,
      "grid_gap": null,
      "grid_row": null,
      "grid_template_areas": null,
      "grid_template_columns": null,
      "grid_template_rows": null,
      "height": null,
      "justify_content": null,
      "justify_items": null,
      "left": null,
      "margin": null,
      "max_height": null,
      "max_width": null,
      "min_height": null,
      "min_width": null,
      "object_fit": null,
      "object_position": null,
      "order": null,
      "overflow": null,
      "overflow_x": null,
      "overflow_y": null,
      "padding": null,
      "right": null,
      "top": null,
      "visibility": null,
      "width": null
     }
    },
    "313930e7138c4d95b95f5feaaa2f3528": {
     "model_module": "@jupyter-widgets/base",
     "model_module_version": "1.2.0",
     "model_name": "LayoutModel",
     "state": {
      "_model_module": "@jupyter-widgets/base",
      "_model_module_version": "1.2.0",
      "_model_name": "LayoutModel",
      "_view_count": null,
      "_view_module": "@jupyter-widgets/base",
      "_view_module_version": "1.2.0",
      "_view_name": "LayoutView",
      "align_content": null,
      "align_items": null,
      "align_self": null,
      "border": null,
      "bottom": null,
      "display": null,
      "flex": null,
      "flex_flow": null,
      "grid_area": null,
      "grid_auto_columns": null,
      "grid_auto_flow": null,
      "grid_auto_rows": null,
      "grid_column": null,
      "grid_gap": null,
      "grid_row": null,
      "grid_template_areas": null,
      "grid_template_columns": null,
      "grid_template_rows": null,
      "height": null,
      "justify_content": null,
      "justify_items": null,
      "left": null,
      "margin": null,
      "max_height": null,
      "max_width": null,
      "min_height": null,
      "min_width": null,
      "object_fit": null,
      "object_position": null,
      "order": null,
      "overflow": null,
      "overflow_x": null,
      "overflow_y": null,
      "padding": null,
      "right": null,
      "top": null,
      "visibility": null,
      "width": null
     }
    },
    "32aaffdd7c424bbab677245214337bf7": {
     "model_module": "@jupyter-widgets/controls",
     "model_module_version": "1.5.0",
     "model_name": "ProgressStyleModel",
     "state": {
      "_model_module": "@jupyter-widgets/controls",
      "_model_module_version": "1.5.0",
      "_model_name": "ProgressStyleModel",
      "_view_count": null,
      "_view_module": "@jupyter-widgets/base",
      "_view_module_version": "1.2.0",
      "_view_name": "StyleView",
      "bar_color": null,
      "description_width": ""
     }
    },
    "3fe02511439149e2a120a39fa38eaf9e": {
     "model_module": "@jupyter-widgets/controls",
     "model_module_version": "1.5.0",
     "model_name": "DescriptionStyleModel",
     "state": {
      "_model_module": "@jupyter-widgets/controls",
      "_model_module_version": "1.5.0",
      "_model_name": "DescriptionStyleModel",
      "_view_count": null,
      "_view_module": "@jupyter-widgets/base",
      "_view_module_version": "1.2.0",
      "_view_name": "StyleView",
      "description_width": ""
     }
    },
    "42d389bcdce24052b0202ea038c710c4": {
     "model_module": "@jupyter-widgets/controls",
     "model_module_version": "1.5.0",
     "model_name": "ProgressStyleModel",
     "state": {
      "_model_module": "@jupyter-widgets/controls",
      "_model_module_version": "1.5.0",
      "_model_name": "ProgressStyleModel",
      "_view_count": null,
      "_view_module": "@jupyter-widgets/base",
      "_view_module_version": "1.2.0",
      "_view_name": "StyleView",
      "bar_color": null,
      "description_width": ""
     }
    },
    "439557aa11274536b4061e5e0f9cb92c": {
     "model_module": "@jupyter-widgets/controls",
     "model_module_version": "1.5.0",
     "model_name": "HBoxModel",
     "state": {
      "_dom_classes": [],
      "_model_module": "@jupyter-widgets/controls",
      "_model_module_version": "1.5.0",
      "_model_name": "HBoxModel",
      "_view_count": null,
      "_view_module": "@jupyter-widgets/controls",
      "_view_module_version": "1.5.0",
      "_view_name": "HBoxView",
      "box_style": "",
      "children": [
       "IPY_MODEL_47bb424b63ce4a339e53e0467c43756b",
       "IPY_MODEL_d9c1d47048e440749fb089ee20a76814",
       "IPY_MODEL_87d22d4c2deb4988aa73fc045a170fa5"
      ],
      "layout": "IPY_MODEL_a4a53cd2ff574fbea68b6811af728df1"
     }
    },
    "47511ca119da43cf97d5f040e4abc88f": {
     "model_module": "@jupyter-widgets/controls",
     "model_module_version": "1.5.0",
     "model_name": "HBoxModel",
     "state": {
      "_dom_classes": [],
      "_model_module": "@jupyter-widgets/controls",
      "_model_module_version": "1.5.0",
      "_model_name": "HBoxModel",
      "_view_count": null,
      "_view_module": "@jupyter-widgets/controls",
      "_view_module_version": "1.5.0",
      "_view_name": "HBoxView",
      "box_style": "",
      "children": [
       "IPY_MODEL_7edabdef78d84cca851346a179e73121",
       "IPY_MODEL_7e0e83dbd15449f596ae758343a0b110",
       "IPY_MODEL_a61a6fded4d64afd959806e637bcf27f"
      ],
      "layout": "IPY_MODEL_148388028e204c3ebd70d3c4858f98d0"
     }
    },
    "47bb424b63ce4a339e53e0467c43756b": {
     "model_module": "@jupyter-widgets/controls",
     "model_module_version": "1.5.0",
     "model_name": "HTMLModel",
     "state": {
      "_dom_classes": [],
      "_model_module": "@jupyter-widgets/controls",
      "_model_module_version": "1.5.0",
      "_model_name": "HTMLModel",
      "_view_count": null,
      "_view_module": "@jupyter-widgets/controls",
      "_view_module_version": "1.5.0",
      "_view_name": "HTMLView",
      "description": "",
      "description_tooltip": null,
      "layout": "IPY_MODEL_d31cbc7efcac4320b88b50de13e04736",
      "placeholder": "​",
      "style": "IPY_MODEL_bf373a4f0a514651ad5f49ab20de06b1",
      "value": "Downloading (…)solve/main/vocab.txt: 100%"
     }
    },
    "4c595d7daa5d4e3d93f1a19c5e0db88f": {
     "model_module": "@jupyter-widgets/controls",
     "model_module_version": "1.5.0",
     "model_name": "HBoxModel",
     "state": {
      "_dom_classes": [],
      "_model_module": "@jupyter-widgets/controls",
      "_model_module_version": "1.5.0",
      "_model_name": "HBoxModel",
      "_view_count": null,
      "_view_module": "@jupyter-widgets/controls",
      "_view_module_version": "1.5.0",
      "_view_name": "HBoxView",
      "box_style": "",
      "children": [
       "IPY_MODEL_ae5d1279c269483eb3ea806addecf252",
       "IPY_MODEL_e6a747bbef104df0a11f38121bd5747a",
       "IPY_MODEL_f0ed7d49783340d38801db015ed0a428"
      ],
      "layout": "IPY_MODEL_2f0edb7bab1d40c9bc1f405509f43f43"
     }
    },
    "4d14d3639d9b48139f2c018219f6760e": {
     "model_module": "@jupyter-widgets/controls",
     "model_module_version": "1.5.0",
     "model_name": "DescriptionStyleModel",
     "state": {
      "_model_module": "@jupyter-widgets/controls",
      "_model_module_version": "1.5.0",
      "_model_name": "DescriptionStyleModel",
      "_view_count": null,
      "_view_module": "@jupyter-widgets/base",
      "_view_module_version": "1.2.0",
      "_view_name": "StyleView",
      "description_width": ""
     }
    },
    "4d9bc8307ed345aab012016f87a08079": {
     "model_module": "@jupyter-widgets/base",
     "model_module_version": "1.2.0",
     "model_name": "LayoutModel",
     "state": {
      "_model_module": "@jupyter-widgets/base",
      "_model_module_version": "1.2.0",
      "_model_name": "LayoutModel",
      "_view_count": null,
      "_view_module": "@jupyter-widgets/base",
      "_view_module_version": "1.2.0",
      "_view_name": "LayoutView",
      "align_content": null,
      "align_items": null,
      "align_self": null,
      "border": null,
      "bottom": null,
      "display": null,
      "flex": null,
      "flex_flow": null,
      "grid_area": null,
      "grid_auto_columns": null,
      "grid_auto_flow": null,
      "grid_auto_rows": null,
      "grid_column": null,
      "grid_gap": null,
      "grid_row": null,
      "grid_template_areas": null,
      "grid_template_columns": null,
      "grid_template_rows": null,
      "height": null,
      "justify_content": null,
      "justify_items": null,
      "left": null,
      "margin": null,
      "max_height": null,
      "max_width": null,
      "min_height": null,
      "min_width": null,
      "object_fit": null,
      "object_position": null,
      "order": null,
      "overflow": null,
      "overflow_x": null,
      "overflow_y": null,
      "padding": null,
      "right": null,
      "top": null,
      "visibility": null,
      "width": null
     }
    },
    "53d3f79cc4c24beca818dceff7b821a4": {
     "model_module": "@jupyter-widgets/base",
     "model_module_version": "1.2.0",
     "model_name": "LayoutModel",
     "state": {
      "_model_module": "@jupyter-widgets/base",
      "_model_module_version": "1.2.0",
      "_model_name": "LayoutModel",
      "_view_count": null,
      "_view_module": "@jupyter-widgets/base",
      "_view_module_version": "1.2.0",
      "_view_name": "LayoutView",
      "align_content": null,
      "align_items": null,
      "align_self": null,
      "border": null,
      "bottom": null,
      "display": null,
      "flex": null,
      "flex_flow": null,
      "grid_area": null,
      "grid_auto_columns": null,
      "grid_auto_flow": null,
      "grid_auto_rows": null,
      "grid_column": null,
      "grid_gap": null,
      "grid_row": null,
      "grid_template_areas": null,
      "grid_template_columns": null,
      "grid_template_rows": null,
      "height": null,
      "justify_content": null,
      "justify_items": null,
      "left": null,
      "margin": null,
      "max_height": null,
      "max_width": null,
      "min_height": null,
      "min_width": null,
      "object_fit": null,
      "object_position": null,
      "order": null,
      "overflow": null,
      "overflow_x": null,
      "overflow_y": null,
      "padding": null,
      "right": null,
      "top": null,
      "visibility": null,
      "width": null
     }
    },
    "549de1ebef7b454fb3f28314f0d232bc": {
     "model_module": "@jupyter-widgets/base",
     "model_module_version": "1.2.0",
     "model_name": "LayoutModel",
     "state": {
      "_model_module": "@jupyter-widgets/base",
      "_model_module_version": "1.2.0",
      "_model_name": "LayoutModel",
      "_view_count": null,
      "_view_module": "@jupyter-widgets/base",
      "_view_module_version": "1.2.0",
      "_view_name": "LayoutView",
      "align_content": null,
      "align_items": null,
      "align_self": null,
      "border": null,
      "bottom": null,
      "display": null,
      "flex": null,
      "flex_flow": null,
      "grid_area": null,
      "grid_auto_columns": null,
      "grid_auto_flow": null,
      "grid_auto_rows": null,
      "grid_column": null,
      "grid_gap": null,
      "grid_row": null,
      "grid_template_areas": null,
      "grid_template_columns": null,
      "grid_template_rows": null,
      "height": null,
      "justify_content": null,
      "justify_items": null,
      "left": null,
      "margin": null,
      "max_height": null,
      "max_width": null,
      "min_height": null,
      "min_width": null,
      "object_fit": null,
      "object_position": null,
      "order": null,
      "overflow": null,
      "overflow_x": null,
      "overflow_y": null,
      "padding": null,
      "right": null,
      "top": null,
      "visibility": null,
      "width": null
     }
    },
    "6261f57e52fa4658b8415f19f40ae0b7": {
     "model_module": "@jupyter-widgets/controls",
     "model_module_version": "1.5.0",
     "model_name": "DescriptionStyleModel",
     "state": {
      "_model_module": "@jupyter-widgets/controls",
      "_model_module_version": "1.5.0",
      "_model_name": "DescriptionStyleModel",
      "_view_count": null,
      "_view_module": "@jupyter-widgets/base",
      "_view_module_version": "1.2.0",
      "_view_name": "StyleView",
      "description_width": ""
     }
    },
    "64d43c4bf6004c2cab15a95d71876a1d": {
     "model_module": "@jupyter-widgets/controls",
     "model_module_version": "1.5.0",
     "model_name": "HTMLModel",
     "state": {
      "_dom_classes": [],
      "_model_module": "@jupyter-widgets/controls",
      "_model_module_version": "1.5.0",
      "_model_name": "HTMLModel",
      "_view_count": null,
      "_view_module": "@jupyter-widgets/controls",
      "_view_module_version": "1.5.0",
      "_view_name": "HTMLView",
      "description": "",
      "description_tooltip": null,
      "layout": "IPY_MODEL_298fae92682d457894b7ae89762e79cf",
      "placeholder": "​",
      "style": "IPY_MODEL_3fe02511439149e2a120a39fa38eaf9e",
      "value": " 714M/714M [00:04&lt;00:00, 119MB/s]"
     }
    },
    "651dd22f471d45e8a976876f126c99d7": {
     "model_module": "@jupyter-widgets/controls",
     "model_module_version": "1.5.0",
     "model_name": "HTMLModel",
     "state": {
      "_dom_classes": [],
      "_model_module": "@jupyter-widgets/controls",
      "_model_module_version": "1.5.0",
      "_model_name": "HTMLModel",
      "_view_count": null,
      "_view_module": "@jupyter-widgets/controls",
      "_view_module_version": "1.5.0",
      "_view_name": "HTMLView",
      "description": "",
      "description_tooltip": null,
      "layout": "IPY_MODEL_e96d98a06d8c4ba6b6e738962d754258",
      "placeholder": "​",
      "style": "IPY_MODEL_7fc581fc4f9e4fcbb991d1220b479ae0",
      "value": "Downloading (…)cial_tokens_map.json: 100%"
     }
    },
    "6cf8ae6dd57246d5b810a9dee88145be": {
     "model_module": "@jupyter-widgets/base",
     "model_module_version": "1.2.0",
     "model_name": "LayoutModel",
     "state": {
      "_model_module": "@jupyter-widgets/base",
      "_model_module_version": "1.2.0",
      "_model_name": "LayoutModel",
      "_view_count": null,
      "_view_module": "@jupyter-widgets/base",
      "_view_module_version": "1.2.0",
      "_view_name": "LayoutView",
      "align_content": null,
      "align_items": null,
      "align_self": null,
      "border": null,
      "bottom": null,
      "display": null,
      "flex": null,
      "flex_flow": null,
      "grid_area": null,
      "grid_auto_columns": null,
      "grid_auto_flow": null,
      "grid_auto_rows": null,
      "grid_column": null,
      "grid_gap": null,
      "grid_row": null,
      "grid_template_areas": null,
      "grid_template_columns": null,
      "grid_template_rows": null,
      "height": null,
      "justify_content": null,
      "justify_items": null,
      "left": null,
      "margin": null,
      "max_height": null,
      "max_width": null,
      "min_height": null,
      "min_width": null,
      "object_fit": null,
      "object_position": null,
      "order": null,
      "overflow": null,
      "overflow_x": null,
      "overflow_y": null,
      "padding": null,
      "right": null,
      "top": null,
      "visibility": null,
      "width": null
     }
    },
    "7502f72da93f42f1bcdd0f6f1237d314": {
     "model_module": "@jupyter-widgets/controls",
     "model_module_version": "1.5.0",
     "model_name": "DescriptionStyleModel",
     "state": {
      "_model_module": "@jupyter-widgets/controls",
      "_model_module_version": "1.5.0",
      "_model_name": "DescriptionStyleModel",
      "_view_count": null,
      "_view_module": "@jupyter-widgets/base",
      "_view_module_version": "1.2.0",
      "_view_name": "StyleView",
      "description_width": ""
     }
    },
    "79fadb214aa84b1694b94e11fecb703f": {
     "model_module": "@jupyter-widgets/controls",
     "model_module_version": "1.5.0",
     "model_name": "FloatProgressModel",
     "state": {
      "_dom_classes": [],
      "_model_module": "@jupyter-widgets/controls",
      "_model_module_version": "1.5.0",
      "_model_name": "FloatProgressModel",
      "_view_count": null,
      "_view_module": "@jupyter-widgets/controls",
      "_view_module_version": "1.5.0",
      "_view_name": "ProgressView",
      "bar_style": "success",
      "description": "",
      "description_tooltip": null,
      "layout": "IPY_MODEL_21c9022f4f264d1d9cb5800270a4926f",
      "max": 112,
      "min": 0,
      "orientation": "horizontal",
      "style": "IPY_MODEL_42d389bcdce24052b0202ea038c710c4",
      "value": 112
     }
    },
    "7cb02ea1ac7342f28fb14704e1dae755": {
     "model_module": "@jupyter-widgets/base",
     "model_module_version": "1.2.0",
     "model_name": "LayoutModel",
     "state": {
      "_model_module": "@jupyter-widgets/base",
      "_model_module_version": "1.2.0",
      "_model_name": "LayoutModel",
      "_view_count": null,
      "_view_module": "@jupyter-widgets/base",
      "_view_module_version": "1.2.0",
      "_view_name": "LayoutView",
      "align_content": null,
      "align_items": null,
      "align_self": null,
      "border": null,
      "bottom": null,
      "display": null,
      "flex": null,
      "flex_flow": null,
      "grid_area": null,
      "grid_auto_columns": null,
      "grid_auto_flow": null,
      "grid_auto_rows": null,
      "grid_column": null,
      "grid_gap": null,
      "grid_row": null,
      "grid_template_areas": null,
      "grid_template_columns": null,
      "grid_template_rows": null,
      "height": null,
      "justify_content": null,
      "justify_items": null,
      "left": null,
      "margin": null,
      "max_height": null,
      "max_width": null,
      "min_height": null,
      "min_width": null,
      "object_fit": null,
      "object_position": null,
      "order": null,
      "overflow": null,
      "overflow_x": null,
      "overflow_y": null,
      "padding": null,
      "right": null,
      "top": null,
      "visibility": null,
      "width": null
     }
    },
    "7e0e83dbd15449f596ae758343a0b110": {
     "model_module": "@jupyter-widgets/controls",
     "model_module_version": "1.5.0",
     "model_name": "FloatProgressModel",
     "state": {
      "_dom_classes": [],
      "_model_module": "@jupyter-widgets/controls",
      "_model_module_version": "1.5.0",
      "_model_name": "FloatProgressModel",
      "_view_count": null,
      "_view_module": "@jupyter-widgets/controls",
      "_view_module_version": "1.5.0",
      "_view_name": "ProgressView",
      "bar_style": "success",
      "description": "",
      "description_tooltip": null,
      "layout": "IPY_MODEL_e90faf1203d84541a63d7ea43c67a5a0",
      "max": 24,
      "min": 0,
      "orientation": "horizontal",
      "style": "IPY_MODEL_11445e36b2be46ecb4ce7c5de0e8c970",
      "value": 24
     }
    },
    "7edabdef78d84cca851346a179e73121": {
     "model_module": "@jupyter-widgets/controls",
     "model_module_version": "1.5.0",
     "model_name": "HTMLModel",
     "state": {
      "_dom_classes": [],
      "_model_module": "@jupyter-widgets/controls",
      "_model_module_version": "1.5.0",
      "_model_name": "HTMLModel",
      "_view_count": null,
      "_view_module": "@jupyter-widgets/controls",
      "_view_module_version": "1.5.0",
      "_view_name": "HTMLView",
      "description": "",
      "description_tooltip": null,
      "layout": "IPY_MODEL_aad36ce9c1604aa4b83eabf5a8e132ff",
      "placeholder": "​",
      "style": "IPY_MODEL_7502f72da93f42f1bcdd0f6f1237d314",
      "value": "Downloading (…)okenizer_config.json: 100%"
     }
    },
    "7fc581fc4f9e4fcbb991d1220b479ae0": {
     "model_module": "@jupyter-widgets/controls",
     "model_module_version": "1.5.0",
     "model_name": "DescriptionStyleModel",
     "state": {
      "_model_module": "@jupyter-widgets/controls",
      "_model_module_version": "1.5.0",
      "_model_name": "DescriptionStyleModel",
      "_view_count": null,
      "_view_module": "@jupyter-widgets/base",
      "_view_module_version": "1.2.0",
      "_view_name": "StyleView",
      "description_width": ""
     }
    },
    "87d22d4c2deb4988aa73fc045a170fa5": {
     "model_module": "@jupyter-widgets/controls",
     "model_module_version": "1.5.0",
     "model_name": "HTMLModel",
     "state": {
      "_dom_classes": [],
      "_model_module": "@jupyter-widgets/controls",
      "_model_module_version": "1.5.0",
      "_model_name": "HTMLModel",
      "_view_count": null,
      "_view_module": "@jupyter-widgets/controls",
      "_view_module_version": "1.5.0",
      "_view_name": "HTMLView",
      "description": "",
      "description_tooltip": null,
      "layout": "IPY_MODEL_7cb02ea1ac7342f28fb14704e1dae755",
      "placeholder": "​",
      "style": "IPY_MODEL_6261f57e52fa4658b8415f19f40ae0b7",
      "value": " 1.65M/1.65M [00:00&lt;00:00, 13.7MB/s]"
     }
    },
    "9b30de88d1814683aa085dce5079f389": {
     "model_module": "@jupyter-widgets/controls",
     "model_module_version": "1.5.0",
     "model_name": "HTMLModel",
     "state": {
      "_dom_classes": [],
      "_model_module": "@jupyter-widgets/controls",
      "_model_module_version": "1.5.0",
      "_model_name": "HTMLModel",
      "_view_count": null,
      "_view_module": "@jupyter-widgets/controls",
      "_view_module_version": "1.5.0",
      "_view_name": "HTMLView",
      "description": "",
      "description_tooltip": null,
      "layout": "IPY_MODEL_4d9bc8307ed345aab012016f87a08079",
      "placeholder": "​",
      "style": "IPY_MODEL_a74b18cef7fe4318883370f8f0e31f5e",
      "value": " 112/112 [00:00&lt;00:00, 6.17kB/s]"
     }
    },
    "9fb5040a6439439ba00510f506012d2a": {
     "model_module": "@jupyter-widgets/controls",
     "model_module_version": "1.5.0",
     "model_name": "HBoxModel",
     "state": {
      "_dom_classes": [],
      "_model_module": "@jupyter-widgets/controls",
      "_model_module_version": "1.5.0",
      "_model_name": "HBoxModel",
      "_view_count": null,
      "_view_module": "@jupyter-widgets/controls",
      "_view_module_version": "1.5.0",
      "_view_name": "HBoxView",
      "box_style": "",
      "children": [
       "IPY_MODEL_651dd22f471d45e8a976876f126c99d7",
       "IPY_MODEL_79fadb214aa84b1694b94e11fecb703f",
       "IPY_MODEL_9b30de88d1814683aa085dce5079f389"
      ],
      "layout": "IPY_MODEL_e03f0dd887dc4958b7c1ab3d8dd3aa2d"
     }
    },
    "a11acda58b1d4b7cbf889891306196fc": {
     "model_module": "@jupyter-widgets/controls",
     "model_module_version": "1.5.0",
     "model_name": "DescriptionStyleModel",
     "state": {
      "_model_module": "@jupyter-widgets/controls",
      "_model_module_version": "1.5.0",
      "_model_name": "DescriptionStyleModel",
      "_view_count": null,
      "_view_module": "@jupyter-widgets/base",
      "_view_module_version": "1.2.0",
      "_view_name": "StyleView",
      "description_width": ""
     }
    },
    "a4a53cd2ff574fbea68b6811af728df1": {
     "model_module": "@jupyter-widgets/base",
     "model_module_version": "1.2.0",
     "model_name": "LayoutModel",
     "state": {
      "_model_module": "@jupyter-widgets/base",
      "_model_module_version": "1.2.0",
      "_model_name": "LayoutModel",
      "_view_count": null,
      "_view_module": "@jupyter-widgets/base",
      "_view_module_version": "1.2.0",
      "_view_name": "LayoutView",
      "align_content": null,
      "align_items": null,
      "align_self": null,
      "border": null,
      "bottom": null,
      "display": null,
      "flex": null,
      "flex_flow": null,
      "grid_area": null,
      "grid_auto_columns": null,
      "grid_auto_flow": null,
      "grid_auto_rows": null,
      "grid_column": null,
      "grid_gap": null,
      "grid_row": null,
      "grid_template_areas": null,
      "grid_template_columns": null,
      "grid_template_rows": null,
      "height": null,
      "justify_content": null,
      "justify_items": null,
      "left": null,
      "margin": null,
      "max_height": null,
      "max_width": null,
      "min_height": null,
      "min_width": null,
      "object_fit": null,
      "object_position": null,
      "order": null,
      "overflow": null,
      "overflow_x": null,
      "overflow_y": null,
      "padding": null,
      "right": null,
      "top": null,
      "visibility": null,
      "width": null
     }
    },
    "a61a6fded4d64afd959806e637bcf27f": {
     "model_module": "@jupyter-widgets/controls",
     "model_module_version": "1.5.0",
     "model_name": "HTMLModel",
     "state": {
      "_dom_classes": [],
      "_model_module": "@jupyter-widgets/controls",
      "_model_module_version": "1.5.0",
      "_model_name": "HTMLModel",
      "_view_count": null,
      "_view_module": "@jupyter-widgets/controls",
      "_view_module_version": "1.5.0",
      "_view_name": "HTMLView",
      "description": "",
      "description_tooltip": null,
      "layout": "IPY_MODEL_6cf8ae6dd57246d5b810a9dee88145be",
      "placeholder": "​",
      "style": "IPY_MODEL_e1ccbe0f58974e0db36013567dae3a30",
      "value": " 24.0/24.0 [00:00&lt;00:00, 786B/s]"
     }
    },
    "a74b18cef7fe4318883370f8f0e31f5e": {
     "model_module": "@jupyter-widgets/controls",
     "model_module_version": "1.5.0",
     "model_name": "DescriptionStyleModel",
     "state": {
      "_model_module": "@jupyter-widgets/controls",
      "_model_module_version": "1.5.0",
      "_model_name": "DescriptionStyleModel",
      "_view_count": null,
      "_view_module": "@jupyter-widgets/base",
      "_view_module_version": "1.2.0",
      "_view_name": "StyleView",
      "description_width": ""
     }
    },
    "aad36ce9c1604aa4b83eabf5a8e132ff": {
     "model_module": "@jupyter-widgets/base",
     "model_module_version": "1.2.0",
     "model_name": "LayoutModel",
     "state": {
      "_model_module": "@jupyter-widgets/base",
      "_model_module_version": "1.2.0",
      "_model_name": "LayoutModel",
      "_view_count": null,
      "_view_module": "@jupyter-widgets/base",
      "_view_module_version": "1.2.0",
      "_view_name": "LayoutView",
      "align_content": null,
      "align_items": null,
      "align_self": null,
      "border": null,
      "bottom": null,
      "display": null,
      "flex": null,
      "flex_flow": null,
      "grid_area": null,
      "grid_auto_columns": null,
      "grid_auto_flow": null,
      "grid_auto_rows": null,
      "grid_column": null,
      "grid_gap": null,
      "grid_row": null,
      "grid_template_areas": null,
      "grid_template_columns": null,
      "grid_template_rows": null,
      "height": null,
      "justify_content": null,
      "justify_items": null,
      "left": null,
      "margin": null,
      "max_height": null,
      "max_width": null,
      "min_height": null,
      "min_width": null,
      "object_fit": null,
      "object_position": null,
      "order": null,
      "overflow": null,
      "overflow_x": null,
      "overflow_y": null,
      "padding": null,
      "right": null,
      "top": null,
      "visibility": null,
      "width": null
     }
    },
    "ae5d1279c269483eb3ea806addecf252": {
     "model_module": "@jupyter-widgets/controls",
     "model_module_version": "1.5.0",
     "model_name": "HTMLModel",
     "state": {
      "_dom_classes": [],
      "_model_module": "@jupyter-widgets/controls",
      "_model_module_version": "1.5.0",
      "_model_name": "HTMLModel",
      "_view_count": null,
      "_view_module": "@jupyter-widgets/controls",
      "_view_module_version": "1.5.0",
      "_view_name": "HTMLView",
      "description": "",
      "description_tooltip": null,
      "layout": "IPY_MODEL_53d3f79cc4c24beca818dceff7b821a4",
      "placeholder": "​",
      "style": "IPY_MODEL_4d14d3639d9b48139f2c018219f6760e",
      "value": "Downloading (…)lve/main/config.json: 100%"
     }
    },
    "bb472c7ad9744e478ae7212d9b1636db": {
     "model_module": "@jupyter-widgets/base",
     "model_module_version": "1.2.0",
     "model_name": "LayoutModel",
     "state": {
      "_model_module": "@jupyter-widgets/base",
      "_model_module_version": "1.2.0",
      "_model_name": "LayoutModel",
      "_view_count": null,
      "_view_module": "@jupyter-widgets/base",
      "_view_module_version": "1.2.0",
      "_view_name": "LayoutView",
      "align_content": null,
      "align_items": null,
      "align_self": null,
      "border": null,
      "bottom": null,
      "display": null,
      "flex": null,
      "flex_flow": null,
      "grid_area": null,
      "grid_auto_columns": null,
      "grid_auto_flow": null,
      "grid_auto_rows": null,
      "grid_column": null,
      "grid_gap": null,
      "grid_row": null,
      "grid_template_areas": null,
      "grid_template_columns": null,
      "grid_template_rows": null,
      "height": null,
      "justify_content": null,
      "justify_items": null,
      "left": null,
      "margin": null,
      "max_height": null,
      "max_width": null,
      "min_height": null,
      "min_width": null,
      "object_fit": null,
      "object_position": null,
      "order": null,
      "overflow": null,
      "overflow_x": null,
      "overflow_y": null,
      "padding": null,
      "right": null,
      "top": null,
      "visibility": null,
      "width": null
     }
    },
    "bdb5726673ff4257b63d984038ba9a37": {
     "model_module": "@jupyter-widgets/controls",
     "model_module_version": "1.5.0",
     "model_name": "DescriptionStyleModel",
     "state": {
      "_model_module": "@jupyter-widgets/controls",
      "_model_module_version": "1.5.0",
      "_model_name": "DescriptionStyleModel",
      "_view_count": null,
      "_view_module": "@jupyter-widgets/base",
      "_view_module_version": "1.2.0",
      "_view_name": "StyleView",
      "description_width": ""
     }
    },
    "bf373a4f0a514651ad5f49ab20de06b1": {
     "model_module": "@jupyter-widgets/controls",
     "model_module_version": "1.5.0",
     "model_name": "DescriptionStyleModel",
     "state": {
      "_model_module": "@jupyter-widgets/controls",
      "_model_module_version": "1.5.0",
      "_model_name": "DescriptionStyleModel",
      "_view_count": null,
      "_view_module": "@jupyter-widgets/base",
      "_view_module_version": "1.2.0",
      "_view_name": "StyleView",
      "description_width": ""
     }
    },
    "c052049258bd4a1da40f5db42cbd96f7": {
     "model_module": "@jupyter-widgets/controls",
     "model_module_version": "1.5.0",
     "model_name": "ProgressStyleModel",
     "state": {
      "_model_module": "@jupyter-widgets/controls",
      "_model_module_version": "1.5.0",
      "_model_name": "ProgressStyleModel",
      "_view_count": null,
      "_view_module": "@jupyter-widgets/base",
      "_view_module_version": "1.2.0",
      "_view_name": "StyleView",
      "bar_color": null,
      "description_width": ""
     }
    },
    "c901088259554e95b7b385e8cecb265c": {
     "model_module": "@jupyter-widgets/base",
     "model_module_version": "1.2.0",
     "model_name": "LayoutModel",
     "state": {
      "_model_module": "@jupyter-widgets/base",
      "_model_module_version": "1.2.0",
      "_model_name": "LayoutModel",
      "_view_count": null,
      "_view_module": "@jupyter-widgets/base",
      "_view_module_version": "1.2.0",
      "_view_name": "LayoutView",
      "align_content": null,
      "align_items": null,
      "align_self": null,
      "border": null,
      "bottom": null,
      "display": null,
      "flex": null,
      "flex_flow": null,
      "grid_area": null,
      "grid_auto_columns": null,
      "grid_auto_flow": null,
      "grid_auto_rows": null,
      "grid_column": null,
      "grid_gap": null,
      "grid_row": null,
      "grid_template_areas": null,
      "grid_template_columns": null,
      "grid_template_rows": null,
      "height": null,
      "justify_content": null,
      "justify_items": null,
      "left": null,
      "margin": null,
      "max_height": null,
      "max_width": null,
      "min_height": null,
      "min_width": null,
      "object_fit": null,
      "object_position": null,
      "order": null,
      "overflow": null,
      "overflow_x": null,
      "overflow_y": null,
      "padding": null,
      "right": null,
      "top": null,
      "visibility": null,
      "width": null
     }
    },
    "d31cbc7efcac4320b88b50de13e04736": {
     "model_module": "@jupyter-widgets/base",
     "model_module_version": "1.2.0",
     "model_name": "LayoutModel",
     "state": {
      "_model_module": "@jupyter-widgets/base",
      "_model_module_version": "1.2.0",
      "_model_name": "LayoutModel",
      "_view_count": null,
      "_view_module": "@jupyter-widgets/base",
      "_view_module_version": "1.2.0",
      "_view_name": "LayoutView",
      "align_content": null,
      "align_items": null,
      "align_self": null,
      "border": null,
      "bottom": null,
      "display": null,
      "flex": null,
      "flex_flow": null,
      "grid_area": null,
      "grid_auto_columns": null,
      "grid_auto_flow": null,
      "grid_auto_rows": null,
      "grid_column": null,
      "grid_gap": null,
      "grid_row": null,
      "grid_template_areas": null,
      "grid_template_columns": null,
      "grid_template_rows": null,
      "height": null,
      "justify_content": null,
      "justify_items": null,
      "left": null,
      "margin": null,
      "max_height": null,
      "max_width": null,
      "min_height": null,
      "min_width": null,
      "object_fit": null,
      "object_position": null,
      "order": null,
      "overflow": null,
      "overflow_x": null,
      "overflow_y": null,
      "padding": null,
      "right": null,
      "top": null,
      "visibility": null,
      "width": null
     }
    },
    "d9c1d47048e440749fb089ee20a76814": {
     "model_module": "@jupyter-widgets/controls",
     "model_module_version": "1.5.0",
     "model_name": "FloatProgressModel",
     "state": {
      "_dom_classes": [],
      "_model_module": "@jupyter-widgets/controls",
      "_model_module_version": "1.5.0",
      "_model_name": "FloatProgressModel",
      "_view_count": null,
      "_view_module": "@jupyter-widgets/controls",
      "_view_module_version": "1.5.0",
      "_view_name": "ProgressView",
      "bar_style": "success",
      "description": "",
      "description_tooltip": null,
      "layout": "IPY_MODEL_549de1ebef7b454fb3f28314f0d232bc",
      "max": 1649718,
      "min": 0,
      "orientation": "horizontal",
      "style": "IPY_MODEL_32aaffdd7c424bbab677245214337bf7",
      "value": 1649718
     }
    },
    "dea1cf098e1e41d68eb14ec4428915ab": {
     "model_module": "@jupyter-widgets/controls",
     "model_module_version": "1.5.0",
     "model_name": "ProgressStyleModel",
     "state": {
      "_model_module": "@jupyter-widgets/controls",
      "_model_module_version": "1.5.0",
      "_model_name": "ProgressStyleModel",
      "_view_count": null,
      "_view_module": "@jupyter-widgets/base",
      "_view_module_version": "1.2.0",
      "_view_name": "StyleView",
      "bar_color": null,
      "description_width": ""
     }
    },
    "e03f0dd887dc4958b7c1ab3d8dd3aa2d": {
     "model_module": "@jupyter-widgets/base",
     "model_module_version": "1.2.0",
     "model_name": "LayoutModel",
     "state": {
      "_model_module": "@jupyter-widgets/base",
      "_model_module_version": "1.2.0",
      "_model_name": "LayoutModel",
      "_view_count": null,
      "_view_module": "@jupyter-widgets/base",
      "_view_module_version": "1.2.0",
      "_view_name": "LayoutView",
      "align_content": null,
      "align_items": null,
      "align_self": null,
      "border": null,
      "bottom": null,
      "display": null,
      "flex": null,
      "flex_flow": null,
      "grid_area": null,
      "grid_auto_columns": null,
      "grid_auto_flow": null,
      "grid_auto_rows": null,
      "grid_column": null,
      "grid_gap": null,
      "grid_row": null,
      "grid_template_areas": null,
      "grid_template_columns": null,
      "grid_template_rows": null,
      "height": null,
      "justify_content": null,
      "justify_items": null,
      "left": null,
      "margin": null,
      "max_height": null,
      "max_width": null,
      "min_height": null,
      "min_width": null,
      "object_fit": null,
      "object_position": null,
      "order": null,
      "overflow": null,
      "overflow_x": null,
      "overflow_y": null,
      "padding": null,
      "right": null,
      "top": null,
      "visibility": null,
      "width": null
     }
    },
    "e1ccbe0f58974e0db36013567dae3a30": {
     "model_module": "@jupyter-widgets/controls",
     "model_module_version": "1.5.0",
     "model_name": "DescriptionStyleModel",
     "state": {
      "_model_module": "@jupyter-widgets/controls",
      "_model_module_version": "1.5.0",
      "_model_name": "DescriptionStyleModel",
      "_view_count": null,
      "_view_module": "@jupyter-widgets/base",
      "_view_module_version": "1.2.0",
      "_view_name": "StyleView",
      "description_width": ""
     }
    },
    "e6a747bbef104df0a11f38121bd5747a": {
     "model_module": "@jupyter-widgets/controls",
     "model_module_version": "1.5.0",
     "model_name": "FloatProgressModel",
     "state": {
      "_dom_classes": [],
      "_model_module": "@jupyter-widgets/controls",
      "_model_module_version": "1.5.0",
      "_model_name": "FloatProgressModel",
      "_view_count": null,
      "_view_module": "@jupyter-widgets/controls",
      "_view_module_version": "1.5.0",
      "_view_name": "ProgressView",
      "bar_style": "success",
      "description": "",
      "description_tooltip": null,
      "layout": "IPY_MODEL_0d33292418d948bf9bb1e36f495a349c",
      "max": 642,
      "min": 0,
      "orientation": "horizontal",
      "style": "IPY_MODEL_c052049258bd4a1da40f5db42cbd96f7",
      "value": 642
     }
    },
    "e90faf1203d84541a63d7ea43c67a5a0": {
     "model_module": "@jupyter-widgets/base",
     "model_module_version": "1.2.0",
     "model_name": "LayoutModel",
     "state": {
      "_model_module": "@jupyter-widgets/base",
      "_model_module_version": "1.2.0",
      "_model_name": "LayoutModel",
      "_view_count": null,
      "_view_module": "@jupyter-widgets/base",
      "_view_module_version": "1.2.0",
      "_view_name": "LayoutView",
      "align_content": null,
      "align_items": null,
      "align_self": null,
      "border": null,
      "bottom": null,
      "display": null,
      "flex": null,
      "flex_flow": null,
      "grid_area": null,
      "grid_auto_columns": null,
      "grid_auto_flow": null,
      "grid_auto_rows": null,
      "grid_column": null,
      "grid_gap": null,
      "grid_row": null,
      "grid_template_areas": null,
      "grid_template_columns": null,
      "grid_template_rows": null,
      "height": null,
      "justify_content": null,
      "justify_items": null,
      "left": null,
      "margin": null,
      "max_height": null,
      "max_width": null,
      "min_height": null,
      "min_width": null,
      "object_fit": null,
      "object_position": null,
      "order": null,
      "overflow": null,
      "overflow_x": null,
      "overflow_y": null,
      "padding": null,
      "right": null,
      "top": null,
      "visibility": null,
      "width": null
     }
    },
    "e96d98a06d8c4ba6b6e738962d754258": {
     "model_module": "@jupyter-widgets/base",
     "model_module_version": "1.2.0",
     "model_name": "LayoutModel",
     "state": {
      "_model_module": "@jupyter-widgets/base",
      "_model_module_version": "1.2.0",
      "_model_name": "LayoutModel",
      "_view_count": null,
      "_view_module": "@jupyter-widgets/base",
      "_view_module_version": "1.2.0",
      "_view_name": "LayoutView",
      "align_content": null,
      "align_items": null,
      "align_self": null,
      "border": null,
      "bottom": null,
      "display": null,
      "flex": null,
      "flex_flow": null,
      "grid_area": null,
      "grid_auto_columns": null,
      "grid_auto_flow": null,
      "grid_auto_rows": null,
      "grid_column": null,
      "grid_gap": null,
      "grid_row": null,
      "grid_template_areas": null,
      "grid_template_columns": null,
      "grid_template_rows": null,
      "height": null,
      "justify_content": null,
      "justify_items": null,
      "left": null,
      "margin": null,
      "max_height": null,
      "max_width": null,
      "min_height": null,
      "min_width": null,
      "object_fit": null,
      "object_position": null,
      "order": null,
      "overflow": null,
      "overflow_x": null,
      "overflow_y": null,
      "padding": null,
      "right": null,
      "top": null,
      "visibility": null,
      "width": null
     }
    },
    "f0ed7d49783340d38801db015ed0a428": {
     "model_module": "@jupyter-widgets/controls",
     "model_module_version": "1.5.0",
     "model_name": "HTMLModel",
     "state": {
      "_dom_classes": [],
      "_model_module": "@jupyter-widgets/controls",
      "_model_module_version": "1.5.0",
      "_model_name": "HTMLModel",
      "_view_count": null,
      "_view_module": "@jupyter-widgets/controls",
      "_view_module_version": "1.5.0",
      "_view_name": "HTMLView",
      "description": "",
      "description_tooltip": null,
      "layout": "IPY_MODEL_1ca075166bac438081c1321d4b8a8b6e",
      "placeholder": "​",
      "style": "IPY_MODEL_a11acda58b1d4b7cbf889891306196fc",
      "value": " 642/642 [00:00&lt;00:00, 39.8kB/s]"
     }
    },
    "fb0194a236c044e2b3bf66cec7616ab1": {
     "model_module": "@jupyter-widgets/controls",
     "model_module_version": "1.5.0",
     "model_name": "HBoxModel",
     "state": {
      "_dom_classes": [],
      "_model_module": "@jupyter-widgets/controls",
      "_model_module_version": "1.5.0",
      "_model_name": "HBoxModel",
      "_view_count": null,
      "_view_module": "@jupyter-widgets/controls",
      "_view_module_version": "1.5.0",
      "_view_name": "HBoxView",
      "box_style": "",
      "children": [
       "IPY_MODEL_29c81e527e11467bbbe2e8ef706c1d73",
       "IPY_MODEL_0e0d67a7fd7f40789aa5f5232c33d8f7",
       "IPY_MODEL_64d43c4bf6004c2cab15a95d71876a1d"
      ],
      "layout": "IPY_MODEL_313930e7138c4d95b95f5feaaa2f3528"
     }
    }
   }
  }
 },
 "nbformat": 4,
 "nbformat_minor": 5
}
