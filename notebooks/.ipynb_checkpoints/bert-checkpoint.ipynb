{
 "cells": [
  {
   "cell_type": "markdown",
   "id": "0ef26be0",
   "metadata": {},
   "source": [
    "# Классификация веб-страниц с помощью BERT"
   ]
  },
  {
   "cell_type": "markdown",
   "id": "fa397759",
   "metadata": {},
   "source": [
    "## Загрузка необходимых модулей"
   ]
  },
  {
   "cell_type": "code",
   "execution_count": 1,
   "id": "61e93a65",
   "metadata": {},
   "outputs": [
    {
     "name": "stdout",
     "output_type": "stream",
     "text": [
      "3.8.16\n"
     ]
    }
   ],
   "source": [
    "from platform import python_version\n",
    "\n",
    "print(python_version())"
   ]
  },
  {
   "cell_type": "code",
   "execution_count": 126,
   "id": "f92c291b",
   "metadata": {},
   "outputs": [],
   "source": [
    "import pandas as pd\n",
    "from tqdm import tqdm\n",
    "import nltk\n",
    "import os\n",
    "import random\n",
    "from keras_preprocessing.sequence import pad_sequences\n",
    "from nltk.tokenize import word_tokenize\n",
    "import matplotlib.pyplot as plt\n",
    "import collections\n",
    "import pymorphy3\n",
    "import numpy as np\n",
    "import re\n",
    "from sklearn.model_selection import train_test_split\n",
    "import torch\n",
    "from torch.utils.data import (TensorDataset,\n",
    "                              DataLoader,\n",
    "                              RandomSampler, SequentialSampler)\n",
    "\n",
    "from transformers import AutoConfig, AutoModelForSequenceClassification\n",
    "from transformers import AutoTokenizer\n",
    "from transformers import AdamW"
   ]
  },
  {
   "cell_type": "code",
   "execution_count": 3,
   "id": "9f72acfd",
   "metadata": {},
   "outputs": [],
   "source": [
    "file = open(\"../data/stop_words_russian.txt\", \"r\")\n",
    "stopWords = file.read().splitlines()"
   ]
  },
  {
   "cell_type": "code",
   "execution_count": 4,
   "id": "dcd04276",
   "metadata": {},
   "outputs": [],
   "source": [
    "morph = pymorphy3.MorphAnalyzer()"
   ]
  },
  {
   "cell_type": "code",
   "execution_count": 5,
   "id": "6eea2171",
   "metadata": {},
   "outputs": [],
   "source": [
    "tqdm.pandas()"
   ]
  },
  {
   "cell_type": "code",
   "execution_count": 242,
   "id": "df0c640a",
   "metadata": {},
   "outputs": [
    {
     "data": {
      "text/plain": [
       "device(type='cpu')"
      ]
     },
     "execution_count": 242,
     "metadata": {},
     "output_type": "execute_result"
    }
   ],
   "source": [
    "device = torch.device('cuda' if torch.cuda.is_available() else 'cpu')\n",
    "\n",
    "device"
   ]
  },
  {
   "cell_type": "code",
   "execution_count": 6,
   "id": "52703d19",
   "metadata": {},
   "outputs": [],
   "source": [
    "def setSeed(seed):\n",
    "    random.seed(seed)\n",
    "    np.random.seed(seed)\n",
    "    os.environ[\"PYTHONHASHSEED\"] = str(seed)\n",
    "    torch.manual_seed(seed)\n",
    "    torch.cuda.manual_seed(seed)\n",
    "    torch.cuda.manual_seed_all(seed)\n",
    "    torch.backends.cudnn.deterministic = True\n",
    "    torch.backends.cudnn.benchmark = False\n",
    "setSeed(42)"
   ]
  },
  {
   "cell_type": "markdown",
   "id": "e5ef2700",
   "metadata": {},
   "source": [
    "## Загрузка датасета"
   ]
  },
  {
   "cell_type": "code",
   "execution_count": 7,
   "id": "3794b8b1",
   "metadata": {},
   "outputs": [
    {
     "data": {
      "text/plain": [
       "(7980, 2)"
      ]
     },
     "execution_count": 7,
     "metadata": {},
     "output_type": "execute_result"
    }
   ],
   "source": [
    "df = pd.read_csv('../datasets/foss/dataset_max_25.csv', index_col=0)\n",
    "df.shape"
   ]
  },
  {
   "cell_type": "code",
   "execution_count": 8,
   "id": "cc5ecb7b",
   "metadata": {},
   "outputs": [
    {
     "data": {
      "text/html": [
       "<div>\n",
       "<style scoped>\n",
       "    .dataframe tbody tr th:only-of-type {\n",
       "        vertical-align: middle;\n",
       "    }\n",
       "\n",
       "    .dataframe tbody tr th {\n",
       "        vertical-align: top;\n",
       "    }\n",
       "\n",
       "    .dataframe thead th {\n",
       "        text-align: right;\n",
       "    }\n",
       "</style>\n",
       "<table border=\"1\" class=\"dataframe\">\n",
       "  <thead>\n",
       "    <tr style=\"text-align: right;\">\n",
       "      <th></th>\n",
       "      <th>document</th>\n",
       "      <th>category</th>\n",
       "    </tr>\n",
       "  </thead>\n",
       "  <tbody>\n",
       "    <tr>\n",
       "      <th>2799</th>\n",
       "      <td>Компания Elasticsearch B.V. анонсировала измен...</td>\n",
       "      <td>LAW</td>\n",
       "    </tr>\n",
       "    <tr>\n",
       "      <th>2473</th>\n",
       "      <td>Кто бы мог подумать, но кажется, пиратство в с...</td>\n",
       "      <td>MISC</td>\n",
       "    </tr>\n",
       "    <tr>\n",
       "      <th>7140</th>\n",
       "      <td>Кратко: Ferdi — многообещающее приложение с от...</td>\n",
       "      <td>WEB</td>\n",
       "    </tr>\n",
       "  </tbody>\n",
       "</table>\n",
       "</div>"
      ],
      "text/plain": [
       "                                               document category\n",
       "2799  Компания Elasticsearch B.V. анонсировала измен...      LAW\n",
       "2473  Кто бы мог подумать, но кажется, пиратство в с...     MISC\n",
       "7140  Кратко: Ferdi — многообещающее приложение с от...      WEB"
      ]
     },
     "execution_count": 8,
     "metadata": {},
     "output_type": "execute_result"
    }
   ],
   "source": [
    "df.sample(3)"
   ]
  },
  {
   "cell_type": "code",
   "execution_count": 9,
   "id": "d1fdad23",
   "metadata": {
    "scrolled": true
   },
   "outputs": [
    {
     "data": {
      "image/png": "[encoded data removed]",
      "text/plain": [
       "<Figure size 640x480 with 1 Axes>"
      ]
     },
     "metadata": {},
     "output_type": "display_data"
    }
   ],
   "source": [
    "fig, ax = plt.subplots()\n",
    "fig.suptitle('Частота меток', fontsize=12)\n",
    "df['category'].reset_index().groupby('category').count().sort_values(by= \n",
    "       'index').plot(kind='barh', legend=False, \n",
    "        ax=ax).grid(axis='x')\n",
    "plt.show()"
   ]
  },
  {
   "cell_type": "code",
   "execution_count": 12,
   "id": "04aa9102",
   "metadata": {},
   "outputs": [],
   "source": [
    "# преобразование нечисловых меток в числовые метки, а также их реверс, который понадобится после обучения\n",
    "categoryIndex = {i[1]:i[0] for i in enumerate(df.category.unique())}\n",
    "reverseCategoryIndex = {i[0]:i[1] for i in enumerate(df.category.unique())}"
   ]
  },
  {
   "cell_type": "code",
   "execution_count": 13,
   "id": "dc696f9c",
   "metadata": {
    "scrolled": true
   },
   "outputs": [
    {
     "data": {
      "text/plain": [
       "{'WEB': 0,\n",
       " 'SECURITY': 1,\n",
       " 'INTROS': 2,\n",
       " 'DATA_SCIENCE': 3,\n",
       " 'ORG': 4,\n",
       " 'KnD': 5,\n",
       " 'OPENING': 6,\n",
       " 'DEVOPS': 7,\n",
       " 'GAMES': 8,\n",
       " 'SPECIAL': 9,\n",
       " 'USER': 10,\n",
       " 'EVENTS': 11,\n",
       " 'DEV': 12,\n",
       " 'MOBILE': 13,\n",
       " 'SYSADM': 14,\n",
       " 'MULTIMEDIA': 15,\n",
       " 'DATABASES': 16,\n",
       " 'MESSENGERS': 17,\n",
       " 'DIY': 18,\n",
       " 'MANAGEMENT': 19,\n",
       " 'HARDWARE': 20,\n",
       " 'MISC': 21,\n",
       " 'LAW': 22,\n",
       " 'EDUCATION': 23,\n",
       " 'HISTORY': 24}"
      ]
     },
     "execution_count": 13,
     "metadata": {},
     "output_type": "execute_result"
    }
   ],
   "source": [
    "categoryIndex"
   ]
  },
  {
   "cell_type": "code",
   "execution_count": 14,
   "id": "84956a06",
   "metadata": {},
   "outputs": [],
   "source": [
    "labels = [categoryIndex[i] for i in df.category.values]"
   ]
  },
  {
   "cell_type": "code",
   "execution_count": 15,
   "id": "00ec5016",
   "metadata": {},
   "outputs": [
    {
     "data": {
      "text/plain": [
       "'Самый популярный\\nMicrosoft представила файловую систему новой технологии (NTFS), проприетарную файловую систему журналирования, в Windows NT 3.1 в 1993 году. С тех пор она заменила файловую систему таблицы размещения файлов (FAT) 1977 года во всех версиях Windows. В отличие от FAT, которую Microsoft в конечном итоге откроет для других пользователей, NTFS осталась частной. Это затруднило, но не сделало невозможным использование в Linux.\\nНедавно Paragon Software объявила, что перенесет некоторые из своих драйверов NTFS на ядро \\u200b\\u200bLinux.\\nЭто было здорово... за исключением того, что код NTFS3 не подходил для добавления в ядро.\\nВ 27 000 строк кода это было слишком много. Как написал разработчик ядра Linux Николай Борисов: «Итак, как именно вы ожидаете, что кто-то проверит это чудовище?» Были и другие проблемы с кодом.\\nТем не менее, существует реальная потребность в этом коде. Благодаря поддержке NTFS пользователи Linux могут подключать внешние диски NTFS или загружать ПК с Windows в Linux для устранения неполадок.\\nПравда есть линуксовые NTFS драйвера, но у них есть принципиальные проблемы. NTFS-3G, работающая с файловой системой в пользовательском пространстве (FUSE), печально известна своей медленностью. Старый драйвер Captive NTFS более полнофункционален, но больше не поддерживается.\\nНо Paragon медленно решает эти проблемы. После более чем двух десятков исправлений код, кажется, почти готов к использованию в прайм-тайм. Но, как заметил Линус Торвальдс, было бы лучше, если бы Paragon, как вы знаете, «действительно представил его». И «Paragon должен просто сделать для этого git pull request».\\nДругими словами, текущие проблемы не столько технические, поскольку Paragon все еще пытается понять, как работают разработчики ядра Linux. Тем не менее, Paragon наконец подтвердил, что «будет поддерживать эту реализацию», но что «нам понадобится несколько дней, чтобы подготовить правильный запрос на включение, прежде чем отправить его вам».\\nТорвальдс приветствовал эту новость, хотя и предупредил: «Еще одна вещь, которую я действительно хочу, когда добавляются большие новые части, подобные этой, — это попросить вас убедиться, что все подписано должным образом и что нет внутренней путаницы в отношении GPLv2 внутри Paragon, и что все юридические лица и т. д. знают обо всем этом и находятся на борту. Последнее, что мы хотим видеть, это какие-то «упс, мы не хотели этого делать» шесть месяцев спустя».\\n Торвальдс не думает, что это произойдет, но команда ядра Linux и раньше была неприятно удивлена.\\nПосле реализации Paragon обещает полнофункциональный драйвер чтения-записи NTFS, который будет работать со всеми версиями NTFS, а также с обычными, сжатыми и разреженными файлами, а также поддерживает воспроизведение журнала.\\nЕсли все пойдет хорошо, это означает, что к концу года пользователи Linux наконец получат возможность быстро читать, записывать и удалять файлы в системах Windows NTFS с ядром Linux версии 5.15. Это сделает многих системных администраторов и техников намного счастливее.'"
      ]
     },
     "execution_count": 15,
     "metadata": {},
     "output_type": "execute_result"
    }
   ],
   "source": [
    "df['document'][6]"
   ]
  },
  {
   "cell_type": "markdown",
   "id": "6ae89e68",
   "metadata": {},
   "source": [
    "## Предварительная обработка данных"
   ]
  },
  {
   "cell_type": "code",
   "execution_count": 16,
   "id": "c675507a",
   "metadata": {},
   "outputs": [],
   "source": [
    "def normalizeText(text):\n",
    "    # приведение к нижнему регистру \n",
    "    lowerResult = text.lower()\n",
    "    # удаление url-адресов\n",
    "    nonLinksResult = re.sub(r\"\\S*https?:\\S*\", \"\", text)\n",
    "    # удаление emails\n",
    "    nonEmailsResult = re.sub(r\"\\S*@\\S*\\s?\", \"\", nonLinksResult)\n",
    "    # удаление цифр\n",
    "    nonNumericResult = ''.join([i for i in nonEmailsResult if not i.isdigit()])\n",
    "    # удаление пунктуации и специальных символов\n",
    "    nonPuncResult = ''.join(filter(lambda mark: mark.isalnum() or mark.isspace(), nonNumericResult)).strip()\n",
    "    # удаление лишних пробелов\n",
    "    nonSpaceResult = re.sub(r\" +\", \" \", nonPuncResult)\n",
    "    # удаление лишних абзацев\n",
    "    paragraphList = nonSpaceResult.split('\\n')\n",
    "    text = '\\n'.join([p for p in paragraphList if not p.count(' ') < 10])\n",
    "    # удаление стоп-слов и длинных слов\n",
    "    textTokens = word_tokenize(text)\n",
    "    withoutStopWordTokens = [word for word in textTokens if not word in stopWords]\n",
    "    withoutLongTokens = [word for word in withoutStopWordTokens if len(word) <= 18]\n",
    "    withoutShortTokens = [word for word in withoutLongTokens if len(word) >= 2]\n",
    "    # лемматизация слов\n",
    "    lemmatizeResult = [morph.parse(word)[0].normal_form for word in withoutShortTokens]\n",
    "    filteredText = (\" \").join(lemmatizeResult)\n",
    "    \n",
    "    return filteredText  "
   ]
  },
  {
   "cell_type": "code",
   "execution_count": 17,
   "id": "0daf892a",
   "metadata": {},
   "outputs": [
    {
     "name": "stderr",
     "output_type": "stream",
     "text": [
      "100%|███████████████████████████████████████| 7980/7980 [19:21<00:00,  6.87it/s]\n"
     ]
    }
   ],
   "source": [
    "texts = df['document'].progress_apply(normalizeText)"
   ]
  },
  {
   "cell_type": "code",
   "execution_count": 18,
   "id": "3b879bf1",
   "metadata": {},
   "outputs": [
    {
     "data": {
      "text/plain": [
       "('microsoft представить файловый система новый технология ntfs проприетарный файловый система журналирование windows nt заменить файловый система таблица размещение файл fat версия windows отличие fat который microsoft конечный итог открыть пользователь ntfs остаться частный это затруднить сделать невозможный использование linux недавно paragon software объявить перенести некоторый драйвер ntfs ядро linux это здорово исключение код ntfs подходить добавление ядро строка код как написать разработчик ядро linux николай борис итак ожидать ктоть проверить чудовище быть проблема код тем существовать реальный потребность код благодаря поддержка ntfs пользователь linux подключать внешний диск ntfs загружать пк windows linux устранение неполадка правда линуксовый ntfs драйвер принципиальный проблема ntfsg работать файловый система пользовательский пространство fuse печально известный медленность старый драйвер captive ntfs полнофункциональный поддерживаться но paragon медленно решать проблема после десяток исправление код готовый использование праймтайм но заметить линус торвальдс paragon знать представить paragon должный сделать git pull request другой слово текущий проблема столько технический поскольку paragon пытаться понять работать разработчик ядро linux тем paragon подтвердить поддерживать реализация понадобиться день подготовить правильный запрос включение прежде отправить торвальдс приветствовать новость предупредить ещё один вещь который хотеть добавляться больший новый часть подобный попросить убедиться подписать должный образ нет внутренний путаница отношение gplv внутри paragon юридический лицо знать о находиться борт последний хотеть видеть какиеть упс хотеть делать месяц спустя торвальдс думать произойти команда ядро linux неприятно удивить после реализация paragon обещать драйвер чтениязапись ntfs работать версия ntfs обычный сжатый разредить файл поддерживать воспроизведение журнал если пойти означать конец пользователь linux получить возможность быстро читать записывать удалять файл система windows ntfs ядро linux версия это сделать многий системный администратор техник намного счастливый',\n",
       " 5)"
      ]
     },
     "execution_count": 18,
     "metadata": {},
     "output_type": "execute_result"
    }
   ],
   "source": [
    "texts[6], labels[6]"
   ]
  },
  {
   "cell_type": "code",
   "execution_count": 19,
   "id": "e9909688",
   "metadata": {},
   "outputs": [],
   "source": [
    "assert len(texts) == len(labels) == df.shape[0]"
   ]
  },
  {
   "cell_type": "code",
   "execution_count": 26,
   "id": "6a82ba75",
   "metadata": {},
   "outputs": [
    {
     "name": "stdout",
     "output_type": "stream",
     "text": [
      " Maximum source length  86764\n",
      " Minimum source length  1\n",
      " Average source length  761.3919799498747\n"
     ]
    }
   ],
   "source": [
    "lengthsList = list()\n",
    "for source in texts:\n",
    "    lengthsList.append(len(source.split(' ')))\n",
    "maxSeqLength = max(lengthsList)\n",
    "minSeqLength = min(lengthsList)\n",
    "avgSeqLength = np.average(lengthsList)\n",
    "print(\" Maximum source length \", maxSeqLength)\n",
    "print(\" Minimum source length \", minSeqLength)\n",
    "print(\" Average source length \", avgSeqLength)"
   ]
  },
  {
   "cell_type": "code",
   "execution_count": 29,
   "id": "a49f4a72",
   "metadata": {},
   "outputs": [
    {
     "data": {
      "text/plain": [
       "4"
      ]
     },
     "execution_count": 29,
     "metadata": {},
     "output_type": "execute_result"
    }
   ],
   "source": [
    "texts.pop(4067)\n",
    "texts.pop(733)\n",
    "labels.pop(4067)\n",
    "labels.pop(733)"
   ]
  },
  {
   "cell_type": "markdown",
   "id": "8b54f4fe",
   "metadata": {},
   "source": [
    "## Токенизация"
   ]
  },
  {
   "cell_type": "code",
   "execution_count": 30,
   "id": "03c26605",
   "metadata": {},
   "outputs": [],
   "source": [
    "texts = ['[CLS] ' + text + ' [SEP]' for text in texts]"
   ]
  },
  {
   "cell_type": "code",
   "execution_count": 31,
   "id": "ecba872d",
   "metadata": {},
   "outputs": [
    {
     "data": {
      "text/plain": [
       "(7180, 798)"
      ]
     },
     "execution_count": 31,
     "metadata": {},
     "output_type": "execute_result"
    }
   ],
   "source": [
    "trainTexts, testTexts, trainCategory, testCategory = train_test_split(texts, labels, random_state = 42, train_size = 0.9, stratify = labels)\n",
    "\n",
    "len(trainTexts), len(testTexts)"
   ]
  },
  {
   "cell_type": "code",
   "execution_count": 32,
   "id": "4fa73058",
   "metadata": {},
   "outputs": [],
   "source": [
    "y = dict(collections.Counter(testCategory))\n",
    "index = y.keys()\n",
    "values = y.values()"
   ]
  },
  {
   "cell_type": "code",
   "execution_count": 33,
   "id": "5d55f08e",
   "metadata": {
    "scrolled": true
   },
   "outputs": [
    {
     "data": {
      "image/png": "[encoded data removed]",
      "text/plain": [
       "<Figure size 640x480 with 1 Axes>"
      ]
     },
     "metadata": {},
     "output_type": "display_data"
    }
   ],
   "source": [
    "plt.pie(values, labels = index)\n",
    "plt.title('количество текстов в тестовой выборке')\n",
    "plt.show() "
   ]
  },
  {
   "cell_type": "code",
   "execution_count": 34,
   "id": "aa25d4a2",
   "metadata": {},
   "outputs": [
    {
     "name": "stderr",
     "output_type": "stream",
     "text": [
      "Using cache found in /Users/a.v.protasov/.cache/torch/hub/huggingface_pytorch-transformers_main\n",
      "2023-02-10 19:18:40.070386: I tensorflow/core/platform/cpu_feature_guard.cc:193] This TensorFlow binary is optimized with oneAPI Deep Neural Network Library (oneDNN) to use the following CPU instructions in performance-critical operations:  AVX2 FMA\n",
      "To enable them in other operations, rebuild TensorFlow with the appropriate compiler flags.\n"
     ]
    }
   ],
   "source": [
    "tokenizer = torch.hub.load('huggingface/pytorch-transformers', 'tokenizer', 'DeepPavlov/rubert-base-cased')"
   ]
  },
  {
   "cell_type": "code",
   "execution_count": 35,
   "id": "be376762",
   "metadata": {
    "scrolled": false
   },
   "outputs": [
    {
     "name": "stderr",
     "output_type": "stream",
     "text": [
      "100%|██████████████████████████████████████| 7180/7180 [00:30<00:00, 234.22it/s]\n"
     ]
    }
   ],
   "source": [
    "tokenizedTexts = [tokenizer.tokenize(text) for text in tqdm(trainTexts)]"
   ]
  },
  {
   "cell_type": "code",
   "execution_count": 36,
   "id": "06e62ed0",
   "metadata": {
    "scrolled": true
   },
   "outputs": [
    {
     "name": "stdout",
     "output_type": "stream",
     "text": [
      "['[CLS]', 'серия', 'стать', 'корреспондент', 'open', '##so', '##ur', '##ce', '##com', 'писать', 'один', 'игра', 'угад', '##ать', 'число', 'разный', 'язык', 'программирование', 'упражн', '##ение', 'показать', 'основной', 'понятие', 'встречаться', 'большинство', 'язык', 'программирование', 'переменный', 'выражение', 'оператор', 'применяться', 'изучение', 'новый', 'язык', 'большинство', 'язык', 'способ', 'ведение', 'поддерживать', 'дизайн', 'способ', 'сильно', 'отличаться', 'программа', 'этот', 'способ', 'включать', 'модуль', '##ность', 'объединение', 'связанный', 'функция', 'вместе', 'деклара', '##тив', '##ность', 'императив', '##ность', 'объект', '##ный', 'ориентация', 'низко', '##уровнев', '##ый', 'высоко', '##уровнев', '##ый', 'синтакс', '##ический', 'функция', 'программа', 'угад', '##ать', 'число', 'компьютер', 'выбирать', 'число', 'просить', 'угад', '##ать', 'число', 'программа', 'повторять', '##ся', 'угад', '##ать', 'правильный', 'ответ', 'статья', 'показать', 'написать', 'приложение', 'ал', '##гол', 'попытаться', 'применить', 'следующий', 'концепция', 'найти', 'любой', 'язык', 'программирование', 'пример', 'использоваться', 'компилятор', 'al', '##go', '##l', 'gen', '##ie', 'доступный', 'мног', '##ий', 'дистрибутив', 'li', '##nu', '##x', 'создать', 'марс', '##ель', 'ван', 'дер', 'вир', 'хорошо', 'слышать', 'некоторый', 'сто', '##нать', 'нет', 'ал', '##гол', 'этот', 'язык', 'старый', 'неа', '##кту', '##альный', 'реализация', 'уважать', 'мнение', 'правда', 'действительно', 'но', 'считать', 'современный', 'язык', 'программирование', 'существовать', 'интересный', 'вещь', 'появиться', 'благодаря', 'усерд', '##ный', 'размыш', '##ление', 'разработчик', 'ал', '##гол', 'оправд', '##ывать', 'некоторый', 'изучение', 'язык', 'ал', '##гол', 'стат', '##ически', 'тип', '##изировать', 'много', '##слов', '##ный', 'al', '##go', '##l', 'gen', '##ie', 'комп', '##или', '##ровать', '##ся', 'выполняться', 'поэтому', 'al', '##go', '##l', 'напоминать', 'язык', 'сценарий', 'реализация', 'gen', '##ie', 'предлагать', 'множество', 'полезный', 'зацеп', '##ка', 'наш', 'любимый', 'операционный', 'система', 'позволят', '##ь', 'чувствовать', 'ужасно', 'устарев', '##ший', 'означать', 'выполнить', 'немало', 'полезный', 'работа', 'пре', '##амбу', '##ла', 'реализация', 'угад', '##ать', 'число', 'номер', 'строка', 'лёгкий', 'просмотреть', 'некоторый', 'конкретный', 'функция', 'сразу', 'дело', 'строка', 'определять', 'происходить', 'вход', 'поступать', 'консоль', 'обнаруживать', '##ся', 'конец', 'файл', 'этот', 'ситуация', 'управляться', 'вызов', 'процедура', 'конец', 'логически', '##й', 'файл', 'передача', 'аргумент', 'файл', 'отслеживать', 'процедура', 'вызывать', '##ся', 'обнаружение', 'конец', 'файл', 'файл', 'хот', '##еть', 'отслеживать', 'являться', 'стандартный', 'ввод', 'оставаться', 'место', 'строка', 'определение', 'процедура', 'выражение', 'который', 'давать', 'процедура', 'он', 'иметь', 'параметр', 'являться', 'указатель', 'файл', 'имя', 'записываться', 'ref', 'fil', '##e', 'он', 'возвращать', 'логически', '##й', 'значение', 'обозначить', 'bo', '##ol', 'вероятно', 'стоить', 'упомянуть', 'ал', '##гол', 'делать', 'сильный', 'различие', 'значение', 'ссылка', 'значение', 'значение', 'al', '##go', '##l', 'концепту', '##ально', 'похоже', 'постоянный', 'неизмен', '##яемый', 'конечный', 'значение', 'использовать', 'мног', '##ий', 'популярный', 'язык', 'программирование', 'значение', 'изменить', 'ссылка', 'значение', 'сторона', 'существо', 'определять', 'место', 'значение', 'сохранить', 'содержимое', 'место', 'изменить', 'это', 'соответствовать', 'переменный', 'измен', '##яемый', 'некон', '##ечный', 'значение', 'определять', 'целочис', '##ленный', 'значение', 'имя', 'сорок', 'который', 'оценивать', '##ся', 'число', 'определять', 'интеграл', '##ь', '##ный', 'переменный', 'fin', '##k', 'использовать', 'присвоение', 'значение', 'это', 'выражение', 'дело', 'являться', 'сокращение', 'это', 'делать', 'соответствие', 'значение', 'int', 'fort', '##y', 'two', 'переменный', 'ref', 'int', 'fin', '##k', 'ясны', '##й', 'счёт', 'некоторый', 'много', '##слов', '##ие', 'lo', '##c', 'int', 'локальный', 'генератор', 'стек', 'выделяться', 'место', 'целочис', '##ленный', 'значение', 'существовать', 'генератор', 'куч', '##а', 'полезный', 'построение', 'структура', 'сохраняться', 'вызов', 'процедура', 'строка', 'иници', '##ализировать', 'системный', 'генератор', 'случайный', 'число', 'вызывать', 'процедура', 'настрой', '##ка', 'first', 'ra', '##nd', '##om', 'целочис', '##ленный', 'начальный', 'аргумент', 'должны', '##й', 'равный', 'верно', 'вызывать', 'процедура', 'ne', '##xt', 'ra', '##nd', '##om', 'принимать', 'аргумент', 'следовательно', 'требовать', 'круглый', 'скоб', '##ка', 'который', 'нет', 'умнож', '##ать', 'значение', 'получить', 'результат', 'ус', '##ека', '##ть', 'результат', 'создать', 'помощь', 'ун', '##арный', 'оператор', 'ent', '##ier', 'получить', 'результат', 'добавлять', 'получить', 'результат', 'здесь', 'стоить', 'упомянуть', 'ал', '##гол', 'повид', '##имый', 'являться', 'первый', 'язык', 'поддерживать', 'определение', 'ун', '##арный', 'бин', '##арный', 'оператор', 'отличаться', 'процедура', 'вы', 'должны', '##й', 'поставить', 'круглый', 'скоб', '##ка', 'выражение', 'против', '##ный', 'случай', 'ent', '##ier', 'привяз', '##ываться', 'следующий', 'случайный', 'давать', 'число', 'к', 'выражение', 'строка', 'находиться', 'вызов', 'процедура', 'печать', 'использоваться', 'отлад', '##ка', 'обратить', 'внимание', 'вложить', 'скоб', '##ка', 'pri', '##nt', 'принимать', 'аргумент', 'являться', 'либо', 'печатать', 'значение', 'выражение', 'либо', 'список', 'печатать', 'значение', 'выражение', 'когда', 'список', 'использовать', 'обозначение', 'который', 'открываться', 'закрывать', '##ся', 'круглый', 'скоб', '##ка', 'строка', 'использоваться', 'pri', '##nt', 'предложить', 'строка', 'угад', '##ать', 'число', 'строка', 'представлять', 'цикл', 'wh', '##ile', 'do', 'od', 'вот', 'интересный', 'момент', 'воп', '##ерв', '##ое', 'работа', 'выполняться', 'часть', 'логически', '##й', 'выражение', 'оценивать', 'wh', '##ile', 'поэтому', 'тело', 'цикл', 'содержать', 'зарезерв', '##ированный', 'слово', 'sk', '##ip', 'означать', 'делать', 'строка', 'представлять', 'последовательность', 'оператор', 'определение', 'предположение', 'целочис', '##ленный', 'значение', 'который', 'получать', '##ся', 'путём', 'вызов', 'процедура', 'чтение', 'int', 'получение', 'целое', 'число', 'ввод', 'который', 'следовать', 'if', 'the', '##n', 'el', '##if', 'el', '##se', 'оператор', 'fi', 'обратить', 'внимание', 'часть', 'the', '##n', 'el', '##if', 'el', '##se', 'заканчив', '##аться', 'логически', '##й', 'значение', 'tr', '##ue', 'fa', '##ls', '##e', 'это', 'приводить', 'оператор', 'if', 'fi', 'возвращать', 'либо', 'tr', '##ue', 'либо', 'fa', '##ls', '##e', 'быть', 'последний', 'оператор', 'последовательность', 'оператор', 'являться', 'значение', 'доставлять', 'wh', '##ile', 'определить', 'повторять', 'цикл', 'нет', 'поскольку', 'ал', '##гол', 'ориентиров', '##ать', 'выражение', 'объявлять', 'переменный', 'do', '##aga', '##in', 'включать', 'значение', 'должны', '##й', 'сгенер', '##ировать', 'выражение', 'оценивать', 'часть', 'wh', '##ile', 'что', 'крутой', 'моч', '##ь', 'делать', 'вещь', 'тер', '##нар', '##ный', 'оператор', 'гораздо', 'широкий', 'стандартный', 'if', '##fi', 'обратить', 'внимание', 'позаботиться', 'объявлять', 'измен', '##яемый', 'значение', 'поскольку', 'угад', '##ывание', 'значение', 'иметь', 'область', 'действие', 'цикл', 'wh', '##ile', 'определять', 'новый', 'значение', 'один', 'маленький', 'проблема', 'справиться', 'связать', 'использование', 're', '##ad', 'int', 'расстро', '##ить', 'пользователь', 'ввести', 'значение', 'который', 'преобразовать', 'целое', 'число', 'программа', 'остановиться', 'ошибка', 'вы', 'моч', '##ь', 'справиться', 'проблема', 'вызвать', 'процедура', 'ошибка', 'значение', 'аналогичный', 'процедура', 'завершение', 'логически', '##й', 'файл', 'оставить', 'понять', 'вы', 'думать', 'см', '##очь', 'уйти', 'упражн', '##ение', 'в', 'введение', 'перечислить', 'концепция', 'программирование', 'следовать', 'изучить', 'упражн', '##ение', 'как', 'справиться', 'он', 'использовать', 'некоторый', 'функция', 'стандартный', 'библиотека', 'al', '##go', '##l', 'который', 'al', '##go', '##l', 'называть', 'стандартный', 'прелю', '##дия', 'включая', 'генератор', 'случайный', 'число', 'тестирование', 'исключение', 'ввода', '##вы', '##вод', 'один', 'вещь', 'который', 'затронут', '##ь', 'комментарий', 'al', '##go', '##l', 'gen', '##ie', 'комментарий', 'начинаться', 'заканчив', '##аться', 'символ', 'comm', '##ent', 'co', 'если', 'заинтересовать', 'изучение', 'ал', '##гол', 'загля', '##нуть', 'сайт', 'марс', '##ель', 'множество', 'решение', 'ал', '##гол', 'ro', '##set', '##ta', 'code', 'заключение', 'вернуться', 'тема', 'мёртв', '##ый', 'язык', 'да', 'эзотер', '##ический', 'занятие', 'но', 'изучение', 'малоизвест', '##ный', 'язык', 'отличный', 'способ', 'оценить', 'продвинуться', 'некоторый', 'случай', 'нет', 'дать', 'всесторон', '##ний', 'взгляд', 'особенность', 'язык', 'считать', 'разум', '##еться', 'изучить', 'эл', '##икс', '##ир', 'запрограмм', '##ировать', 'игра', 'угад', '##ать', 'число', 'сравнить', 'язык', 'знать', 'программирование', 'простой', 'игра', 'отличный', 'способ', 'попр', '##акт', '##икова', '##ться', 'новый', 'язык', 'сравнить', 'другой', 'знать', 'мнение', 'выраженный', 'веб', '##сай', '##т', 'принадлежать', 'каждый', 'автор', 'работодатель', 'автор', 'red', 'ha', '##t', 'open', '##so', '##ur', '##ce', '##com', 'стремиться', 'публиковать', 'контент', 'лицензия', 'cr', '##ea', '##ti', '##ve', 'comm', '##ons', 'сделать', 'вы', 'нести', 'ответственность', 'наличие', 'необходимый', 'разрешение', 'повторный', 'использование', 'любой', 'работа', 'сайт', 'red', 'ha', '##t', 'логотип', 'red', 'ha', '##t', 'являться', 'товарный', 'знак', 'red', 'ha', '##t', 'inc', 'сш', '##а', 'страна', 'примечание', 'реклама', 'open', '##so', '##ur', '##ce', '##com', 'продавать', 'реклама', 'сайт', 'информационный', 'бюллетень', '[SEP]']\n"
     ]
    }
   ],
   "source": [
    "print(tokenizedTexts[6])"
   ]
  },
  {
   "cell_type": "code",
   "execution_count": 37,
   "id": "8359e8c6",
   "metadata": {
    "scrolled": true
   },
   "outputs": [
    {
     "name": "stderr",
     "output_type": "stream",
     "text": [
      "100%|█████████████████████████████████████| 7180/7180 [00:05<00:00, 1386.24it/s]\n"
     ]
    }
   ],
   "source": [
    "inputIds = [tokenizer.convert_tokens_to_ids(x) for x in tqdm(tokenizedTexts)]"
   ]
  },
  {
   "cell_type": "code",
   "execution_count": 38,
   "id": "602e13b8",
   "metadata": {
    "scrolled": true
   },
   "outputs": [
    {
     "data": {
      "image/png": "[encoded data removed]",
      "text/plain": [
       "<Figure size 640x480 with 1 Axes>"
      ]
     },
     "metadata": {},
     "output_type": "display_data"
    }
   ],
   "source": [
    "lenths = [len(text) for text in tokenizedTexts]\n",
    "plt.hist(lenths)\n",
    "plt.show()"
   ]
  },
  {
   "cell_type": "code",
   "execution_count": 39,
   "id": "684b6a03",
   "metadata": {},
   "outputs": [],
   "source": [
    "inputIds = pad_sequences(\n",
    "    inputIds,\n",
    "    maxlen=1000,\n",
    "    dtype='long',\n",
    "    truncating='post',\n",
    "    padding='post'\n",
    ")"
   ]
  },
  {
   "cell_type": "code",
   "execution_count": 40,
   "id": "6054d712",
   "metadata": {
    "scrolled": true
   },
   "outputs": [
    {
     "data": {
      "text/plain": [
       "array([   101,  17893,   7486,  20429,  14599,  12181,   7072,   9984,\n",
       "        23042,  23309,   5259,  10034,  86071,   2110,   9545,  99499,\n",
       "        11910,  81052,  59238,   2011,  25259,  13688,  23201,  41034,\n",
       "        12669,  11910,  81052, 110948,  30452,  18492,  34769,  24942,\n",
       "        10303,  11910,  12669,  11910,   7100,  33099,  26274,  19083,\n",
       "         7100,  13526,  47956,  17507,   7011,   7100,  35778,  32332,\n",
       "         2882,  21955,  37582,  25898,   6653,  49530,  38433,   2882,\n",
       "       117852,   2882,  10058,   1916,  75527,  44864,  47045,   2642,\n",
       "        20658,  47045,   2642,  42940,   5424,  25898,  17507,  86071,\n",
       "         2110,   9545,  14305,  40012,   9545,  44956,  86071,   2110,\n",
       "         9545,  17507,  85167,   1523,  86071,   2110,  62514,   7972,\n",
       "        21725,  25259,  31283,  32877,   8438,  18983,  48661,  40603,\n",
       "        14211,  32731,  15048,  16892,  11910,  81052,  22632,  20541,\n",
       "       104161,  10676,  11309,    255,  15843,  10912,  87568,   6233,\n",
       "         1572, 103993,  12126,  11659,    279,  15399,  37997,   1644,\n",
       "        18493,  21989,  22033,  13193,  67612,  58039,   8590,  26031,\n",
       "         8953,   8438,  18983,   7011,  11910,  29890,  61157,  72568,\n",
       "         5531,  37492,  73356,  17610,  21566,  18133,   3435,  19635,\n",
       "        25969,  11910,  81052,  31474,  72975,  52426,  40637,  11179,\n",
       "        50612,   1916,  38796,   4532,  45892,   8438,  18983,  21439,\n",
       "        10698,  58039,  24942,  11910,   8438,  18983,   7114,   6201,\n",
       "         7222,  31500,   6379,   6212,   1916,  10676,  11309,    255,\n",
       "        15843,  10912,   3365,   2761,  26861,   1523,  68454,  11032,\n",
       "        10676,  11309,    255,  82852,  11910,  23732,  37492,  15843,\n",
       "        10912,  65575,  13502, 118252,  51296,   1714,  10189,  67420,\n",
       "       118580,  12149,  44158,    896,  59444,  84742,  27971,   5906,\n",
       "        32419,  27441,  29296, 118252,  13831,   6979,  25190,   1633,\n",
       "        37492,  86071,   2110,   9545,  15024,  67590,  47719, 113025,\n",
       "        58039,  68870,  25898,  11651,  10673,  67590,  43499,  39623,\n",
       "         6771,  35505,  54057,  80672,   1523,  17866,  46178,   7011,\n",
       "        17029, 119273,  27651,  35023,  17866, 101197,    860,  46178,\n",
       "        30786,  42317,  46178,  61771,  35023,  42115,   1523,  60529,\n",
       "        17866,  46178,  46178,   7457,   5883,  61771,  44679,  56542,\n",
       "        16506,  26676,   5761,  67590,  26475,  35023,  30452,   3856,\n",
       "        28587,  35023,   2886,  16038,  51041,  44679,  73421,  46178,\n",
       "         9591,  93706,  48568,  41015,    241,   2886,  71465, 101197,\n",
       "          860,  13971,  97401,  21018,   6892,  16822,  42712,  68262,\n",
       "         8438,  18983,  18716,  26005,  48421,  13971,  66095,  13971,\n",
       "        13971,  10676,  11309,    255,  41610,   6260,  45808,  34404,\n",
       "        30901,  66021,  71203,  13971,  12610,   6233,   1572,  37939,\n",
       "        11910,  81052,  13971,  24546,  66095,  13971,  19352,  41479,\n",
       "        43499,   5761,  13971,  21665,  54796,   5761,  24546,   3998,\n",
       "        44404, 110948,   7148,  66021,  58051,  24578,  13971,  43499,\n",
       "        99890,  13961,  13971,   9591,  34317,   3856,  63984,   1523,\n",
       "         9545,  43499,  65015,    896,   1916, 110948,  12338,    253,\n",
       "        12610,  67586,  13971,   3998,  30452,  10673,  44679,  26713,\n",
       "         3998,  18716,  35489,  13971,  26903,  17250,    281,  11063,\n",
       "       110948,  48568,  26903,  12338,    253, 102330,    860,  13947,\n",
       "        58039,   6379,   6212,   1662,  10918,    237,  26903, 103350,\n",
       "        36980,  16640, 103311,   5761,  99890,  13961,  13971,  31474,\n",
       "        36980,  41799,    626, 118252,  50984,  20066,  93537,  27651,\n",
       "        35023,  67590,  12175, 116729,  89754,  36980,  84526,   9545,\n",
       "        42115,  35023,  36654,   1714,  10934,  12371,  11052,   7015,\n",
       "        99890,  13961,  63701,  42317,   9968,    860,  61406,  50552,\n",
       "        42115,  35023,  11066,  29395,  12371,  11052,   7015,  18725,\n",
       "        42317,  29761,  41299,  44936,  39936,   1714,   3856,   8953,\n",
       "        41794,   2110,  13971,  12993,  11087,   8289,   9966,   4099,\n",
       "        11087,  15399,  13238,   4654,  21256,  18492,  61559,  12221,\n",
       "        12993,  11087,  68316,  12993,  11087,  10378,  42712,  68262,\n",
       "         8438,  18983, 112166,  20473,  44679,   7483,  11910,  26274,\n",
       "        26475,   4654,  21256,  25121,  21256,  18492,  47956,  35023,\n",
       "         1761,   9968,    860,  27942,  44936,  39936,   1714,  30452,\n",
       "         3972,   1916,  13259,  61559,  12221,  25269,  20356,  14211,\n",
       "        84526,  28587,   9545,    861,  30452,  67590,  24165,  27651,\n",
       "        35023,  33922,  20541,  87237,   1714,  44171,  12202,  68429,\n",
       "        39936,   1714,  12889,  10880,  18725,  42317,  44679,   8568,\n",
       "        68101,  13971,  30452,   8568,  12337,  68101,  13971,  30452,\n",
       "         5318,  12337,  12610,  27715,   3856, 107318,  73015,   1523,\n",
       "        44936,  39936,   1714,  67590,  20541,  12889,  10880,  40384,\n",
       "        67590,  86071,   2110,   9545,  67590,  28618,  20369,  69106,\n",
       "        13320,  10661,  10823,  19030,  72975,   8042,  21367,   3412,\n",
       "         2325,  13831,  68454,   6087, 101197,    860,  30452,  63984,\n",
       "        69106,  13320,  11032,  16695,  20369,  35141,  68879,  15196,\n",
       "        16654,  67510,  15891,  32419,  18716,  67590,  28618,  35072,\n",
       "        18492,  26475,  28431,  99890,  13961,  13971,   3856,  22571,\n",
       "         1523,  15096,  27651,  35023,  40474,  26903,  24574,  40841,\n",
       "         9545,  16506,   3856,  38429,  12789,  10617,    259,  10637,\n",
       "        14430,  10637,  10853,  18492,  14557,  44171,  12202,   6087,\n",
       "        10617,    259,  10637,  14430,  10637,  10853,  19295,   4563,\n",
       "       101197,    860,  13971,  32733,  13284,  12723,  12259,    241,\n",
       "         3998,  55047,  18492,  12789,  14557,  71465,   8568,  32733,\n",
       "        13284,   8568,  12723,  12259,    241,   6345,  13433,  18492,\n",
       "        35072,  18492,  44679,  13971,  74427,  69106,  13320,  21911,\n",
       "        85167,  20369,   8953,  10442,   8438,  18983,  54455,   2110,\n",
       "        30452, 104694, 110948,  10661,  19869,   3834,  35778,  13971,\n",
       "         9968,    860,  99686,   7996,  30452,  63984,   6087,  69106,\n",
       "        13320,   1997,  72710,  36751,    896,  18716,  52426,   3543,\n",
       "         6665,   1916,  18492,  19120,  26147,  56542,  12789,  14915,\n",
       "        44171,  12202, 107317, 104694,   7148,  66021,  13971,  10442,\n",
       "        86071,  20655,  13971,  16038,   9102,  16436,  20369,  69106,\n",
       "        13320,  43499,  10303,  13971,   5259,  33308,  25817,  37450,\n",
       "        54809,  15716,  12151,   8735,  26903,  46252,   2603,  27528,\n",
       "        24247,  13971,   3856,  85436,  40841,   9545,  17507,  54072,\n",
       "        39484,   1761,  36751,    896,  37450,  25817,  29657,  35023,\n",
       "        39484,  13971,  34734,  35023,  48695, 101197,    860,  46178,\n",
       "        22837,  24287,   1761,  44862,   4414,   8402,  22096,  59238,\n",
       "         2011,    845,  27818,  93829,  32731,  81052,  38429,  44041,\n",
       "        59238,   2011,   2739,  37450,   2886,  12610,  58039,  25898,\n",
       "        56542,  20065,  10676,  11309,    255,   3856,  10676,  11309,\n",
       "          255,  27166,  56542,  95221,  20058,  11267,  36980,  84526,\n",
       "         9545,  52206,  44044,  36484,   9209,   3952,   5259,  52426,\n",
       "         3856,  78716,    896,  49298,  10676,  11309,    255,  15843,\n",
       "        10912,  49298, 118633,  19295,   4563,  10424,  97386,   9236,\n",
       "        11682,   7974, 104620,  24942,   8438,  18983,  97928,  10223,\n",
       "        14870,  37997,   1644,  13502,   8253,   8438,  18983,  25982,\n",
       "        15000,  10725,  17476,  24317,  16938,  26876,  31044,   2642,\n",
       "        11910,   6974,  72465,   5424,  46295,   3435,  24942,  48663,\n",
       "         1916,  11910,  63212,   7100,  34867,  73224,  58039,  13259,\n",
       "         8953,  18769,  51960,   5016,  25428,  39047,  11910,  19635,\n",
       "        27220,  67825,  44041,  16903,  10677,   1706, 101184,   7996,\n",
       "        10034,  86071,   2110,   9545,  65087,  11910,  28204,  81052,\n",
       "        28512,  10034,  63212,   7100,  14206,   4420,  24323,  14645,\n",
       "        10303,  11910,  65087,  10779,  28204,  17610,  69070,  23663,\n",
       "        60728,    868,  53940,  13390,   6946, 107839,   6946,  11192,\n",
       "        10740,    271,  14599,  12181,   7072,   9984,  23042,  71514,\n",
       "        45737,  46900,  58651, 102192,  11745,  10837,  11124,  97386,\n",
       "        13838,  13555,   1761,  34987,  19251,  18791,  50903,  21189,\n",
       "        77470,  15716,  16892,  13831,  14870,  11192,  10740,    271,\n",
       "        37838,  11192,  10740,    271,  44679,  80422,   9518,  11192,\n",
       "        10740,    271, 110657,  70892,    626,  19024, 110554,  42536,\n",
       "        14599,  12181,   7072,   9984,  23042,  30690,  42536,  14870,\n",
       "        52955,  80560,    102,      0,      0,      0,      0,      0,\n",
       "            0,      0,      0,      0,      0,      0,      0,      0,\n",
       "            0,      0,      0,      0,      0,      0,      0,      0,\n",
       "            0,      0,      0,      0,      0,      0,      0,      0])"
      ]
     },
     "execution_count": 40,
     "metadata": {},
     "output_type": "execute_result"
    }
   ],
   "source": [
    "inputIds[6]"
   ]
  },
  {
   "cell_type": "code",
   "execution_count": 41,
   "id": "b11ed4ae",
   "metadata": {
    "scrolled": true
   },
   "outputs": [
    {
     "name": "stderr",
     "output_type": "stream",
     "text": [
      "100%|█████████████████████████████████████| 7180/7180 [00:02<00:00, 2660.00it/s]\n"
     ]
    }
   ],
   "source": [
    "attentionMasks = [[float(i>0) for i in sequence] for sequence in tqdm(inputIds, total=len(inputIds))]"
   ]
  },
  {
   "cell_type": "code",
   "execution_count": 42,
   "id": "37badcf1",
   "metadata": {
    "scrolled": true
   },
   "outputs": [
    {
     "name": "stdout",
     "output_type": "stream",
     "text": [
      "[1.0, 1.0, 1.0, 1.0, 1.0, 1.0, 1.0, 1.0, 1.0, 1.0, 1.0, 1.0, 1.0, 1.0, 1.0, 1.0, 1.0, 1.0, 1.0, 1.0, 1.0, 1.0, 1.0, 1.0, 1.0, 1.0, 1.0, 1.0, 1.0, 1.0, 1.0, 1.0, 1.0, 1.0, 1.0, 1.0, 1.0, 1.0, 1.0, 1.0, 1.0, 1.0, 1.0, 1.0, 1.0, 1.0, 1.0, 1.0, 1.0, 1.0, 1.0, 1.0, 1.0, 1.0, 1.0, 1.0, 1.0, 1.0, 1.0, 1.0, 1.0, 1.0, 1.0, 1.0, 1.0, 1.0, 1.0, 1.0, 1.0, 1.0, 1.0, 1.0, 1.0, 1.0, 1.0, 1.0, 1.0, 1.0, 1.0, 1.0, 1.0, 1.0, 1.0, 1.0, 1.0, 1.0, 1.0, 1.0, 1.0, 1.0, 1.0, 1.0, 1.0, 1.0, 1.0, 1.0, 1.0, 1.0, 1.0, 1.0, 1.0, 1.0, 1.0, 1.0, 1.0, 1.0, 1.0, 1.0, 1.0, 1.0, 1.0, 1.0, 1.0, 1.0, 1.0, 1.0, 1.0, 1.0, 1.0, 1.0, 1.0, 1.0, 1.0, 1.0, 1.0, 1.0, 1.0, 1.0, 1.0, 1.0, 1.0, 1.0, 1.0, 1.0, 1.0, 1.0, 1.0, 1.0, 1.0, 1.0, 1.0, 1.0, 1.0, 1.0, 1.0, 1.0, 1.0, 1.0, 1.0, 1.0, 1.0, 1.0, 1.0, 1.0, 1.0, 1.0, 1.0, 1.0, 1.0, 1.0, 1.0, 1.0, 1.0, 1.0, 1.0, 1.0, 1.0, 1.0, 1.0, 1.0, 1.0, 1.0, 1.0, 1.0, 1.0, 1.0, 1.0, 1.0, 1.0, 1.0, 1.0, 1.0, 1.0, 1.0, 1.0, 1.0, 1.0, 1.0, 1.0, 1.0, 1.0, 1.0, 1.0, 1.0, 1.0, 1.0, 1.0, 1.0, 1.0, 1.0, 1.0, 1.0, 1.0, 1.0, 1.0, 1.0, 1.0, 1.0, 1.0, 1.0, 1.0, 1.0, 1.0, 1.0, 1.0, 1.0, 1.0, 1.0, 1.0, 1.0, 1.0, 1.0, 1.0, 1.0, 1.0, 1.0, 1.0, 1.0, 1.0, 1.0, 1.0, 1.0, 1.0, 1.0, 1.0, 1.0, 1.0, 1.0, 1.0, 1.0, 1.0, 1.0, 1.0, 1.0, 1.0, 1.0, 1.0, 1.0, 1.0, 1.0, 1.0, 1.0, 1.0, 1.0, 1.0, 1.0, 1.0, 1.0, 1.0, 1.0, 1.0, 1.0, 1.0, 1.0, 1.0, 1.0, 1.0, 1.0, 1.0, 1.0, 1.0, 1.0, 1.0, 1.0, 1.0, 1.0, 1.0, 1.0, 1.0, 1.0, 1.0, 1.0, 1.0, 1.0, 1.0, 1.0, 1.0, 1.0, 1.0, 1.0, 1.0, 1.0, 1.0, 1.0, 1.0, 1.0, 1.0, 1.0, 1.0, 1.0, 1.0, 1.0, 1.0, 1.0, 1.0, 1.0, 1.0, 1.0, 1.0, 1.0, 1.0, 1.0, 1.0, 1.0, 1.0, 1.0, 1.0, 1.0, 1.0, 1.0, 1.0, 1.0, 1.0, 1.0, 1.0, 1.0, 1.0, 1.0, 1.0, 1.0, 1.0, 1.0, 1.0, 1.0, 1.0, 1.0, 1.0, 1.0, 1.0, 1.0, 1.0, 1.0, 1.0, 1.0, 1.0, 1.0, 1.0, 1.0, 1.0, 1.0, 1.0, 1.0, 1.0, 1.0, 1.0, 1.0, 1.0, 1.0, 1.0, 1.0, 1.0, 1.0, 1.0, 1.0, 1.0, 1.0, 1.0, 1.0, 1.0, 1.0, 1.0, 1.0, 1.0, 1.0, 1.0, 1.0, 1.0, 1.0, 1.0, 1.0, 1.0, 1.0, 1.0, 1.0, 1.0, 1.0, 1.0, 1.0, 1.0, 1.0, 1.0, 1.0, 1.0, 1.0, 1.0, 1.0, 1.0, 1.0, 1.0, 1.0, 1.0, 1.0, 1.0, 1.0, 1.0, 1.0, 1.0, 1.0, 1.0, 1.0, 1.0, 1.0, 1.0, 1.0, 1.0, 1.0, 1.0, 1.0, 1.0, 1.0, 1.0, 1.0, 1.0, 1.0, 1.0, 1.0, 1.0, 1.0, 1.0, 1.0, 1.0, 1.0, 1.0, 1.0, 1.0, 1.0, 1.0, 1.0, 1.0, 1.0, 1.0, 1.0, 1.0, 1.0, 1.0, 1.0, 1.0, 1.0, 1.0, 1.0, 1.0, 1.0, 1.0, 1.0, 1.0, 1.0, 1.0, 1.0, 1.0, 1.0, 1.0, 1.0, 1.0, 1.0, 1.0, 1.0, 1.0, 1.0, 1.0, 1.0, 1.0, 1.0, 1.0, 1.0, 1.0, 1.0, 1.0, 1.0, 1.0, 1.0, 1.0, 1.0, 1.0, 1.0, 1.0, 1.0, 1.0, 1.0, 1.0, 1.0, 1.0, 1.0, 1.0, 1.0, 1.0, 1.0, 1.0, 1.0, 1.0, 1.0, 1.0, 1.0, 1.0, 1.0, 1.0, 1.0, 1.0, 1.0, 1.0, 1.0, 1.0, 1.0, 1.0, 1.0, 1.0, 1.0, 1.0, 1.0, 1.0, 1.0, 1.0, 1.0, 1.0, 1.0, 1.0, 1.0, 1.0, 1.0, 1.0, 1.0, 1.0, 1.0, 1.0, 1.0, 1.0, 1.0, 1.0, 1.0, 1.0, 1.0, 1.0, 1.0, 1.0, 1.0, 1.0, 1.0, 1.0, 1.0, 1.0, 1.0, 1.0, 1.0, 1.0, 1.0, 1.0, 1.0, 1.0, 1.0, 1.0, 1.0, 1.0, 1.0, 1.0, 1.0, 1.0, 1.0, 1.0, 1.0, 1.0, 1.0, 1.0, 1.0, 1.0, 1.0, 1.0, 1.0, 1.0, 1.0, 1.0, 1.0, 1.0, 1.0, 1.0, 1.0, 1.0, 1.0, 1.0, 1.0, 1.0, 1.0, 1.0, 1.0, 1.0, 1.0, 1.0, 1.0, 1.0, 1.0, 1.0, 1.0, 1.0, 1.0, 1.0, 1.0, 1.0, 1.0, 1.0, 1.0, 1.0, 1.0, 1.0, 1.0, 1.0, 1.0, 1.0, 1.0, 1.0, 1.0, 1.0, 1.0, 1.0, 1.0, 1.0, 1.0, 1.0, 1.0, 1.0, 1.0, 1.0, 1.0, 1.0, 1.0, 1.0, 1.0, 1.0, 1.0, 1.0, 1.0, 1.0, 1.0, 1.0, 1.0, 1.0, 1.0, 1.0, 1.0, 1.0, 1.0, 1.0, 1.0, 1.0, 1.0, 1.0, 1.0, 1.0, 1.0, 1.0, 1.0, 1.0, 1.0, 1.0, 1.0, 1.0, 1.0, 1.0, 1.0, 1.0, 1.0, 1.0, 1.0, 1.0, 1.0, 1.0, 1.0, 1.0, 1.0, 1.0, 1.0, 1.0, 1.0, 1.0, 1.0, 1.0, 1.0, 1.0, 1.0, 1.0, 1.0, 1.0, 1.0, 1.0, 1.0, 1.0, 1.0, 1.0, 1.0, 1.0, 1.0, 1.0, 1.0, 1.0, 1.0, 1.0, 1.0, 1.0, 1.0, 1.0, 1.0, 1.0, 1.0, 1.0, 1.0, 1.0, 1.0, 1.0, 1.0, 1.0, 1.0, 1.0, 1.0, 1.0, 1.0, 1.0, 1.0, 1.0, 1.0, 1.0, 1.0, 1.0, 1.0, 1.0, 1.0, 1.0, 1.0, 1.0, 1.0, 1.0, 1.0, 1.0, 1.0, 1.0, 1.0, 1.0, 1.0, 1.0, 1.0, 1.0, 1.0, 1.0, 1.0, 1.0, 1.0, 1.0, 1.0, 1.0, 1.0, 1.0, 1.0, 1.0, 1.0, 1.0, 1.0, 1.0, 1.0, 1.0, 1.0, 1.0, 1.0, 1.0, 1.0, 1.0, 1.0, 1.0, 1.0, 1.0, 1.0, 1.0, 1.0, 1.0, 1.0, 1.0, 1.0, 1.0, 1.0, 1.0, 1.0, 1.0, 1.0, 1.0, 1.0, 1.0, 1.0, 1.0, 1.0, 1.0, 1.0, 1.0, 1.0, 1.0, 1.0, 1.0, 1.0, 1.0, 1.0, 1.0, 1.0, 1.0, 1.0, 1.0, 1.0, 1.0, 1.0, 1.0, 1.0, 1.0, 1.0, 1.0, 1.0, 1.0, 1.0, 1.0, 1.0, 1.0, 1.0, 1.0, 1.0, 1.0, 1.0, 1.0, 1.0, 1.0, 1.0, 1.0, 1.0, 1.0, 1.0, 1.0, 1.0, 1.0, 1.0, 1.0, 1.0, 1.0, 1.0, 1.0, 1.0, 1.0, 1.0, 1.0, 1.0, 1.0, 1.0, 1.0, 1.0, 1.0, 1.0, 1.0, 1.0, 1.0, 1.0, 1.0, 1.0, 1.0, 1.0, 1.0, 1.0, 1.0, 1.0, 1.0, 1.0, 1.0, 1.0, 1.0, 1.0, 1.0, 1.0, 1.0, 1.0, 1.0, 1.0, 1.0, 1.0, 1.0, 1.0, 1.0, 1.0, 1.0, 1.0, 1.0, 1.0, 1.0, 1.0, 1.0, 1.0, 1.0, 1.0, 1.0, 1.0, 1.0, 1.0, 1.0, 1.0, 1.0, 1.0, 1.0, 1.0, 1.0, 1.0, 1.0, 1.0, 1.0, 1.0, 1.0, 1.0, 1.0, 1.0, 1.0, 1.0, 1.0, 1.0, 1.0, 1.0, 1.0, 1.0, 1.0, 1.0, 1.0, 1.0, 1.0, 1.0, 1.0, 1.0, 1.0, 1.0, 1.0, 1.0, 1.0, 1.0, 1.0, 1.0, 1.0, 1.0, 1.0, 1.0, 1.0, 1.0, 1.0, 1.0, 1.0, 1.0, 1.0, 1.0, 1.0, 1.0, 1.0, 1.0, 1.0, 1.0, 1.0, 1.0, 1.0, 1.0, 1.0, 1.0, 1.0, 1.0, 1.0, 1.0, 1.0, 1.0, 1.0, 0.0, 0.0, 0.0, 0.0, 0.0, 0.0, 0.0, 0.0, 0.0, 0.0, 0.0, 0.0, 0.0, 0.0, 0.0, 0.0, 0.0, 0.0, 0.0, 0.0, 0.0, 0.0, 0.0, 0.0, 0.0, 0.0, 0.0, 0.0, 0.0]\n"
     ]
    }
   ],
   "source": [
    "print(attentionMasks[6])"
   ]
  },
  {
   "cell_type": "code",
   "execution_count": 43,
   "id": "92850c05",
   "metadata": {},
   "outputs": [],
   "source": [
    "assert len(inputIds[42]) == len(attentionMasks[42])"
   ]
  },
  {
   "cell_type": "code",
   "execution_count": 44,
   "id": "0019d0f5",
   "metadata": {},
   "outputs": [],
   "source": [
    "trainInputs, validationInputs, trainLabels, validationLabels = train_test_split(\n",
    "    inputIds, trainCategory, \n",
    "    random_state=42,\n",
    "    test_size=0.1\n",
    ")"
   ]
  },
  {
   "cell_type": "code",
   "execution_count": 45,
   "id": "36400933",
   "metadata": {},
   "outputs": [],
   "source": [
    "trainMasks, validationMasks, _, _ = train_test_split(\n",
    "    attentionMasks,\n",
    "    inputIds,\n",
    "    random_state=42,\n",
    "    test_size=0.1\n",
    ")  "
   ]
  },
  {
   "cell_type": "code",
   "execution_count": 46,
   "id": "a3ea3257",
   "metadata": {},
   "outputs": [],
   "source": [
    "assert len(trainInputs) == len(trainLabels) == len(trainMasks)\n",
    "assert len(validationInputs) == len(validationLabels) == len(validationMasks)"
   ]
  },
  {
   "cell_type": "markdown",
   "id": "313dbba9",
   "metadata": {},
   "source": [
    "## Инициализация DataLoader'ов"
   ]
  },
  {
   "cell_type": "code",
   "execution_count": 47,
   "id": "ffcaeb07",
   "metadata": {},
   "outputs": [],
   "source": [
    "trainInputs = torch.tensor(trainInputs)\n",
    "trainLabels = torch.tensor(trainLabels)\n",
    "trainMasks = torch.tensor(trainMasks)"
   ]
  },
  {
   "cell_type": "code",
   "execution_count": null,
   "id": "5b131186",
   "metadata": {},
   "outputs": [],
   "source": [
    "validationInputs = torch.tensor(validationInputs)\n",
    "validationLabels = torch.tensor(validationLabels)\n",
    "validationMasks = torch.tensor(validationMasks)"
   ]
  },
  {
   "cell_type": "code",
   "execution_count": 129,
   "id": "20e2fdbb",
   "metadata": {},
   "outputs": [],
   "source": [
    "trainData = TensorDataset(trainInputs, trainMasks, trainLabels)\n",
    "trainDataLoader = DataLoader(\n",
    "    trainData,\n",
    "    sampler=RandomSampler(trainData),\n",
    "    batch_size=32\n",
    ")\n",
    "# len(trainDataLoader)\n",
    "# for batchIdx, sample in enumerate(trainDataloader):"
   ]
  },
  {
   "cell_type": "code",
   "execution_count": 130,
   "id": "4ad07d1f",
   "metadata": {},
   "outputs": [],
   "source": [
    "validationData = TensorDataset(validationInputs, validationMasks, validationLabels)\n",
    "validationDataLoader = DataLoader(\n",
    "    validationData,\n",
    "    batch_size=32\n",
    ")"
   ]
  },
  {
   "cell_type": "markdown",
   "id": "61f2da3e",
   "metadata": {},
   "source": [
    "## Дообучение"
   ]
  },
  {
   "cell_type": "code",
   "execution_count": 127,
   "id": "0cfd2394",
   "metadata": {},
   "outputs": [],
   "source": [
    "config = AutoConfig.from_pretrained('DeepPavlov/rubert-base-cased',\n",
    "                                    num_labels=len(categoryIndex),\n",
    "                                    id2label=reverseCategoryIndex,\n",
    "                                    label2id=categoryIndex)"
   ]
  },
  {
   "cell_type": "code",
   "execution_count": 128,
   "id": "a4c13426",
   "metadata": {},
   "outputs": [
    {
     "data": {
      "application/vnd.jupyter.widget-view+json": {
       "model_id": "00ecb369c4a14950834777aae60fd905",
       "version_major": 2,
       "version_minor": 0
      },
      "text/plain": [
       "Downloading (…)\"pytorch_model.bin\";:   0%|          | 0.00/714M [00:00<?, ?B/s]"
      ]
     },
     "metadata": {},
     "output_type": "display_data"
    },
    {
     "name": "stderr",
     "output_type": "stream",
     "text": [
      "Some weights of the model checkpoint at DeepPavlov/rubert-base-cased were not used when initializing BertForSequenceClassification: ['cls.predictions.bias', 'cls.predictions.transform.dense.weight', 'cls.predictions.transform.LayerNorm.weight', 'cls.seq_relationship.bias', 'cls.predictions.decoder.weight', 'cls.seq_relationship.weight', 'cls.predictions.transform.LayerNorm.bias', 'cls.predictions.decoder.bias', 'cls.predictions.transform.dense.bias']\n",
      "- This IS expected if you are initializing BertForSequenceClassification from the checkpoint of a model trained on another task or with another architecture (e.g. initializing a BertForSequenceClassification model from a BertForPreTraining model).\n",
      "- This IS NOT expected if you are initializing BertForSequenceClassification from the checkpoint of a model that you expect to be exactly identical (initializing a BertForSequenceClassification model from a BertForSequenceClassification model).\n",
      "Some weights of BertForSequenceClassification were not initialized from the model checkpoint at DeepPavlov/rubert-base-cased and are newly initialized: ['classifier.weight', 'classifier.bias']\n",
      "You should probably TRAIN this model on a down-stream task to be able to use it for predictions and inference.\n"
     ]
    }
   ],
   "source": [
    "model = AutoModelForSequenceClassification.from_pretrained('DeepPavlov/rubert-base-cased', config=config)"
   ]
  },
  {
   "cell_type": "code",
   "execution_count": null,
   "id": "744a35cf",
   "metadata": {},
   "outputs": [],
   "source": [
    "model.cuda()"
   ]
  },
  {
   "cell_type": "code",
   "execution_count": 209,
   "id": "3d0c6849",
   "metadata": {},
   "outputs": [],
   "source": [
    "namedParameters = list(model.named_parameters())"
   ]
  },
  {
   "cell_type": "code",
   "execution_count": 225,
   "id": "4bc00048",
   "metadata": {},
   "outputs": [],
   "source": [
    "\"\"\"all_params = set(model.parameters())\n",
    "wd_params = set()\n",
    "for m in model.modules():\n",
    "    if isinstance(m, (nn.Linear)):\n",
    "        wd_params.add(m.weight)\n",
    "no_wd = all_params - wd_params\"\"\""
   ]
  },
  {
   "cell_type": "code",
   "execution_count": 234,
   "id": "f61add72",
   "metadata": {},
   "outputs": [],
   "source": [
    "noDecay = [\"bias\", \"LayerNorm.bias\", \"LayerNorm.weight\"]\n",
    "groupedParameters = [\n",
    "    {'params': [p for name, p in namedParameters if not any(nd in name for nd in noDecay)],\n",
    "     'weightDecay': 0.01}, # param weight\n",
    "    {'params': [p for name, p in namedParameters if any(nd in name for nd in noDecay)],\n",
    "     'weightDecay': 0.0} # param bias, ...\n",
    "]"
   ]
  },
  {
   "cell_type": "code",
   "execution_count": null,
   "id": "50a954df",
   "metadata": {},
   "outputs": [],
   "source": []
  },
  {
   "cell_type": "code",
   "execution_count": null,
   "id": "c89b3a79",
   "metadata": {},
   "outputs": [],
   "source": []
  },
  {
   "cell_type": "code",
   "execution_count": null,
   "id": "a387186d",
   "metadata": {},
   "outputs": [],
   "source": []
  },
  {
   "cell_type": "code",
   "execution_count": null,
   "id": "3aef542b",
   "metadata": {},
   "outputs": [],
   "source": []
  },
  {
   "cell_type": "code",
   "execution_count": null,
   "id": "a4361067",
   "metadata": {},
   "outputs": [],
   "source": [
    "   # Clip the norm of the gradients to 1.0.\n",
    "        # This is to help prevent the \"exploding gradients\" problem.\n",
    "        torch.nn.utils.clip_grad_norm_(model.parameters(), 1.0)"
   ]
  },
  {
   "cell_type": "code",
   "execution_count": null,
   "id": "dd402854",
   "metadata": {},
   "outputs": [],
   "source": [
    "scheduler -- зачем? \n",
    "как эпохи влияют на обучение\n",
    "и как понять когда эпох достаточно. и что результат уже хороший\n",
    "loss что это"
   ]
  },
  {
   "cell_type": "code",
   "execution_count": null,
   "id": "48974062",
   "metadata": {},
   "outputs": [],
   "source": [
    "что мы называаем параметрами? веса и смещения? \n",
    "когда происходит обучение(forward) мы знаем веса и смещение?  если да, то начальные значения какие?\n",
    "почему loss может быть больше 1??"
   ]
  },
  {
   "cell_type": "code",
   "execution_count": null,
   "id": "ee4104da",
   "metadata": {},
   "outputs": [],
   "source": [
    "зачем нужен distilbert"
   ]
  },
  {
   "cell_type": "code",
   "execution_count": null,
   "id": "09f99b72",
   "metadata": {},
   "outputs": [],
   "source": [
    "1) удалить последние абзацы по условию (если больше n, то удалить 10 например)\n",
    "2) чекать слово на символы. если большое какое-то -- удалять\n",
    "3) проверять английские слова на их форму и глагол прилаг сущ -- если не находит, то удалять\n",
    "4) составить список слов, которые состоят из 1 буквы или более 10-15 симвлов. \n",
    "или если в слове есть и английские и русские буквы\n",
    "\n",
    "5)ВЫЧИСЛИТЬ ПОЧЕМУ УБРАЛИСЬ \\n и добавить перед фильтрацию строк текста\n",
    "\n",
    "6) Fine-Tune BERT for Text Classification"
   ]
  }
 ],
 "metadata": {
  "kernelspec": {
   "display_name": "trms",
   "language": "python",
   "name": "trms"
  },
  "language_info": {
   "codemirror_mode": {
    "name": "ipython",
    "version": 3
   },
   "file_extension": ".py",
   "mimetype": "text/x-python",
   "name": "python",
   "nbconvert_exporter": "python",
   "pygments_lexer": "ipython3",
   "version": "3.8.16"
  }
 },
 "nbformat": 4,
 "nbformat_minor": 5
}
