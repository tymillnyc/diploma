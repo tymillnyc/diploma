{
 "cells": [
  {
   "cell_type": "code",
   "execution_count": 33,
   "id": "b3d72f1b",
   "metadata": {},
   "outputs": [],
   "source": [
    "import pandas as pd\n",
    "import random\n",
    "import os\n",
    "from tqdm import tqdm\n",
    "import nltk\n",
    "from nltk.tokenize import word_tokenize\n",
    "import matplotlib.pyplot as plt\n",
    "import collections\n",
    "import pymorphy3\n",
    "import numpy as np\n",
    "import re\n",
    "from sklearn.feature_extraction.text import CountVectorizer, TfidfTransformer, TfidfVectorizer"
   ]
  },
  {
   "cell_type": "code",
   "execution_count": 34,
   "id": "0659ac76",
   "metadata": {},
   "outputs": [],
   "source": [
    "import urllib.request\n",
    "import json\n",
    "from bs4 import BeautifulSoup\n",
    "import unicodedata"
   ]
  },
  {
   "cell_type": "code",
   "execution_count": 38,
   "id": "1abbcef0",
   "metadata": {},
   "outputs": [],
   "source": [
    "tqdm.pandas()"
   ]
  },
  {
   "cell_type": "code",
   "execution_count": 39,
   "id": "01bf7a93",
   "metadata": {},
   "outputs": [],
   "source": [
    "pd.options.display.max_rows = 450"
   ]
  },
  {
   "cell_type": "code",
   "execution_count": 40,
   "id": "a74f9ed7",
   "metadata": {},
   "outputs": [],
   "source": [
    "file = open(\"data/stop_words_russian.txt\", \"r\")\n",
    "stop_words = file.read().splitlines()"
   ]
  },
  {
   "cell_type": "code",
   "execution_count": 41,
   "id": "e2901c5a",
   "metadata": {},
   "outputs": [],
   "source": [
    "morph = pymorphy3.MorphAnalyzer()"
   ]
  },
  {
   "cell_type": "code",
   "execution_count": 42,
   "id": "23fb385b",
   "metadata": {},
   "outputs": [],
   "source": [
    "def set_seed(seed):\n",
    "    random.seed(seed)\n",
    "    np.random.seed(seed)\n",
    "    os.environ[\"PYTHONHASHSEED\"] = str(seed)\n",
    "set_seed(42)"
   ]
  },
  {
   "cell_type": "code",
   "execution_count": 43,
   "id": "00af893a",
   "metadata": {},
   "outputs": [
    {
     "data": {
      "text/plain": [
       "(7980, 2)"
      ]
     },
     "execution_count": 43,
     "metadata": {},
     "output_type": "execute_result"
    }
   ],
   "source": [
    "df = pd.read_csv('datasets/foss/dataset_max_25.csv', index_col=0)\n",
    "df.shape"
   ]
  },
  {
   "cell_type": "code",
   "execution_count": 44,
   "id": "306456c7",
   "metadata": {},
   "outputs": [],
   "source": [
    "category_index = {i[1]:i[0] for i in enumerate(df.category.unique())}\n",
    "reverse_category_index = {i[0]:i[1] for i in enumerate(df.category.unique())}"
   ]
  },
  {
   "cell_type": "code",
   "execution_count": 45,
   "id": "64738775",
   "metadata": {},
   "outputs": [
    {
     "data": {
      "text/plain": [
       "{'WEB': 0,\n",
       " 'SECURITY': 1,\n",
       " 'INTROS': 2,\n",
       " 'DATA_SCIENCE': 3,\n",
       " 'ORG': 4,\n",
       " 'KnD': 5,\n",
       " 'OPENING': 6,\n",
       " 'DEVOPS': 7,\n",
       " 'GAMES': 8,\n",
       " 'SPECIAL': 9,\n",
       " 'USER': 10,\n",
       " 'EVENTS': 11,\n",
       " 'DEV': 12,\n",
       " 'MOBILE': 13,\n",
       " 'SYSADM': 14,\n",
       " 'MULTIMEDIA': 15,\n",
       " 'DATABASES': 16,\n",
       " 'MESSENGERS': 17,\n",
       " 'DIY': 18,\n",
       " 'MANAGEMENT': 19,\n",
       " 'HARDWARE': 20,\n",
       " 'MISC': 21,\n",
       " 'LAW': 22,\n",
       " 'EDUCATION': 23,\n",
       " 'HISTORY': 24}"
      ]
     },
     "execution_count": 45,
     "metadata": {},
     "output_type": "execute_result"
    }
   ],
   "source": [
    "category_index"
   ]
  },
  {
   "cell_type": "code",
   "execution_count": 46,
   "id": "929d9235",
   "metadata": {},
   "outputs": [],
   "source": [
    "labels = [category_index[i] for i in df.category.values]"
   ]
  },
  {
   "cell_type": "code",
   "execution_count": 47,
   "id": "3eb47027",
   "metadata": {},
   "outputs": [],
   "source": [
    "def normalize_text(text):\n",
    "    # приведение к нижнему регистру \n",
    "    lower_result = text.lower()\n",
    "    # удаление url-адресов\n",
    "    non_links_result = re.sub(r\"\\S*https?:\\S*\", \"\", text)\n",
    "    # удаление emails\n",
    "    non_emails_result = re.sub(r\"\\S*@\\S*\\s?\", \"\", non_links_result)\n",
    "    # удаление цифр\n",
    "    non_numeric_result = ''.join([i for i in non_emails_result if not i.isdigit()])\n",
    "    # удаление пунктуации и специальных символов\n",
    "    non_punc_result = ''.join(filter(lambda mark: mark.isalnum() or mark.isspace(), non_numeric_result)).strip()\n",
    "    # удаление лишних пробелов\n",
    "    non_space_result = re.sub(r\" +\", \" \", non_punc_result)\n",
    "    # удаление лишних абзацев\n",
    "    paragraph_list = non_space_result.split('\\n')\n",
    "    text = '\\n'.join([p for p in paragraph_list if not p.count(' ') < 10])\n",
    "    # удаление стоп-слов и длинных слов\n",
    "    text_tokens = word_tokenize(text)\n",
    "    without_stop_word_tokens = [word for word in text_tokens if not word in stop_words]\n",
    "    without_long_tokens = [word for word in without_stop_word_tokens if len(word) <= 18]\n",
    "    without_short_tokens = [word for word in without_long_tokens if len(word) >= 2]\n",
    "    # лемматизация слов\n",
    "    lemmatize_result = [morph.parse(word)[0].normal_form for word in without_short_tokens]\n",
    "    filtered_text = (\" \").join(lemmatize_result)\n",
    "    \n",
    "    return filtered_text  "
   ]
  },
  {
   "cell_type": "code",
   "execution_count": 48,
   "id": "dc0beced",
   "metadata": {},
   "outputs": [
    {
     "name": "stderr",
     "output_type": "stream",
     "text": [
      "100%|███████████████████████████████████████| 7980/7980 [11:04<00:00, 12.01it/s]\n"
     ]
    }
   ],
   "source": [
    "texts = df['document'].progress_apply(normalize_text)"
   ]
  },
  {
   "cell_type": "code",
   "execution_count": 14,
   "id": "0aa407d3",
   "metadata": {},
   "outputs": [
    {
     "name": "stdout",
     "output_type": "stream",
     "text": [
      "vectorized texts:\n",
      "<7980x45329 sparse matrix of type '<class 'numpy.float64'>'\n",
      "\twith 2427053 stored elements in Compressed Sparse Row format>\n"
     ]
    }
   ],
   "source": [
    "'''vect = CountVectorizer(stop_words = stop_words, min_df = 3, max_df = 0.6).fit(texts)\n",
    "vectorized_texts = vect.transform(texts)\n",
    "vectorized_texts = TfidfTransformer().fit_transform(vectorized_texts)\n",
    "print(\"vectorized texts:\\n{}\".format(repr(vectorized_texts)))'''"
   ]
  },
  {
   "cell_type": "code",
   "execution_count": 50,
   "id": "ad2b73e4",
   "metadata": {},
   "outputs": [
    {
     "name": "stdout",
     "output_type": "stream",
     "text": [
      "vectorized texts:\n",
      "<7980x45329 sparse matrix of type '<class 'numpy.float64'>'\n",
      "\twith 2427053 stored elements in Compressed Sparse Row format>\n"
     ]
    }
   ],
   "source": [
    "vectorizer = TfidfVectorizer(stop_words = stop_words, min_df = 3, max_df = 0.6).fit(texts)\n",
    "vec_texts = vectorizer.transform(texts)\n",
    "print(\"vectorized texts:\\n{}\".format(repr(vec_texts)))"
   ]
  },
  {
   "cell_type": "code",
   "execution_count": null,
   "id": "a95b8a1d",
   "metadata": {},
   "outputs": [],
   "source": []
  },
  {
   "cell_type": "code",
   "execution_count": 51,
   "id": "dd6f450a",
   "metadata": {},
   "outputs": [],
   "source": [
    "def checkTopWordsWithClass(vectorized_texts, vect, df, category):\n",
    "    \n",
    "    tfidf_df = pd.DataFrame(vectorized_texts.toarray(), index=list(df['category']), columns=vect.get_feature_names_out())\n",
    "    df_temp = tfidf_df.loc[category]\n",
    "    \n",
    "    list1 = list(dict(df_temp.sum(axis=0).nlargest(n=50)).keys())\n",
    "    \n",
    "    df_category = df_temp.stack().reset_index()\n",
    "    \n",
    "    df_category.columns = ['category', 'token', 'tfidf']\n",
    "    df_category = df_category.sort_values(by=['tfidf'], ascending=False)\n",
    "    \n",
    "    list2 = list(df_category.drop_duplicates(subset=['token']).head(50)['token'])\n",
    "    \n",
    "    return set(list1 + list2)\n",
    "\n",
    "    #tfidf_df = tfidf_df.stack().reset_index()\n",
    "    #tfidf_df = tfidf_df.rename(columns={0:'tfidf', 'level_0': 'category','level_1': 'token'})\n",
    "    #df_category = tfidf_df[tfidf_df['category'] == category].sort_values(by=['tfidf'], ascending=False)"
   ]
  },
  {
   "cell_type": "code",
   "execution_count": 52,
   "id": "60b6edc5",
   "metadata": {},
   "outputs": [
    {
     "name": "stdout",
     "output_type": "stream",
     "text": [
      "91\n",
      "98\n",
      "90\n",
      "96\n",
      "99\n",
      "91\n",
      "90\n",
      "93\n",
      "80\n",
      "98\n",
      "97\n",
      "89\n",
      "94\n",
      "89\n",
      "91\n",
      "90\n",
      "82\n",
      "78\n",
      "94\n",
      "75\n",
      "86\n",
      "96\n",
      "77\n",
      "82\n",
      "70\n"
     ]
    }
   ],
   "source": [
    "result = list([''])*len(category_index)\n",
    "dictResult = dict()\n",
    "for i, category in enumerate(category_index.keys()):\n",
    "    set_res = checkTopWordsWithClass(vec_texts, vect, df, category)\n",
    "    result[i] = set_res\n",
    "    dictResult[category] = set_res\n",
    "    print(len(result[i]))"
   ]
  },
  {
   "cell_type": "code",
   "execution_count": null,
   "id": "1c8c3492",
   "metadata": {},
   "outputs": [],
   "source": []
  },
  {
   "cell_type": "code",
   "execution_count": null,
   "id": "ae008941",
   "metadata": {},
   "outputs": [],
   "source": []
  },
  {
   "cell_type": "code",
   "execution_count": null,
   "id": "dc1cdfa6",
   "metadata": {},
   "outputs": [],
   "source": []
  },
  {
   "cell_type": "code",
   "execution_count": 11,
   "id": "cf45f194",
   "metadata": {},
   "outputs": [],
   "source": [
    "def predictCategory(setTextTokens, categoriesKeywords):\n",
    "    dictResult = dict()\n",
    "    for category, keywords in categoriesKeywords.items():\n",
    "        dictResult[category] = len(setTextTokens & keywords)\n",
    "    \n",
    "    result = dict(sorted(dictResult.items(), key=lambda item: item[1], reverse=True))\n",
    "    return list(result.keys())[0:3]  \n",
    "        "
   ]
  },
  {
   "cell_type": "code",
   "execution_count": 10,
   "id": "adfb822b",
   "metadata": {},
   "outputs": [],
   "source": [
    "def getContentTextFromMinLen(url):\n",
    "    \"\"\"дополнительная функция для получения текстовых данных \n",
    "        с тега <body>\"\"\"\n",
    "    \n",
    "    userAgent = 'Mozilla/5.0 (Windows; U; Windows NT 5.1; en-US; rv:1.9.0.7) Gecko/2009021910 Firefox/3.0.7'\n",
    "    headers={'User-Agent':userAgent,} \n",
    "    request = urllib.request.Request(url, None, headers) \n",
    "    response = urllib.request.urlopen(request)\n",
    "    html = response.read()\n",
    "    soup = BeautifulSoup(html)\n",
    "    for data in soup([\"script\", \"style\"]):\n",
    "        data.extract()\n",
    "    allText = soup.body.get_text()\n",
    "    splitText = allText.splitlines()\n",
    "    lines = [line.strip() for line in splitText]\n",
    "    cleanLines = [splitLine.strip() for line in lines for splitLine in line.split(\"  \")]\n",
    "    text = \"\\n\".join(line for line in cleanLines if line)\n",
    "    \n",
    "    return unicodedata.normalize(\"NFKD\", text) "
   ]
  },
  {
   "cell_type": "code",
   "execution_count": 54,
   "id": "61859b30",
   "metadata": {},
   "outputs": [],
   "source": [
    "with open(\"data/records.json\", 'r', encoding='utf-8') as file:\n",
    "    records = json.load(file)"
   ]
  },
  {
   "cell_type": "code",
   "execution_count": 56,
   "id": "503b3784",
   "metadata": {},
   "outputs": [
    {
     "data": {
      "text/plain": [
       "(76885, 11)"
      ]
     },
     "execution_count": 56,
     "metadata": {},
     "output_type": "execute_result"
    }
   ],
   "source": [
    "df.shape"
   ]
  },
  {
   "cell_type": "code",
   "execution_count": 57,
   "id": "310452d3",
   "metadata": {},
   "outputs": [],
   "source": [
    "temp_df = df[df['category'].isna()] "
   ]
  },
  {
   "cell_type": "code",
   "execution_count": 58,
   "id": "4df27215",
   "metadata": {},
   "outputs": [
    {
     "data": {
      "text/plain": [
       "(68246, 11)"
      ]
     },
     "execution_count": 58,
     "metadata": {},
     "output_type": "execute_result"
    }
   ],
   "source": [
    "temp_df.shape"
   ]
  },
  {
   "cell_type": "code",
   "execution_count": 59,
   "id": "7cd0955d",
   "metadata": {},
   "outputs": [],
   "source": [
    "russian_df = temp_df.loc[(temp_df['language'] == 'RUSSIAN')]"
   ]
  },
  {
   "cell_type": "code",
   "execution_count": 60,
   "id": "88f416bb",
   "metadata": {},
   "outputs": [
    {
     "data": {
      "text/plain": [
       "(5130, 11)"
      ]
     },
     "execution_count": 60,
     "metadata": {},
     "output_type": "execute_result"
    }
   ],
   "source": [
    "russian_df.shape"
   ]
  },
  {
   "cell_type": "code",
   "execution_count": 61,
   "id": "158c4dac",
   "metadata": {},
   "outputs": [
    {
     "name": "stderr",
     "output_type": "stream",
     "text": [
      "/var/folders/s8/d14ydvrs51j2vffx404b3k0r0000gn/T/ipykernel_67363/2414168723.py:1: SettingWithCopyWarning: \n",
      "A value is trying to be set on a copy of a slice from a DataFrame\n",
      "\n",
      "See the caveats in the documentation: https://pandas.pydata.org/pandas-docs/stable/user_guide/indexing.html#returning-a-view-versus-a-copy\n",
      "  russian_df.drop(['id', 'datetime', 'digest_number', 'state', 'title', 'description', 'type', 'keywords', 'language'], axis=1, inplace=True)\n"
     ]
    }
   ],
   "source": [
    "russian_df.drop(['id', 'datetime', 'digest_number', 'state', 'title', 'description', 'type', 'keywords', 'language'], axis=1, inplace=True)"
   ]
  },
  {
   "cell_type": "code",
   "execution_count": 62,
   "id": "8112f633",
   "metadata": {},
   "outputs": [
    {
     "data": {
      "text/plain": [
       "(5130, 2)"
      ]
     },
     "execution_count": 62,
     "metadata": {},
     "output_type": "execute_result"
    }
   ],
   "source": [
    "russian_df.shape"
   ]
  },
  {
   "cell_type": "code",
   "execution_count": null,
   "id": "5406d395",
   "metadata": {},
   "outputs": [],
   "source": [
    "'''urls = []\n",
    "for _, row in tqdm(russian_df.iterrows(), total=russian_df.shape[0]):\n",
    "    print(row['url'])\n",
    "    urls.append(row['url'])'''"
   ]
  },
  {
   "cell_type": "code",
   "execution_count": 65,
   "id": "c2ffc0b7",
   "metadata": {},
   "outputs": [
    {
     "name": "stderr",
     "output_type": "stream",
     "text": [
      "100%|█████████████████████████████████████| 5130/5130 [1:07:03<00:00,  1.28it/s]\n"
     ]
    }
   ],
   "source": [
    "contents = [] \n",
    "for _, row in tqdm(russian_df.iterrows(), total=russian_df.shape[0]):\n",
    "    try:\n",
    "        text = getContentTextFromMinLen(row['url'])\n",
    "        contents.append(text)\n",
    "    except Exception as exception:\n",
    "        contents.append('')"
   ]
  },
  {
   "cell_type": "code",
   "execution_count": 66,
   "id": "32efe6eb",
   "metadata": {},
   "outputs": [
    {
     "data": {
      "text/plain": [
       "159"
      ]
     },
     "execution_count": 66,
     "metadata": {},
     "output_type": "execute_result"
    }
   ],
   "source": [
    "contents.count('')"
   ]
  },
  {
   "cell_type": "code",
   "execution_count": 67,
   "id": "e9b92215",
   "metadata": {},
   "outputs": [
    {
     "name": "stderr",
     "output_type": "stream",
     "text": [
      "/var/folders/s8/d14ydvrs51j2vffx404b3k0r0000gn/T/ipykernel_67363/3155867366.py:1: SettingWithCopyWarning: \n",
      "A value is trying to be set on a copy of a slice from a DataFrame.\n",
      "Try using .loc[row_indexer,col_indexer] = value instead\n",
      "\n",
      "See the caveats in the documentation: https://pandas.pydata.org/pandas-docs/stable/user_guide/indexing.html#returning-a-view-versus-a-copy\n",
      "  russian_df['texts'] = contents\n"
     ]
    }
   ],
   "source": [
    "russian_df['texts'] = contents"
   ]
  },
  {
   "cell_type": "code",
   "execution_count": 69,
   "id": "4f8f15b2",
   "metadata": {},
   "outputs": [
    {
     "data": {
      "text/html": [
       "<div>\n",
       "<style scoped>\n",
       "    .dataframe tbody tr th:only-of-type {\n",
       "        vertical-align: middle;\n",
       "    }\n",
       "\n",
       "    .dataframe tbody tr th {\n",
       "        vertical-align: top;\n",
       "    }\n",
       "\n",
       "    .dataframe thead th {\n",
       "        text-align: right;\n",
       "    }\n",
       "</style>\n",
       "<table border=\"1\" class=\"dataframe\">\n",
       "  <thead>\n",
       "    <tr style=\"text-align: right;\">\n",
       "      <th></th>\n",
       "      <th>category</th>\n",
       "      <th>url</th>\n",
       "      <th>texts</th>\n",
       "    </tr>\n",
       "  </thead>\n",
       "  <tbody>\n",
       "    <tr>\n",
       "      <th>75999</th>\n",
       "      <td>None</td>\n",
       "      <td>https://habr.com/ru/news/t/578618</td>\n",
       "      <td>Хабр\\nβ Открыть список\\nКак стать автором\\nВсе...</td>\n",
       "    </tr>\n",
       "    <tr>\n",
       "      <th>32521</th>\n",
       "      <td>None</td>\n",
       "      <td>https://habr.com/ru/news/t/577786</td>\n",
       "      <td>Хабр\\nβ Открыть список\\nКак стать автором\\nВсе...</td>\n",
       "    </tr>\n",
       "    <tr>\n",
       "      <th>63133</th>\n",
       "      <td>None</td>\n",
       "      <td>https://habr.com/ru/news/t/571842</td>\n",
       "      <td>Хабр\\nβ Открыть список\\nКак стать автором\\nВсе...</td>\n",
       "    </tr>\n",
       "  </tbody>\n",
       "</table>\n",
       "</div>"
      ],
      "text/plain": [
       "      category                                url  \\\n",
       "75999     None  https://habr.com/ru/news/t/578618   \n",
       "32521     None  https://habr.com/ru/news/t/577786   \n",
       "63133     None  https://habr.com/ru/news/t/571842   \n",
       "\n",
       "                                                   texts  \n",
       "75999  Хабр\\nβ Открыть список\\nКак стать автором\\nВсе...  \n",
       "32521  Хабр\\nβ Открыть список\\nКак стать автором\\nВсе...  \n",
       "63133  Хабр\\nβ Открыть список\\nКак стать автором\\nВсе...  "
      ]
     },
     "execution_count": 69,
     "metadata": {},
     "output_type": "execute_result"
    }
   ],
   "source": [
    "russian_df.sample(3)"
   ]
  },
  {
   "cell_type": "code",
   "execution_count": 72,
   "id": "162e74dd",
   "metadata": {},
   "outputs": [
    {
     "name": "stderr",
     "output_type": "stream",
     "text": [
      "100%|███████████████████████████████████████| 5130/5130 [04:18<00:00, 19.87it/s]\n"
     ]
    }
   ],
   "source": [
    "edit_texts = []\n",
    "for content in tqdm(contents):\n",
    "    edit_texts.append(normalize_text(content))"
   ]
  },
  {
   "cell_type": "code",
   "execution_count": 73,
   "id": "146adaaf",
   "metadata": {},
   "outputs": [
    {
     "name": "stderr",
     "output_type": "stream",
     "text": [
      "/var/folders/s8/d14ydvrs51j2vffx404b3k0r0000gn/T/ipykernel_67363/127328656.py:1: SettingWithCopyWarning: \n",
      "A value is trying to be set on a copy of a slice from a DataFrame.\n",
      "Try using .loc[row_indexer,col_indexer] = value instead\n",
      "\n",
      "See the caveats in the documentation: https://pandas.pydata.org/pandas-docs/stable/user_guide/indexing.html#returning-a-view-versus-a-copy\n",
      "  russian_df['normilized texts'] = edit_texts\n"
     ]
    }
   ],
   "source": [
    "russian_df['normilized texts'] = edit_texts"
   ]
  },
  {
   "cell_type": "code",
   "execution_count": 74,
   "id": "b16e6cd5",
   "metadata": {},
   "outputs": [
    {
     "data": {
      "text/plain": [
       "(5130, 4)"
      ]
     },
     "execution_count": 74,
     "metadata": {},
     "output_type": "execute_result"
    }
   ],
   "source": [
    "russian_df.shape"
   ]
  },
  {
   "cell_type": "code",
   "execution_count": 77,
   "id": "65b1d553",
   "metadata": {},
   "outputs": [],
   "source": [
    "df_n = russian_df.drop(russian_df[russian_df['normilized texts'] == ''].index, inplace = False)"
   ]
  },
  {
   "cell_type": "code",
   "execution_count": 78,
   "id": "60008f81",
   "metadata": {},
   "outputs": [
    {
     "data": {
      "text/plain": [
       "(4971, 4)"
      ]
     },
     "execution_count": 78,
     "metadata": {},
     "output_type": "execute_result"
    }
   ],
   "source": [
    "df_n.shape"
   ]
  },
  {
   "cell_type": "code",
   "execution_count": 137,
   "id": "a2874d97",
   "metadata": {},
   "outputs": [],
   "source": [
    "df_n['category1'] = ['']*df_n.shape[0]"
   ]
  },
  {
   "cell_type": "code",
   "execution_count": 138,
   "id": "a87d8635",
   "metadata": {},
   "outputs": [],
   "source": [
    "df_n['category2'] = ['']*df_n.shape[0]"
   ]
  },
  {
   "cell_type": "code",
   "execution_count": 139,
   "id": "bcbbc2a9",
   "metadata": {},
   "outputs": [
    {
     "data": {
      "text/html": [
       "<div>\n",
       "<style scoped>\n",
       "    .dataframe tbody tr th:only-of-type {\n",
       "        vertical-align: middle;\n",
       "    }\n",
       "\n",
       "    .dataframe tbody tr th {\n",
       "        vertical-align: top;\n",
       "    }\n",
       "\n",
       "    .dataframe thead th {\n",
       "        text-align: right;\n",
       "    }\n",
       "</style>\n",
       "<table border=\"1\" class=\"dataframe\">\n",
       "  <thead>\n",
       "    <tr style=\"text-align: right;\">\n",
       "      <th></th>\n",
       "      <th>category</th>\n",
       "      <th>url</th>\n",
       "      <th>texts</th>\n",
       "      <th>normilized texts</th>\n",
       "      <th>category1</th>\n",
       "      <th>category2</th>\n",
       "    </tr>\n",
       "  </thead>\n",
       "  <tbody>\n",
       "    <tr>\n",
       "      <th>63660</th>\n",
       "      <td>ORG</td>\n",
       "      <td>https://habr.com/ru/news/t/572092</td>\n",
       "      <td>Хабр\\nβ Открыть список\\nКак стать автором\\nВсе...</td>\n",
       "      <td>mailru group партнёрство основатель skillbox ч...</td>\n",
       "      <td></td>\n",
       "      <td></td>\n",
       "    </tr>\n",
       "    <tr>\n",
       "      <th>27582</th>\n",
       "      <td>EVENTS</td>\n",
       "      <td>https://habr.com/ru/news/t/575110</td>\n",
       "      <td>Хабр\\nβ Открыть список\\nКак стать автором\\nВсе...</td>\n",
       "      <td>россииский школьник завоевать золото европеиск...</td>\n",
       "      <td></td>\n",
       "      <td></td>\n",
       "    </tr>\n",
       "    <tr>\n",
       "      <th>65330</th>\n",
       "      <td>INTROS</td>\n",
       "      <td>https://habr.com/ru/news/t/572746</td>\n",
       "      <td>Хабр\\nβ Открыть список\\nКак стать автором\\nВсе...</td>\n",
       "      <td>россииский клиент visa дать возможность удалят...</td>\n",
       "      <td></td>\n",
       "      <td></td>\n",
       "    </tr>\n",
       "  </tbody>\n",
       "</table>\n",
       "</div>"
      ],
      "text/plain": [
       "      category                                url  \\\n",
       "63660      ORG  https://habr.com/ru/news/t/572092   \n",
       "27582   EVENTS  https://habr.com/ru/news/t/575110   \n",
       "65330   INTROS  https://habr.com/ru/news/t/572746   \n",
       "\n",
       "                                                   texts  \\\n",
       "63660  Хабр\\nβ Открыть список\\nКак стать автором\\nВсе...   \n",
       "27582  Хабр\\nβ Открыть список\\nКак стать автором\\nВсе...   \n",
       "65330  Хабр\\nβ Открыть список\\nКак стать автором\\nВсе...   \n",
       "\n",
       "                                        normilized texts category1 category2  \n",
       "63660  mailru group партнёрство основатель skillbox ч...                      \n",
       "27582  россииский школьник завоевать золото европеиск...                      \n",
       "65330  россииский клиент visa дать возможность удалят...                      "
      ]
     },
     "execution_count": 139,
     "metadata": {},
     "output_type": "execute_result"
    }
   ],
   "source": [
    "df_n.sample(3)"
   ]
  },
  {
   "cell_type": "code",
   "execution_count": 87,
   "id": "2fcc804b",
   "metadata": {},
   "outputs": [],
   "source": [
    "vectr_texts = vectorizer.transform(list(df_n['normilized texts']))"
   ]
  },
  {
   "cell_type": "code",
   "execution_count": 88,
   "id": "8da650be",
   "metadata": {},
   "outputs": [],
   "source": [
    "df_one = pd.DataFrame(vectr_texts.toarray(), columns=vectorizer.get_feature_names_out())"
   ]
  },
  {
   "cell_type": "code",
   "execution_count": 89,
   "id": "c549a6b7",
   "metadata": {},
   "outputs": [
    {
     "data": {
      "text/plain": [
       "(4971, 45329)"
      ]
     },
     "execution_count": 89,
     "metadata": {},
     "output_type": "execute_result"
    }
   ],
   "source": [
    "df_one.shape"
   ]
  },
  {
   "cell_type": "code",
   "execution_count": 140,
   "id": "c50883ff",
   "metadata": {
    "scrolled": true
   },
   "outputs": [
    {
     "name": "stderr",
     "output_type": "stream",
     "text": [
      "100%|███████████████████████████████████████| 4971/4971 [04:10<00:00, 19.81it/s]\n"
     ]
    }
   ],
   "source": [
    "i = 0\n",
    "for _, row in tqdm(df_n.iterrows(), total=df_n.shape[0]):\n",
    "    vectr = vectorizer.transform([row['normilized texts']])\n",
    "    df_one = pd.DataFrame(vectr.toarray(), columns=vectorizer.get_feature_names_out())\n",
    "    df_one = df_one.stack().reset_index()\n",
    "    df_one = df_one.sort_values(by=[0], ascending=False)\n",
    "    check = set(df_one.head(50)['level_1'])\n",
    "    res = predictCategory(check, dictResult)\n",
    "    row['category'] = res[0]\n",
    "    row['category1'] = res[1]\n",
    "    row['category2'] = res[2]"
   ]
  },
  {
   "cell_type": "code",
   "execution_count": 156,
   "id": "f432b765",
   "metadata": {},
   "outputs": [],
   "source": [
    "def get_urls_predict_category(i):\n",
    "    elem = list(df_n.groupby(by = 'category'))[i]\n",
    "    print(elem[0])\n",
    "    print(len(elem[1]['url']))\n",
    "    print(elem[1]['url'])"
   ]
  },
  {
   "cell_type": "code",
   "execution_count": 152,
   "id": "d1b932d3",
   "metadata": {},
   "outputs": [],
   "source": [
    "df_new = pd.DataFrame(columns=['url', 'category'])"
   ]
  },
  {
   "cell_type": "code",
   "execution_count": 157,
   "id": "e07eb854",
   "metadata": {
    "scrolled": true
   },
   "outputs": [
    {
     "name": "stdout",
     "output_type": "stream",
     "text": [
      "DATABASES\n",
      "77\n",
      "1808     https://habr.com/ru/news/t/587616\n",
      "8995     https://habr.com/ru/news/t/582948\n",
      "9234       https://habr.com/ru/post/587216\n",
      "9308       https://habr.com/ru/post/588526\n",
      "11848      https://habr.com/ru/post/590351\n",
      "12266    https://habr.com/ru/news/t/584446\n",
      "16161    https://habr.com/ru/news/t/581962\n",
      "17885      https://habr.com/ru/post/583014\n",
      "18786    https://habr.com/ru/news/t/583482\n",
      "19486    https://habr.com/ru/news/t/583704\n",
      "21477    https://habr.com/ru/news/t/584698\n",
      "22737    https://habr.com/ru/news/t/573186\n",
      "23507    https://habr.com/ru/news/t/573464\n",
      "23543      https://habr.com/ru/post/569256\n",
      "25650      https://habr.com/ru/post/570330\n",
      "26208      https://habr.com/ru/post/574548\n",
      "28887    https://habr.com/ru/news/t/575530\n",
      "28917    https://habr.com/ru/news/t/575822\n",
      "31161    https://habr.com/ru/news/t/577130\n",
      "31599    https://habr.com/ru/news/t/577322\n",
      "32103    https://habr.com/ru/news/t/577344\n",
      "32966    https://habr.com/ru/news/t/578002\n",
      "35762      https://habr.com/ru/post/577662\n",
      "37568    https://habr.com/ru/news/t/580532\n",
      "37741      https://habr.com/ru/post/580040\n",
      "40692      https://habr.com/ru/post/592797\n",
      "42124      https://habr.com/ru/post/526470\n",
      "42134      https://habr.com/ru/post/521190\n",
      "42252      https://habr.com/ru/post/527164\n",
      "42351      https://habr.com/ru/post/528130\n",
      "42638      https://habr.com/ru/post/530992\n",
      "42645      https://habr.com/ru/post/530774\n",
      "42799      https://habr.com/ru/post/532460\n",
      "42995      https://habr.com/ru/post/532864\n",
      "43604      https://habr.com/ru/post/538156\n",
      "43606      https://habr.com/ru/post/536732\n",
      "43894      https://habr.com/ru/post/538510\n",
      "44422      https://habr.com/ru/post/539810\n",
      "44481      https://habr.com/ru/post/540332\n",
      "45903      https://habr.com/ru/post/543960\n",
      "45908      https://habr.com/ru/post/544026\n",
      "46116      https://habr.com/ru/post/544634\n",
      "47299      https://habr.com/ru/post/547314\n",
      "48201      https://habr.com/ru/post/548450\n",
      "48543      https://habr.com/ru/post/552034\n",
      "49039      https://habr.com/ru/post/554712\n",
      "49671      https://habr.com/ru/post/556896\n",
      "49819      https://habr.com/ru/post/557232\n",
      "50258    https://habr.com/ru/news/t/559290\n",
      "50329      https://habr.com/ru/post/559574\n",
      "50391      https://habr.com/ru/post/559824\n",
      "50458      https://habr.com/ru/post/560076\n",
      "50464      https://habr.com/ru/post/559846\n",
      "50516      https://habr.com/ru/post/559222\n",
      "50555      https://habr.com/ru/post/558346\n",
      "51078      https://habr.com/ru/post/562498\n",
      "51282    https://habr.com/ru/news/t/563288\n",
      "51802      https://habr.com/ru/post/563636\n",
      "52053      https://habr.com/ru/post/566274\n",
      "52218    https://habr.com/ru/news/t/566906\n",
      "52387      https://habr.com/ru/post/567698\n",
      "52700    https://habr.com/ru/news/t/567872\n",
      "55190      https://habr.com/ru/post/568624\n",
      "56701      https://habr.com/ru/post/569398\n",
      "59061    https://habr.com/ru/news/t/570376\n",
      "61312      https://habr.com/ru/post/571214\n",
      "61376    https://habr.com/ru/news/t/571260\n",
      "64357      https://habr.com/ru/post/572288\n",
      "65940      https://habr.com/ru/post/573036\n",
      "67018    https://habr.com/ru/news/t/586164\n",
      "67046    https://habr.com/ru/news/t/586080\n",
      "67066      https://habr.com/ru/post/585200\n",
      "68672    https://habr.com/ru/news/t/589331\n",
      "74241    https://habr.com/ru/news/t/573194\n",
      "74506      https://habr.com/ru/post/574058\n",
      "74515    https://habr.com/ru/news/t/574060\n",
      "74957    https://habr.com/ru/news/t/578038\n",
      "Name: url, dtype: object\n"
     ]
    }
   ],
   "source": [
    "get_urls_predict_category(0)"
   ]
  },
  {
   "cell_type": "code",
   "execution_count": null,
   "id": "801e71ec",
   "metadata": {},
   "outputs": [],
   "source": [
    "32103, 8995, 11848, 16161, 28917, 31599, 37568, 42252, 42351, 42995, 43894, 44422, 44481, 45903, 45908, \n",
    "46116(здесь остановился)"
   ]
  },
  {
   "cell_type": "code",
   "execution_count": 36,
   "id": "c5950e1e",
   "metadata": {},
   "outputs": [],
   "source": [
    "df_new = pd.DataFrame(columns = ['url', 'category'])"
   ]
  },
  {
   "cell_type": "code",
   "execution_count": 18,
   "id": "1509d0be",
   "metadata": {},
   "outputs": [
    {
     "name": "stderr",
     "output_type": "stream",
     "text": [
      "Exception ignored in: <function tqdm.__del__ at 0x11f692660>\n",
      "Traceback (most recent call last):\n",
      "  File \"/usr/local/lib/python3.11/site-packages/tqdm/std.py\", line 1162, in __del__\n",
      "    self.close()\n",
      "  File \"/usr/local/lib/python3.11/site-packages/tqdm/notebook.py\", line 288, in close\n",
      "    self.disp(bar_style='danger', check_delay=False)\n",
      "    ^^^^^^^^^\n",
      "AttributeError: 'tqdm_notebook' object has no attribute 'disp'\n"
     ]
    }
   ],
   "source": [
    "texts = []\n",
    "for _, row in df_new.iterrows():\n",
    "    texts.append(getContentTextFromMinLen(row['url']))"
   ]
  },
  {
   "cell_type": "code",
   "execution_count": 21,
   "id": "a8f33c7b",
   "metadata": {},
   "outputs": [],
   "source": [
    "df_new['document'] = texts"
   ]
  },
  {
   "cell_type": "code",
   "execution_count": 38,
   "id": "68885fe8",
   "metadata": {},
   "outputs": [],
   "source": [
    "df_new.drop (columns=df_new.columns[1], axis= 1 , inplace= True )"
   ]
  },
  {
   "cell_type": "code",
   "execution_count": 29,
   "id": "2bdd2735",
   "metadata": {},
   "outputs": [],
   "source": [
    "df_new = df_new[['document', 'category']]"
   ]
  },
  {
   "cell_type": "code",
   "execution_count": 40,
   "id": "7da318cb",
   "metadata": {},
   "outputs": [],
   "source": [
    "df_new.to_csv('predict_test_wp.csv')"
   ]
  },
  {
   "cell_type": "code",
   "execution_count": 37,
   "id": "8a147cc0",
   "metadata": {},
   "outputs": [],
   "source": [
    "df_new.loc[len(df_new)] = ['https://habr.com/ru/post/538156', 'DEVOPS']\n",
    "df_new.loc[len(df_new)] = ['https://habr.com/ru/post/536732', 'DEVOPS']\n",
    "df_new.loc[len(df_new)] = ['https://habr.com/ru/news/t/587616', 'OPENING']\n",
    "df_new.loc[len(df_new)] = ['https://habr.com/ru/post/587216', 'SYSADM']\n",
    "df_new.loc[len(df_new)] = ['https://habr.com/ru/post/588526', 'SYSADM']\n",
    "df_new.loc[len(df_new)] = ['https://habr.com/ru/news/t/584446', 'USER']\n",
    "df_new.loc[len(df_new)] = ['https://habr.com/ru/post/583014', 'SYSADM']\n",
    "#df_new.loc[len(df_new)] = ['https://habr.com/ru/news/t/583482', 'EVENTS']\n",
    "df_new.loc[len(df_new)] = ['https://habr.com/ru/news/t/583704', 'DATABASES']\n",
    "df_new.loc[len(df_new)] = ['https://habr.com/ru/news/t/584698', 'SECURITY']\n",
    "df_new.loc[len(df_new)] = ['https://habr.com/ru/news/t/573186', 'SECURITY']\n",
    "df_new.loc[len(df_new)] = ['https://habr.com/ru/news/t/573464', 'INTROS']\n",
    "df_new.loc[len(df_new)] = ['https://habr.com/ru/post/569256', 'DEVOPS']\n",
    "df_new.loc[len(df_new)] = ['https://habr.com/ru/post/570330', 'SYSADM']\n",
    "df_new.loc[len(df_new)] = ['https://habr.com/ru/post/574548', 'SYSADM']\n",
    "df_new.loc[len(df_new)] = ['https://habr.com/ru/news/t/575530', 'DATABASES']\n",
    "df_new.loc[len(df_new)] = ['https://habr.com/ru/news/t/578002', 'SEQURITY']\n",
    "df_new.loc[len(df_new)] = ['https://habr.com/ru/post/577662', 'DEVOPS']\n",
    "df_new.loc[len(df_new)] = ['https://habr.com/ru/post/580040', 'DEV']\n",
    "df_new.loc[len(df_new)] = ['https://habr.com/ru/post/592797', 'DEVOPS']\n",
    "df_new.loc[len(df_new)] = ['https://habr.com/ru/post/526470', 'SYSADM']\n",
    "df_new.loc[len(df_new)] = ['https://habr.com/ru/post/521190', 'SYSADM']\n",
    "df_new.loc[len(df_new)] = ['https://habr.com/ru/post/530774', 'SYSADM']\n",
    "df_new.loc[len(df_new)] = ['https://habr.com/ru/post/530992', 'DEVOPS']\n",
    "df_new.loc[len(df_new)] = ['https://habr.com/ru/post/532460', 'DEVOPS']"
   ]
  },
  {
   "cell_type": "code",
   "execution_count": 120,
   "id": "ce591c62",
   "metadata": {},
   "outputs": [
    {
     "name": "stdout",
     "output_type": "stream",
     "text": [
      "HISTORY\n",
      "22\n"
     ]
    },
    {
     "data": {
      "text/plain": [
       "7694     https://habr.com/ru/news/t/592827\n",
       "8326     https://habr.com/ru/news/t/588943\n",
       "10564    https://habr.com/ru/news/t/583622\n",
       "16407    https://habr.com/ru/news/t/582276\n",
       "20296    https://habr.com/ru/news/t/584124\n",
       "21571    https://habr.com/ru/news/t/584752\n",
       "30033    https://habr.com/ru/news/t/576504\n",
       "30674    https://habr.com/ru/news/t/576848\n",
       "32975    https://habr.com/ru/news/t/578066\n",
       "34112    https://habr.com/ru/news/t/578682\n",
       "35060    https://habr.com/ru/news/t/579234\n",
       "37392    https://habr.com/ru/news/t/580480\n",
       "37561    https://habr.com/ru/news/t/580542\n",
       "37812    https://habr.com/ru/news/t/580616\n",
       "42579      https://habr.com/ru/post/530480\n",
       "51146      https://habr.com/ru/post/559566\n",
       "51996    https://habr.com/ru/news/t/566054\n",
       "54061    https://habr.com/ru/news/t/568372\n",
       "61309    https://habr.com/ru/news/t/571226\n",
       "68294    https://habr.com/ru/news/t/586420\n",
       "71986    https://habr.com/ru/news/t/587210\n",
       "75574    https://habr.com/ru/news/t/578402\n",
       "Name: url, dtype: object"
      ]
     },
     "execution_count": 120,
     "metadata": {},
     "output_type": "execute_result"
    }
   ],
   "source": [
    "get_urls_predict_category(9)"
   ]
  }
 ],
 "metadata": {
  "kernelspec": {
   "display_name": "Python 3 (ipykernel)",
   "language": "python",
   "name": "python3"
  },
  "language_info": {
   "codemirror_mode": {
    "name": "ipython",
    "version": 3
   },
   "file_extension": ".py",
   "mimetype": "text/x-python",
   "name": "python",
   "nbconvert_exporter": "python",
   "pygments_lexer": "ipython3",
   "version": "3.11.1"
  }
 },
 "nbformat": 4,
 "nbformat_minor": 5
}
